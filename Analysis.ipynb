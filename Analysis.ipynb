{
 "cells": [
  {
   "cell_type": "code",
   "execution_count": 106,
   "metadata": {
    "ExecuteTime": {
     "end_time": "2024-01-17T19:39:10.335789Z",
     "start_time": "2024-01-17T19:39:10.330460Z"
    },
    "collapsed": true
   },
   "outputs": [],
   "source": [
    "import pandas as pd\n",
    "import numpy as np\n",
    "import matplotlib.pyplot as plt\n",
    "from statsmodels.stats import inter_rater"
   ]
  },
  {
   "cell_type": "code",
   "execution_count": 135,
   "metadata": {
    "ExecuteTime": {
     "end_time": "2024-01-17T19:39:10.751903Z",
     "start_time": "2024-01-17T19:39:10.692812Z"
    },
    "collapsed": false
   },
   "outputs": [],
   "source": [
    "workers_answers = pd.read_csv(\"Crowd_Frame riscaricato/data/result/task1/Dataframe/workers_answers.csv\")\n",
    "workers_questionnaire = pd.read_csv(\"Crowd_Frame riscaricato/data/result/task1/Dataframe/workers_questionnaire.csv\")\n",
    "workers_dimensions_selection = pd.read_csv(\"Crowd_Frame riscaricato/data/result/task1/Dataframe/workers_dimensions_selection.csv\")\n"
   ]
  },
  {
   "cell_type": "code",
   "execution_count": 123,
   "metadata": {
    "collapsed": false
   },
   "outputs": [
    {
     "name": "stdout",
     "output_type": "stream",
     "text": [
      "question_answer_text\n",
      "18-24    0.933333\n",
      "25-34    0.066667\n",
      "Name: count, dtype: float64\n",
      "question_answer_text\n",
      "Male      0.8\n",
      "Female    0.2\n",
      "Name: count, dtype: float64\n",
      "question_answer_text\n",
      "A few times a week    0.466667\n",
      "Never                 0.200000\n",
      "Rarely                0.200000\n",
      "Once a month          0.066667\n",
      "Every day             0.066667\n",
      "Name: count, dtype: float64\n",
      "question_answer_text\n",
      "Rarely (for 20% of products)                     0.666667\n",
      "Occasionally (for 50% of products)               0.133333\n",
      "Never (I'm not interested in writing reviews)    0.133333\n",
      "Often (for 80% of products)                      0.066667\n",
      "Name: count, dtype: float64\n",
      "question_answer_text\n",
      "Quite inclined (yes, they influence my purchase decision)    0.533333\n",
      "Very inclined (yes, I decisively base my choices)            0.266667\n",
      "Moderately inclined (yes, I consider them but not only)      0.133333\n",
      "Not very inclined (no, I consider other factors)             0.066667\n",
      "Name: count, dtype: float64\n"
     ]
    }
   ],
   "source": [
    "workers_answers\n",
    "\n",
    "Age = workers_questionnaire[workers_questionnaire['question_attribute_name'] == \"Age\"]\n",
    "absolute_frequencies_Age = Age['question_answer_text'].value_counts()\n",
    "relative_frequencies_Age = absolute_frequencies_Age / len(Age)\n",
    "print(relative_frequencies_Age)\n",
    "\n",
    "Gender = workers_questionnaire[workers_questionnaire['question_attribute_name'] == \"Gender\"]\n",
    "absolute_frequencies_Gender = Gender['question_answer_text'].value_counts()\n",
    "relative_frequencies_Gender = absolute_frequencies_Gender / len(Gender)\n",
    "print(relative_frequencies_Gender)\n",
    "\n",
    "Gaming_Frequency = workers_questionnaire[workers_questionnaire['question_attribute_name'] == \"Gaming Frequency\"]\n",
    "absolute_frequencies_Gaming_Frequency = Gaming_Frequency['question_answer_text'].value_counts()\n",
    "relative_frequencies_Gaming_Frequency = absolute_frequencies_Gaming_Frequency / len(Gaming_Frequency)\n",
    "print(relative_frequencies_Gaming_Frequency)\n",
    "\n",
    "Write_Reviews = workers_questionnaire[workers_questionnaire['question_attribute_name'] == \"Reliance on Reviews\"]\n",
    "absolute_frequencies_Write_Reviews = Write_Reviews['question_answer_text'].value_counts()\n",
    "relative_frequencies_Write_Reviews = absolute_frequencies_Write_Reviews / len(Write_Reviews)\n",
    "print(relative_frequencies_Write_Reviews)\n",
    "\n",
    "Trust_Reviews = workers_questionnaire[workers_questionnaire['question_attribute_name'] == \"Trust in Reviews\"]\n",
    "absolute_frequencies_Trust_Reviews = Trust_Reviews['question_answer_text'].value_counts()\n",
    "relative_frequencies_Trust_Reviews = absolute_frequencies_Trust_Reviews / len(Trust_Reviews)\n",
    "print(relative_frequencies_Trust_Reviews)"
   ]
  },
  {
   "cell_type": "code",
   "execution_count": 124,
   "metadata": {
    "ExecuteTime": {
     "end_time": "2024-01-17T19:39:11.162442Z",
     "start_time": "2024-01-17T19:39:11.151731Z"
    },
    "collapsed": false
   },
   "outputs": [],
   "source": [
    "absolute_frequencies = workers_questionnaire['question_answer_text'].value_counts()\n",
    "relative_frequencies = absolute_frequencies / len(workers_questionnaire)\n",
    "\n",
    "average_confidence = workers_answers.groupby('document_index')['Confidence_value'].mean()\n",
    "average_time_elapsed = workers_answers.groupby('document_index')['time_elapsed'].mean()"
   ]
  },
  {
   "cell_type": "code",
   "execution_count": 125,
   "metadata": {
    "ExecuteTime": {
     "end_time": "2024-01-17T19:39:11.617296Z",
     "start_time": "2024-01-17T19:39:11.611847Z"
    },
    "collapsed": false
   },
   "outputs": [],
   "source": [
    "#da verificare\n",
    "total_units = len(workers_answers)\n",
    "matching_units = workers_answers[workers_answers['Reliability_value'] == workers_answers['Reliability_value']].shape[0]\n",
    "\n",
    "percent_agreement = (matching_units / total_units) * 100"
   ]
  },
  {
   "cell_type": "code",
   "execution_count": 126,
   "metadata": {
    "collapsed": false
   },
   "outputs": [
    {
     "name": "stdout",
     "output_type": "stream",
     "text": [
      "   document_id  Neutrality_index\n",
      "0   B00PNVOBTC               4.0\n",
      "1   B00PNVOBTC               3.0\n",
      "2   B00PNVOBTC               4.0\n",
      "3   B00PNVOBTC               2.0\n",
      "4   B00PNVOBTC               3.0\n",
      "..         ...               ...\n",
      "70  B00QTSR5GO               4.0\n",
      "71  B00QTSR5GO               3.0\n",
      "72  B00QTSR5GO               4.0\n",
      "73  B00QTSR5GO               3.0\n",
      "74  B00QTSR5GO               2.0\n",
      "\n",
      "[75 rows x 2 columns]\n"
     ]
    }
   ],
   "source": [
    "# Inizializza una lista per i risultati\n",
    "result_list = []\n",
    "\n",
    "# Cicla sui valori unici della colonna document_id\n",
    "for doc_id in workers_answers['document_id'].unique():\n",
    "    # Filtra il DataFrame per il documento corrente\n",
    "    doc_df = workers_answers[workers_answers['document_id'] == doc_id]\n",
    "\n",
    "    # Conserva solo la prima risposta per ogni worker_id\n",
    "    unique_worker_ids = doc_df['worker_id'].unique()\n",
    "    for worker_id in unique_worker_ids:\n",
    "        first_answer_idx = doc_df[doc_df['worker_id'] == worker_id].index[0]\n",
    "        first_answer_row = doc_df.loc[first_answer_idx]\n",
    "        result_list.append({'document_id': doc_id, 'Neutrality_index': first_answer_row['Neutrality_index']})\n",
    "\n",
    "# Crea un DataFrame dai risultati\n",
    "result_df = pd.DataFrame(result_list)\n",
    "#print(result_df)# Visualizza il DataFrame risultante\n",
    "print(result_df)\n",
    "\n",
    "# Raggruppa per document_id e calcola la percentuale di accordo\n",
    "grouped_df = result_df.groupby('document_id')['Neutrality_index'].value_counts(normalize=True).mul(100).unstack().fillna(0)\n",
    "\n",
    "# Visualizza il DataFrame risultante\n",
    "#print(grouped_df)"
   ]
  },
  {
   "cell_type": "code",
   "execution_count": 127,
   "metadata": {
    "collapsed": false
   },
   "outputs": [
    {
     "name": "stdout",
     "output_type": "stream",
     "text": [
      "   document_id  Percent_Agreement\n",
      "0   B00004SVUZ          26.666667\n",
      "1   B00006JN5L          20.000000\n",
      "2   B0001DHQPI          13.333333\n",
      "3   B0002KMHD6          26.666667\n",
      "4   B000O39U3Q          13.333333\n",
      "5   B001DYVHY0          13.333333\n",
      "6   B0029MAXR2          13.333333\n",
      "7   B003TO59D2          13.333333\n",
      "8   B0041RUM0Q          20.000000\n",
      "9   B0050SYWGU          20.000000\n",
      "10  B005ZNWT4C          26.666667\n",
      "11  B00PNVOBTC          13.333333\n",
      "12  B00QTSR5GO          13.333333\n",
      "13  B015XC3B46          26.666667\n",
      "14  B01G6LXXWI          13.333333\n"
     ]
    }
   ],
   "source": [
    "grouped_df = result_df.groupby(['document_id', 'Neutrality_index']).size().reset_index(name='counts')\n",
    "\n",
    "# Crea un DataFrame pivot per avere le Neutrality_description come colonne\n",
    "pivot_df = grouped_df.pivot(index='document_id', columns='Neutrality_index', values='counts').fillna(0)\n",
    "\n",
    "# Calcola la percentuale di accordo per ciascun document_id\n",
    "total_documents = pivot_df.shape[0]\n",
    "matching_values = pivot_df.apply(lambda row: row.max(), axis=1)\n",
    "percent_agreement = (matching_values / total_documents) * 100\n",
    "\n",
    "# Visualizza il DataFrame risultante con la percentuale di accordo per ciascun document_id\n",
    "result_percent_df = pd.DataFrame({'document_id': percent_agreement.index, 'Percent_Agreement': percent_agreement.values})\n",
    "\n",
    "print(result_percent_df)"
   ]
  },
  {
   "cell_type": "code",
   "execution_count": 139,
   "outputs": [
    {
     "name": "stderr",
     "output_type": "stream",
     "text": [
      "/var/folders/4l/y4hbjt2s5tj88m9nnzs8x9qw0000gn/T/ipykernel_58640/2951671747.py:1: UserWarning: Could not infer format, so each element will be parsed individually, falling back to `dateutil`. To ensure parsing is consistent and as-expected, please specify a format.\n",
      "  workers_answers['time_submit_parsed'] = pd.to_datetime(workers_answers['time_submit_parsed'])\n"
     ]
    }
   ],
   "source": [
    "workers_answers['time_submit_parsed'] = pd.to_datetime(workers_answers['time_submit_parsed'])\n",
    "\n",
    "# Itera su ciascun worker_id\n",
    "for worker_id in workers_answers['worker_id'].unique():\n",
    "    # Filtra le righe relative al worker_id corrente\n",
    "    worker_df = workers_answers[workers_answers['worker_id'] == worker_id]\n",
    "\n",
    "    # Trova i document_id duplicati con il time_submit_parsed più basso\n",
    "    duplicate_rows = worker_df[worker_df.duplicated(subset=['document_id'], keep='last')]\n",
    "\n",
    "    # Ottieni gli indici delle righe da eliminare\n",
    "    rows_to_drop = duplicate_rows.index\n",
    "\n",
    "    # Elimina le righe non necessarie\n",
    "    workers_answers = workers_answers.drop(rows_to_drop)\n",
    "\n",
    "\n",
    "\n",
    "\n",
    "\n",
    "\n"
   ],
   "metadata": {
    "collapsed": false
   }
  },
  {
   "cell_type": "code",
   "execution_count": 144,
   "metadata": {
    "collapsed": false
   },
   "outputs": [
    {
     "ename": "KeyError",
     "evalue": "'value'",
     "output_type": "error",
     "traceback": [
      "\u001B[0;31m---------------------------------------------------------------------------\u001B[0m",
      "\u001B[0;31mKeyError\u001B[0m                                  Traceback (most recent call last)",
      "Cell \u001B[0;32mIn[144], line 9\u001B[0m\n\u001B[1;32m      5\u001B[0m workers_task \u001B[38;5;241m=\u001B[39m df_selected\u001B[38;5;241m.\u001B[39mpivot(index\u001B[38;5;241m=\u001B[39m\u001B[38;5;124m\"\u001B[39m\u001B[38;5;124mworker_id\u001B[39m\u001B[38;5;124m\"\u001B[39m, columns\u001B[38;5;241m=\u001B[39m\u001B[38;5;124m\"\u001B[39m\u001B[38;5;124mdocument_id\u001B[39m\u001B[38;5;124m\"\u001B[39m, values\u001B[38;5;241m=\u001B[39m\u001B[38;5;124m\"\u001B[39m\u001B[38;5;124mNeutrality_value\u001B[39m\u001B[38;5;124m\"\u001B[39m)\n\u001B[1;32m      6\u001B[0m workers_task\n\u001B[0;32m----> 9\u001B[0m pivot_table \u001B[38;5;241m=\u001B[39m pd\u001B[38;5;241m.\u001B[39mpivot_table(workers_task, values\u001B[38;5;241m=\u001B[39m\u001B[38;5;124m'\u001B[39m\u001B[38;5;124mvalue\u001B[39m\u001B[38;5;124m'\u001B[39m, index\u001B[38;5;241m=\u001B[39m\u001B[38;5;124m'\u001B[39m\u001B[38;5;124mdocument_id\u001B[39m\u001B[38;5;124m'\u001B[39m, columns\u001B[38;5;241m=\u001B[39m\u001B[38;5;124m'\u001B[39m\u001B[38;5;124mvalue\u001B[39m\u001B[38;5;124m'\u001B[39m, aggfunc\u001B[38;5;241m=\u001B[39m\u001B[38;5;124m'\u001B[39m\u001B[38;5;124mcount\u001B[39m\u001B[38;5;124m'\u001B[39m, fill_value\u001B[38;5;241m=\u001B[39m\u001B[38;5;241m0\u001B[39m)\n\u001B[1;32m     11\u001B[0m \u001B[38;5;28mprint\u001B[39m(pivot_table)\n",
      "File \u001B[0;32m~/anaconda3/lib/python3.11/site-packages/pandas/core/reshape/pivot.py:97\u001B[0m, in \u001B[0;36mpivot_table\u001B[0;34m(data, values, index, columns, aggfunc, fill_value, margins, dropna, margins_name, observed, sort)\u001B[0m\n\u001B[1;32m     94\u001B[0m     table \u001B[38;5;241m=\u001B[39m concat(pieces, keys\u001B[38;5;241m=\u001B[39mkeys, axis\u001B[38;5;241m=\u001B[39m\u001B[38;5;241m1\u001B[39m)\n\u001B[1;32m     95\u001B[0m     \u001B[38;5;28;01mreturn\u001B[39;00m table\u001B[38;5;241m.\u001B[39m__finalize__(data, method\u001B[38;5;241m=\u001B[39m\u001B[38;5;124m\"\u001B[39m\u001B[38;5;124mpivot_table\u001B[39m\u001B[38;5;124m\"\u001B[39m)\n\u001B[0;32m---> 97\u001B[0m table \u001B[38;5;241m=\u001B[39m __internal_pivot_table(\n\u001B[1;32m     98\u001B[0m     data,\n\u001B[1;32m     99\u001B[0m     values,\n\u001B[1;32m    100\u001B[0m     index,\n\u001B[1;32m    101\u001B[0m     columns,\n\u001B[1;32m    102\u001B[0m     aggfunc,\n\u001B[1;32m    103\u001B[0m     fill_value,\n\u001B[1;32m    104\u001B[0m     margins,\n\u001B[1;32m    105\u001B[0m     dropna,\n\u001B[1;32m    106\u001B[0m     margins_name,\n\u001B[1;32m    107\u001B[0m     observed,\n\u001B[1;32m    108\u001B[0m     sort,\n\u001B[1;32m    109\u001B[0m )\n\u001B[1;32m    110\u001B[0m \u001B[38;5;28;01mreturn\u001B[39;00m table\u001B[38;5;241m.\u001B[39m__finalize__(data, method\u001B[38;5;241m=\u001B[39m\u001B[38;5;124m\"\u001B[39m\u001B[38;5;124mpivot_table\u001B[39m\u001B[38;5;124m\"\u001B[39m)\n",
      "File \u001B[0;32m~/anaconda3/lib/python3.11/site-packages/pandas/core/reshape/pivot.py:143\u001B[0m, in \u001B[0;36m__internal_pivot_table\u001B[0;34m(data, values, index, columns, aggfunc, fill_value, margins, dropna, margins_name, observed, sort)\u001B[0m\n\u001B[1;32m    141\u001B[0m \u001B[38;5;28;01mfor\u001B[39;00m i \u001B[38;5;129;01min\u001B[39;00m values:\n\u001B[1;32m    142\u001B[0m     \u001B[38;5;28;01mif\u001B[39;00m i \u001B[38;5;129;01mnot\u001B[39;00m \u001B[38;5;129;01min\u001B[39;00m data:\n\u001B[0;32m--> 143\u001B[0m         \u001B[38;5;28;01mraise\u001B[39;00m \u001B[38;5;167;01mKeyError\u001B[39;00m(i)\n\u001B[1;32m    145\u001B[0m to_filter \u001B[38;5;241m=\u001B[39m []\n\u001B[1;32m    146\u001B[0m \u001B[38;5;28;01mfor\u001B[39;00m x \u001B[38;5;129;01min\u001B[39;00m keys \u001B[38;5;241m+\u001B[39m values:\n",
      "\u001B[0;31mKeyError\u001B[0m: 'value'"
     ]
    }
   ],
   "source": [
    "\n",
    "selected_columns = [\"document_id\", \"worker_id\", \"Neutrality_value\"]\n",
    "df_selected = workers_answers[selected_columns]\n",
    "\n",
    "# Utilizzare pivot per trasformare i dati\n",
    "workers_task = df_selected.pivot(index=\"worker_id\", columns=\"document_id\", values=\"Neutrality_value\")\n",
    "workers_task\n",
    "\n",
    "\n",
    "\n"
   ]
  },
  {
   "cell_type": "code",
   "execution_count": 159,
   "outputs": [
    {
     "name": "stdout",
     "output_type": "stream",
     "text": [
      "Neutrality_value  -2.0  -1.0   0.0   1.0   2.0\n",
      "document_id                                   \n",
      "B00004SVUZ           0     0     1     4     0\n",
      "B00006JN5L           3     0     2     0     0\n",
      "B0001DHQPI           1     2     0     2     0\n",
      "B0002KMHD6           0     0     1     4     0\n",
      "B000O39U3Q           1     1     0     2     1\n",
      "B001DYVHY0           0     1     0     2     2\n",
      "B0029MAXR2           0     2     1     2     0\n",
      "B003TO59D2           2     2     0     0     1\n",
      "B0041RUM0Q           0     0     0     3     2\n",
      "B0050SYWGU           0     0     1     3     1\n",
      "B005ZNWT4C           4     0     0     1     0\n",
      "B00PNVOBTC           0     0     1     2     2\n",
      "B00QTSR5GO           0     0     1     2     2\n",
      "B015XC3B46           0     1     0     4     0\n",
      "B01G6LXXWI           1     0     1     2     1\n"
     ]
    }
   ],
   "source": [
    "\n",
    "selected_columns = [\"document_id\", \"Neutrality_value\"]\n",
    "df_selected = workers_answers[selected_columns]\n",
    "\n",
    "df_selected.columns.name = None\n",
    "# Usa la funzione pivot_table per ottenere la tabella desiderata con il conteggio degli elementi uguali\n",
    "pivot_table = pd.pivot_table(df_selected, index='document_id', columns='Neutrality_value', aggfunc='size', fill_value=0)\n",
    "\n",
    "print(pivot_table)\n"
   ],
   "metadata": {
    "collapsed": false
   }
  },
  {
   "cell_type": "code",
   "execution_count": 154,
   "outputs": [
    {
     "name": "stdout",
     "output_type": "stream",
     "text": [
      "             Neutrality_value\n",
      "document_id                  \n",
      "B00004SVUZ                  2\n",
      "B00006JN5L                  2\n",
      "B0001DHQPI                  3\n",
      "B0002KMHD6                  2\n",
      "B000O39U3Q                  4\n",
      "B001DYVHY0                  3\n",
      "B0029MAXR2                  3\n",
      "B003TO59D2                  3\n",
      "B0041RUM0Q                  2\n",
      "B0050SYWGU                  3\n",
      "B005ZNWT4C                  2\n",
      "B00PNVOBTC                  3\n",
      "B00QTSR5GO                  3\n",
      "B015XC3B46                  2\n",
      "B01G6LXXWI                  4\n"
     ]
    }
   ],
   "source": [],
   "metadata": {
    "collapsed": false
   }
  },
  {
   "cell_type": "code",
   "execution_count": 160,
   "outputs": [
    {
     "data": {
      "text/plain": "0.07305433186490445"
     },
     "metadata": {},
     "output_type": "display_data"
    }
   ],
   "source": [
    "\n"
   ],
   "metadata": {
    "collapsed": false
   }
  },
  {
   "cell_type": "code",
   "execution_count": null,
   "outputs": [],
   "source": [],
   "metadata": {
    "collapsed": false
   }
  },
  {
   "cell_type": "code",
   "execution_count": 161,
   "outputs": [],
   "source": [
    "def checkInput(rate, n):\n",
    "    \"\"\"\n",
    "    Check correctness of the input matrix\n",
    "    @param rate - ratings matrix\n",
    "    @return n - number of raters\n",
    "    @throws AssertionError\n",
    "    \"\"\"\n",
    "    N = len(rate)\n",
    "    k = len(rate[0])\n",
    "    assert all(len(rate[i]) == k for i in range(k)), \"Row length != #categories)\"\n",
    "    assert all(isinstance(rate[i][j], int) for i in range(N) for j in range(k)), \"Element not integer\"\n",
    "    assert all(sum(row) == n for row in rate), \"Sum of ratings != #raters)\"\n",
    "\n",
    "def fleissKappa(rate,n):\n",
    "    \"\"\"\n",
    "    Computes the Kappa value\n",
    "    @param rate - ratings matrix containing number of ratings for each subject per category\n",
    "    [size - N X k where N = #subjects and k = #categories]\n",
    "    @param n - number of raters\n",
    "    @return fleiss' kappa\n",
    "    \"\"\"\n",
    "\n",
    "    N = len(rate)\n",
    "    k = len(rate[0])\n",
    "    print(\"#raters = \", n, \", #subjects = \", N, \", #categories = \", k)\n",
    "    checkInput(rate, n)\n",
    "\n",
    "    #mean of the extent to which raters agree for the ith subject\n",
    "    PA = sum([(sum([i**2 for i in row])- n) / (n * (n - 1)) for row in rate])/N\n",
    "    print(\"PA = \", PA)\n",
    "\n",
    "    # mean of squares of proportion of all assignments which were to jth category\n",
    "    PE = sum([j**2 for j in [sum([rows[i] for rows in rate])/(N*n) for i in range(k)]])\n",
    "    print(\"PE =\", PE)\n",
    "\n",
    "    kappa = -float(\"inf\")\n",
    "    try:\n",
    "        kappa = (PA - PE) / (1 - PE)\n",
    "        kappa = float(\"{:.3f}\".format(kappa))\n",
    "    except ZeroDivisionError:\n",
    "        print(\"Expected agreement = 1\")\n",
    "\n",
    "    print(\"Fleiss' Kappa =\", kappa)\n",
    "\n",
    "    return kappa"
   ],
   "metadata": {
    "collapsed": false
   }
  },
  {
   "cell_type": "code",
   "execution_count": 162,
   "outputs": [
    {
     "name": "stdout",
     "output_type": "stream",
     "text": [
      "#raters =  5 , #subjects =  15 , #categories =  15\n"
     ]
    },
    {
     "ename": "KeyError",
     "evalue": "3",
     "output_type": "error",
     "traceback": [
      "\u001B[0;31m---------------------------------------------------------------------------\u001B[0m",
      "\u001B[0;31mKeyError\u001B[0m                                  Traceback (most recent call last)",
      "File \u001B[0;32m~/anaconda3/lib/python3.11/site-packages/pandas/core/indexes/base.py:3653\u001B[0m, in \u001B[0;36mIndex.get_loc\u001B[0;34m(self, key)\u001B[0m\n\u001B[1;32m   3652\u001B[0m \u001B[38;5;28;01mtry\u001B[39;00m:\n\u001B[0;32m-> 3653\u001B[0m     \u001B[38;5;28;01mreturn\u001B[39;00m \u001B[38;5;28mself\u001B[39m\u001B[38;5;241m.\u001B[39m_engine\u001B[38;5;241m.\u001B[39mget_loc(casted_key)\n\u001B[1;32m   3654\u001B[0m \u001B[38;5;28;01mexcept\u001B[39;00m \u001B[38;5;167;01mKeyError\u001B[39;00m \u001B[38;5;28;01mas\u001B[39;00m err:\n",
      "File \u001B[0;32m~/anaconda3/lib/python3.11/site-packages/pandas/_libs/index.pyx:147\u001B[0m, in \u001B[0;36mpandas._libs.index.IndexEngine.get_loc\u001B[0;34m()\u001B[0m\n",
      "File \u001B[0;32m~/anaconda3/lib/python3.11/site-packages/pandas/_libs/index.pyx:176\u001B[0m, in \u001B[0;36mpandas._libs.index.IndexEngine.get_loc\u001B[0;34m()\u001B[0m\n",
      "File \u001B[0;32mpandas/_libs/hashtable_class_helper.pxi:1698\u001B[0m, in \u001B[0;36mpandas._libs.hashtable.Float64HashTable.get_item\u001B[0;34m()\u001B[0m\n",
      "File \u001B[0;32mpandas/_libs/hashtable_class_helper.pxi:1722\u001B[0m, in \u001B[0;36mpandas._libs.hashtable.Float64HashTable.get_item\u001B[0;34m()\u001B[0m\n",
      "\u001B[0;31mKeyError\u001B[0m: 3.0",
      "\nThe above exception was the direct cause of the following exception:\n",
      "\u001B[0;31mKeyError\u001B[0m                                  Traceback (most recent call last)",
      "Cell \u001B[0;32mIn[162], line 12\u001B[0m\n\u001B[1;32m     10\u001B[0m \u001B[38;5;66;03m#calcolo fleiss_kappa\u001B[39;00m\n\u001B[1;32m     11\u001B[0m risultato \u001B[38;5;241m=\u001B[39m fleiss_kappa(pivot_table)\n\u001B[0;32m---> 12\u001B[0m risultato2 \u001B[38;5;241m=\u001B[39m fleissKappa(pivot_table,\u001B[38;5;241m5\u001B[39m)\n\u001B[1;32m     13\u001B[0m display(risultato2)\n",
      "Cell \u001B[0;32mIn[161], line 26\u001B[0m, in \u001B[0;36mfleissKappa\u001B[0;34m(rate, n)\u001B[0m\n\u001B[1;32m     24\u001B[0m k \u001B[38;5;241m=\u001B[39m \u001B[38;5;28mlen\u001B[39m(rate[\u001B[38;5;241m0\u001B[39m])\n\u001B[1;32m     25\u001B[0m \u001B[38;5;28mprint\u001B[39m(\u001B[38;5;124m\"\u001B[39m\u001B[38;5;124m#raters = \u001B[39m\u001B[38;5;124m\"\u001B[39m, n, \u001B[38;5;124m\"\u001B[39m\u001B[38;5;124m, #subjects = \u001B[39m\u001B[38;5;124m\"\u001B[39m, N, \u001B[38;5;124m\"\u001B[39m\u001B[38;5;124m, #categories = \u001B[39m\u001B[38;5;124m\"\u001B[39m, k)\n\u001B[0;32m---> 26\u001B[0m checkInput(rate, n)\n\u001B[1;32m     28\u001B[0m \u001B[38;5;66;03m#mean of the extent to which raters agree for the ith subject\u001B[39;00m\n\u001B[1;32m     29\u001B[0m PA \u001B[38;5;241m=\u001B[39m \u001B[38;5;28msum\u001B[39m([(\u001B[38;5;28msum\u001B[39m([i\u001B[38;5;241m*\u001B[39m\u001B[38;5;241m*\u001B[39m\u001B[38;5;241m2\u001B[39m \u001B[38;5;28;01mfor\u001B[39;00m i \u001B[38;5;129;01min\u001B[39;00m row])\u001B[38;5;241m-\u001B[39m n) \u001B[38;5;241m/\u001B[39m (n \u001B[38;5;241m*\u001B[39m (n \u001B[38;5;241m-\u001B[39m \u001B[38;5;241m1\u001B[39m)) \u001B[38;5;28;01mfor\u001B[39;00m row \u001B[38;5;129;01min\u001B[39;00m rate])\u001B[38;5;241m/\u001B[39mN\n",
      "Cell \u001B[0;32mIn[161], line 10\u001B[0m, in \u001B[0;36mcheckInput\u001B[0;34m(rate, n)\u001B[0m\n\u001B[1;32m      8\u001B[0m N \u001B[38;5;241m=\u001B[39m \u001B[38;5;28mlen\u001B[39m(rate)\n\u001B[1;32m      9\u001B[0m k \u001B[38;5;241m=\u001B[39m \u001B[38;5;28mlen\u001B[39m(rate[\u001B[38;5;241m0\u001B[39m])\n\u001B[0;32m---> 10\u001B[0m \u001B[38;5;28;01massert\u001B[39;00m \u001B[38;5;28mall\u001B[39m(\u001B[38;5;28mlen\u001B[39m(rate[i]) \u001B[38;5;241m==\u001B[39m k \u001B[38;5;28;01mfor\u001B[39;00m i \u001B[38;5;129;01min\u001B[39;00m \u001B[38;5;28mrange\u001B[39m(k)), \u001B[38;5;124m\"\u001B[39m\u001B[38;5;124mRow length != #categories)\u001B[39m\u001B[38;5;124m\"\u001B[39m\n\u001B[1;32m     11\u001B[0m \u001B[38;5;28;01massert\u001B[39;00m \u001B[38;5;28mall\u001B[39m(\u001B[38;5;28misinstance\u001B[39m(rate[i][j], \u001B[38;5;28mint\u001B[39m) \u001B[38;5;28;01mfor\u001B[39;00m i \u001B[38;5;129;01min\u001B[39;00m \u001B[38;5;28mrange\u001B[39m(N) \u001B[38;5;28;01mfor\u001B[39;00m j \u001B[38;5;129;01min\u001B[39;00m \u001B[38;5;28mrange\u001B[39m(k)), \u001B[38;5;124m\"\u001B[39m\u001B[38;5;124mElement not integer\u001B[39m\u001B[38;5;124m\"\u001B[39m\n\u001B[1;32m     12\u001B[0m \u001B[38;5;28;01massert\u001B[39;00m \u001B[38;5;28mall\u001B[39m(\u001B[38;5;28msum\u001B[39m(row) \u001B[38;5;241m==\u001B[39m n \u001B[38;5;28;01mfor\u001B[39;00m row \u001B[38;5;129;01min\u001B[39;00m rate), \u001B[38;5;124m\"\u001B[39m\u001B[38;5;124mSum of ratings != #raters)\u001B[39m\u001B[38;5;124m\"\u001B[39m\n",
      "Cell \u001B[0;32mIn[161], line 10\u001B[0m, in \u001B[0;36m<genexpr>\u001B[0;34m(.0)\u001B[0m\n\u001B[1;32m      8\u001B[0m N \u001B[38;5;241m=\u001B[39m \u001B[38;5;28mlen\u001B[39m(rate)\n\u001B[1;32m      9\u001B[0m k \u001B[38;5;241m=\u001B[39m \u001B[38;5;28mlen\u001B[39m(rate[\u001B[38;5;241m0\u001B[39m])\n\u001B[0;32m---> 10\u001B[0m \u001B[38;5;28;01massert\u001B[39;00m \u001B[38;5;28mall\u001B[39m(\u001B[38;5;28mlen\u001B[39m(rate[i]) \u001B[38;5;241m==\u001B[39m k \u001B[38;5;28;01mfor\u001B[39;00m i \u001B[38;5;129;01min\u001B[39;00m \u001B[38;5;28mrange\u001B[39m(k)), \u001B[38;5;124m\"\u001B[39m\u001B[38;5;124mRow length != #categories)\u001B[39m\u001B[38;5;124m\"\u001B[39m\n\u001B[1;32m     11\u001B[0m \u001B[38;5;28;01massert\u001B[39;00m \u001B[38;5;28mall\u001B[39m(\u001B[38;5;28misinstance\u001B[39m(rate[i][j], \u001B[38;5;28mint\u001B[39m) \u001B[38;5;28;01mfor\u001B[39;00m i \u001B[38;5;129;01min\u001B[39;00m \u001B[38;5;28mrange\u001B[39m(N) \u001B[38;5;28;01mfor\u001B[39;00m j \u001B[38;5;129;01min\u001B[39;00m \u001B[38;5;28mrange\u001B[39m(k)), \u001B[38;5;124m\"\u001B[39m\u001B[38;5;124mElement not integer\u001B[39m\u001B[38;5;124m\"\u001B[39m\n\u001B[1;32m     12\u001B[0m \u001B[38;5;28;01massert\u001B[39;00m \u001B[38;5;28mall\u001B[39m(\u001B[38;5;28msum\u001B[39m(row) \u001B[38;5;241m==\u001B[39m n \u001B[38;5;28;01mfor\u001B[39;00m row \u001B[38;5;129;01min\u001B[39;00m rate), \u001B[38;5;124m\"\u001B[39m\u001B[38;5;124mSum of ratings != #raters)\u001B[39m\u001B[38;5;124m\"\u001B[39m\n",
      "File \u001B[0;32m~/anaconda3/lib/python3.11/site-packages/pandas/core/frame.py:3761\u001B[0m, in \u001B[0;36mDataFrame.__getitem__\u001B[0;34m(self, key)\u001B[0m\n\u001B[1;32m   3759\u001B[0m \u001B[38;5;28;01mif\u001B[39;00m \u001B[38;5;28mself\u001B[39m\u001B[38;5;241m.\u001B[39mcolumns\u001B[38;5;241m.\u001B[39mnlevels \u001B[38;5;241m>\u001B[39m \u001B[38;5;241m1\u001B[39m:\n\u001B[1;32m   3760\u001B[0m     \u001B[38;5;28;01mreturn\u001B[39;00m \u001B[38;5;28mself\u001B[39m\u001B[38;5;241m.\u001B[39m_getitem_multilevel(key)\n\u001B[0;32m-> 3761\u001B[0m indexer \u001B[38;5;241m=\u001B[39m \u001B[38;5;28mself\u001B[39m\u001B[38;5;241m.\u001B[39mcolumns\u001B[38;5;241m.\u001B[39mget_loc(key)\n\u001B[1;32m   3762\u001B[0m \u001B[38;5;28;01mif\u001B[39;00m is_integer(indexer):\n\u001B[1;32m   3763\u001B[0m     indexer \u001B[38;5;241m=\u001B[39m [indexer]\n",
      "File \u001B[0;32m~/anaconda3/lib/python3.11/site-packages/pandas/core/indexes/base.py:3655\u001B[0m, in \u001B[0;36mIndex.get_loc\u001B[0;34m(self, key)\u001B[0m\n\u001B[1;32m   3653\u001B[0m     \u001B[38;5;28;01mreturn\u001B[39;00m \u001B[38;5;28mself\u001B[39m\u001B[38;5;241m.\u001B[39m_engine\u001B[38;5;241m.\u001B[39mget_loc(casted_key)\n\u001B[1;32m   3654\u001B[0m \u001B[38;5;28;01mexcept\u001B[39;00m \u001B[38;5;167;01mKeyError\u001B[39;00m \u001B[38;5;28;01mas\u001B[39;00m err:\n\u001B[0;32m-> 3655\u001B[0m     \u001B[38;5;28;01mraise\u001B[39;00m \u001B[38;5;167;01mKeyError\u001B[39;00m(key) \u001B[38;5;28;01mfrom\u001B[39;00m \u001B[38;5;21;01merr\u001B[39;00m\n\u001B[1;32m   3656\u001B[0m \u001B[38;5;28;01mexcept\u001B[39;00m \u001B[38;5;167;01mTypeError\u001B[39;00m:\n\u001B[1;32m   3657\u001B[0m     \u001B[38;5;66;03m# If we have a listlike key, _check_indexing_error will raise\u001B[39;00m\n\u001B[1;32m   3658\u001B[0m     \u001B[38;5;66;03m#  InvalidIndexError. Otherwise we fall through and re-raise\u001B[39;00m\n\u001B[1;32m   3659\u001B[0m     \u001B[38;5;66;03m#  the TypeError.\u001B[39;00m\n\u001B[1;32m   3660\u001B[0m     \u001B[38;5;28mself\u001B[39m\u001B[38;5;241m.\u001B[39m_check_indexing_error(key)\n",
      "\u001B[0;31mKeyError\u001B[0m: 3"
     ]
    }
   ],
   "source": [
    "from statsmodels.stats.inter_rater import fleiss_kappa\n",
    "\n",
    "selected_columns = [\"document_id\", \"Neutrality_value\"]\n",
    "df_selected = workers_answers[selected_columns]\n",
    "\n",
    "df_selected.columns.name = None\n",
    "# Usa la funzione pivot_table per ottenere la tabella desiderata con il conteggio degli elementi uguali\n",
    "pivot_table = pd.pivot_table(df_selected, index='document_id', columns='Neutrality_value', aggfunc='size', fill_value=0)\n",
    "\n",
    "#calcolo fleiss_kappa\n",
    "risultato = fleiss_kappa(pivot_table)\n",
    "risultato2 = fleissKappa(pivot_table,5)\n",
    "display(risultato2)"
   ],
   "metadata": {
    "collapsed": false
   }
  },
  {
   "cell_type": "code",
   "execution_count": 122,
   "outputs": [
    {
     "ename": "AssertionError",
     "evalue": "",
     "output_type": "error",
     "traceback": [
      "\u001B[0;31m---------------------------------------------------------------------------\u001B[0m",
      "\u001B[0;31mAssertionError\u001B[0m                            Traceback (most recent call last)",
      "Cell \u001B[0;32mIn[122], line 9\u001B[0m\n\u001B[1;32m      1\u001B[0m \u001B[38;5;28;01mfrom\u001B[39;00m \u001B[38;5;21;01mstatsmodels\u001B[39;00m\u001B[38;5;21;01m.\u001B[39;00m\u001B[38;5;21;01mstats\u001B[39;00m\u001B[38;5;21;01m.\u001B[39;00m\u001B[38;5;21;01minter_rater\u001B[39;00m \u001B[38;5;28;01mimport\u001B[39;00m fleiss_kappa\n\u001B[1;32m      3\u001B[0m rate \u001B[38;5;241m=\u001B[39m [\n\u001B[1;32m      4\u001B[0m     [np\u001B[38;5;241m.\u001B[39mnan, \u001B[38;5;241m1\u001B[39m, \u001B[38;5;241m5\u001B[39m, \u001B[38;5;241m2\u001B[39m],\n\u001B[1;32m      5\u001B[0m     [\u001B[38;5;241m2\u001B[39m,  np\u001B[38;5;241m.\u001B[39mnan, \u001B[38;5;241m5\u001B[39m, \u001B[38;5;241m1\u001B[39m],\n\u001B[1;32m      6\u001B[0m     [\u001B[38;5;241m1\u001B[39m, \u001B[38;5;241m5\u001B[39m, \u001B[38;5;241m2\u001B[39m, np\u001B[38;5;241m.\u001B[39mnan]\n\u001B[1;32m      7\u001B[0m ]\n\u001B[0;32m----> 9\u001B[0m risultato \u001B[38;5;241m=\u001B[39m fleiss_kappa(rate)\n\u001B[1;32m     10\u001B[0m display(risultato)\n",
      "File \u001B[0;32m~/anaconda3/lib/python3.11/site-packages/statsmodels/stats/inter_rater.py:253\u001B[0m, in \u001B[0;36mfleiss_kappa\u001B[0;34m(table, method)\u001B[0m\n\u001B[1;32m    251\u001B[0m n_rat \u001B[38;5;241m=\u001B[39m n_rater\u001B[38;5;241m.\u001B[39mmax()\n\u001B[1;32m    252\u001B[0m \u001B[38;5;66;03m#assume fully ranked\u001B[39;00m\n\u001B[0;32m--> 253\u001B[0m \u001B[38;5;28;01massert\u001B[39;00m n_total \u001B[38;5;241m==\u001B[39m n_sub \u001B[38;5;241m*\u001B[39m n_rat\n\u001B[1;32m    255\u001B[0m \u001B[38;5;66;03m#marginal frequency  of categories\u001B[39;00m\n\u001B[1;32m    256\u001B[0m p_cat \u001B[38;5;241m=\u001B[39m table\u001B[38;5;241m.\u001B[39msum(\u001B[38;5;241m0\u001B[39m) \u001B[38;5;241m/\u001B[39m n_total\n",
      "\u001B[0;31mAssertionError\u001B[0m: "
     ]
    }
   ],
   "source": [
    "from statsmodels.stats.inter_rater import fleiss_kappa\n",
    "\n",
    "rate = [\n",
    "    [np.nan, 1, 5, 2],\n",
    "    [2,  np.nan, 5, 1],\n",
    "    [1, 5, 2, np.nan]\n",
    "]\n",
    "\n",
    "risultato = fleiss_kappa(rate)\n",
    "display(risultato)\n"
   ],
   "metadata": {
    "collapsed": false
   }
  },
  {
   "cell_type": "code",
   "execution_count": 115,
   "outputs": [
    {
     "ename": "KeyError",
     "evalue": "0",
     "output_type": "error",
     "traceback": [
      "\u001B[0;31m---------------------------------------------------------------------------\u001B[0m",
      "\u001B[0;31mKeyError\u001B[0m                                  Traceback (most recent call last)",
      "File \u001B[0;32m~/anaconda3/lib/python3.11/site-packages/pandas/core/indexes/base.py:3653\u001B[0m, in \u001B[0;36mIndex.get_loc\u001B[0;34m(self, key)\u001B[0m\n\u001B[1;32m   3652\u001B[0m \u001B[38;5;28;01mtry\u001B[39;00m:\n\u001B[0;32m-> 3653\u001B[0m     \u001B[38;5;28;01mreturn\u001B[39;00m \u001B[38;5;28mself\u001B[39m\u001B[38;5;241m.\u001B[39m_engine\u001B[38;5;241m.\u001B[39mget_loc(casted_key)\n\u001B[1;32m   3654\u001B[0m \u001B[38;5;28;01mexcept\u001B[39;00m \u001B[38;5;167;01mKeyError\u001B[39;00m \u001B[38;5;28;01mas\u001B[39;00m err:\n",
      "File \u001B[0;32m~/anaconda3/lib/python3.11/site-packages/pandas/_libs/index.pyx:147\u001B[0m, in \u001B[0;36mpandas._libs.index.IndexEngine.get_loc\u001B[0;34m()\u001B[0m\n",
      "File \u001B[0;32m~/anaconda3/lib/python3.11/site-packages/pandas/_libs/index.pyx:176\u001B[0m, in \u001B[0;36mpandas._libs.index.IndexEngine.get_loc\u001B[0;34m()\u001B[0m\n",
      "File \u001B[0;32mpandas/_libs/hashtable_class_helper.pxi:7080\u001B[0m, in \u001B[0;36mpandas._libs.hashtable.PyObjectHashTable.get_item\u001B[0;34m()\u001B[0m\n",
      "File \u001B[0;32mpandas/_libs/hashtable_class_helper.pxi:7088\u001B[0m, in \u001B[0;36mpandas._libs.hashtable.PyObjectHashTable.get_item\u001B[0;34m()\u001B[0m\n",
      "\u001B[0;31mKeyError\u001B[0m: 0",
      "\nThe above exception was the direct cause of the following exception:\n",
      "\u001B[0;31mKeyError\u001B[0m                                  Traceback (most recent call last)",
      "Cell \u001B[0;32mIn[115], line 1\u001B[0m\n\u001B[0;32m----> 1\u001B[0m fleissKappa(workers_task, \u001B[38;5;241m15\u001B[39m)\n",
      "Cell \u001B[0;32mIn[113], line 24\u001B[0m, in \u001B[0;36mfleissKappa\u001B[0;34m(rate, n)\u001B[0m\n\u001B[1;32m     15\u001B[0m \u001B[38;5;250m\u001B[39m\u001B[38;5;124;03m\"\"\"\u001B[39;00m\n\u001B[1;32m     16\u001B[0m \u001B[38;5;124;03mComputes the Kappa value\u001B[39;00m\n\u001B[1;32m     17\u001B[0m \u001B[38;5;124;03m@param rate - ratings matrix containing number of ratings for each subject per category\u001B[39;00m\n\u001B[0;32m   (...)\u001B[0m\n\u001B[1;32m     20\u001B[0m \u001B[38;5;124;03m@return fleiss' kappa\u001B[39;00m\n\u001B[1;32m     21\u001B[0m \u001B[38;5;124;03m\"\"\"\u001B[39;00m\n\u001B[1;32m     23\u001B[0m N \u001B[38;5;241m=\u001B[39m \u001B[38;5;28mlen\u001B[39m(rate)\n\u001B[0;32m---> 24\u001B[0m k \u001B[38;5;241m=\u001B[39m \u001B[38;5;28mlen\u001B[39m(rate[\u001B[38;5;241m0\u001B[39m])\n\u001B[1;32m     25\u001B[0m \u001B[38;5;28mprint\u001B[39m(\u001B[38;5;124m\"\u001B[39m\u001B[38;5;124m#raters = \u001B[39m\u001B[38;5;124m\"\u001B[39m, n, \u001B[38;5;124m\"\u001B[39m\u001B[38;5;124m, #subjects = \u001B[39m\u001B[38;5;124m\"\u001B[39m, N, \u001B[38;5;124m\"\u001B[39m\u001B[38;5;124m, #categories = \u001B[39m\u001B[38;5;124m\"\u001B[39m, k)\n\u001B[1;32m     26\u001B[0m checkInput(rate, n)\n",
      "File \u001B[0;32m~/anaconda3/lib/python3.11/site-packages/pandas/core/frame.py:3761\u001B[0m, in \u001B[0;36mDataFrame.__getitem__\u001B[0;34m(self, key)\u001B[0m\n\u001B[1;32m   3759\u001B[0m \u001B[38;5;28;01mif\u001B[39;00m \u001B[38;5;28mself\u001B[39m\u001B[38;5;241m.\u001B[39mcolumns\u001B[38;5;241m.\u001B[39mnlevels \u001B[38;5;241m>\u001B[39m \u001B[38;5;241m1\u001B[39m:\n\u001B[1;32m   3760\u001B[0m     \u001B[38;5;28;01mreturn\u001B[39;00m \u001B[38;5;28mself\u001B[39m\u001B[38;5;241m.\u001B[39m_getitem_multilevel(key)\n\u001B[0;32m-> 3761\u001B[0m indexer \u001B[38;5;241m=\u001B[39m \u001B[38;5;28mself\u001B[39m\u001B[38;5;241m.\u001B[39mcolumns\u001B[38;5;241m.\u001B[39mget_loc(key)\n\u001B[1;32m   3762\u001B[0m \u001B[38;5;28;01mif\u001B[39;00m is_integer(indexer):\n\u001B[1;32m   3763\u001B[0m     indexer \u001B[38;5;241m=\u001B[39m [indexer]\n",
      "File \u001B[0;32m~/anaconda3/lib/python3.11/site-packages/pandas/core/indexes/base.py:3655\u001B[0m, in \u001B[0;36mIndex.get_loc\u001B[0;34m(self, key)\u001B[0m\n\u001B[1;32m   3653\u001B[0m     \u001B[38;5;28;01mreturn\u001B[39;00m \u001B[38;5;28mself\u001B[39m\u001B[38;5;241m.\u001B[39m_engine\u001B[38;5;241m.\u001B[39mget_loc(casted_key)\n\u001B[1;32m   3654\u001B[0m \u001B[38;5;28;01mexcept\u001B[39;00m \u001B[38;5;167;01mKeyError\u001B[39;00m \u001B[38;5;28;01mas\u001B[39;00m err:\n\u001B[0;32m-> 3655\u001B[0m     \u001B[38;5;28;01mraise\u001B[39;00m \u001B[38;5;167;01mKeyError\u001B[39;00m(key) \u001B[38;5;28;01mfrom\u001B[39;00m \u001B[38;5;21;01merr\u001B[39;00m\n\u001B[1;32m   3656\u001B[0m \u001B[38;5;28;01mexcept\u001B[39;00m \u001B[38;5;167;01mTypeError\u001B[39;00m:\n\u001B[1;32m   3657\u001B[0m     \u001B[38;5;66;03m# If we have a listlike key, _check_indexing_error will raise\u001B[39;00m\n\u001B[1;32m   3658\u001B[0m     \u001B[38;5;66;03m#  InvalidIndexError. Otherwise we fall through and re-raise\u001B[39;00m\n\u001B[1;32m   3659\u001B[0m     \u001B[38;5;66;03m#  the TypeError.\u001B[39;00m\n\u001B[1;32m   3660\u001B[0m     \u001B[38;5;28mself\u001B[39m\u001B[38;5;241m.\u001B[39m_check_indexing_error(key)\n",
      "\u001B[0;31mKeyError\u001B[0m: 0"
     ]
    }
   ],
   "source": [
    "fleissKappa(workers_task, 15)"
   ],
   "metadata": {
    "collapsed": false
   }
  },
  {
   "cell_type": "code",
   "execution_count": 131,
   "metadata": {
    "collapsed": false
   },
   "outputs": [
    {
     "data": {
      "text/plain": "         worker_id document_id  time_spedn\n0   1ONCOX6OYV8XZJ  B00PNVOBTC      112.39\n1   1ONCOX6OYV8XZJ  B0050SYWGU      177.34\n2   1ONCOX6OYV8XZJ  B0041RUM0Q      353.43\n5   1ONCOX6OYV8XZJ  B005ZNWT4C      103.12\n6   1ONCOX6OYV8XZJ  B015XC3B46       10.51\n..             ...         ...         ...\n87  T4MEORG9STZITP  B0002KMHD6      447.40\n90  T4MEORG9STZITP  B015XC3B46      125.06\n91  T4MEORG9STZITP  B00PNVOBTC      125.46\n92  T4MEORG9STZITP  B0041RUM0Q      119.69\n93  T4MEORG9STZITP  B001DYVHY0      117.82\n\n[75 rows x 3 columns]",
      "text/html": "<div>\n<style scoped>\n    .dataframe tbody tr th:only-of-type {\n        vertical-align: middle;\n    }\n\n    .dataframe tbody tr th {\n        vertical-align: top;\n    }\n\n    .dataframe thead th {\n        text-align: right;\n    }\n</style>\n<table border=\"1\" class=\"dataframe\">\n  <thead>\n    <tr style=\"text-align: right;\">\n      <th></th>\n      <th>worker_id</th>\n      <th>document_id</th>\n      <th>time_spedn</th>\n    </tr>\n  </thead>\n  <tbody>\n    <tr>\n      <th>0</th>\n      <td>1ONCOX6OYV8XZJ</td>\n      <td>B00PNVOBTC</td>\n      <td>112.39</td>\n    </tr>\n    <tr>\n      <th>1</th>\n      <td>1ONCOX6OYV8XZJ</td>\n      <td>B0050SYWGU</td>\n      <td>177.34</td>\n    </tr>\n    <tr>\n      <th>2</th>\n      <td>1ONCOX6OYV8XZJ</td>\n      <td>B0041RUM0Q</td>\n      <td>353.43</td>\n    </tr>\n    <tr>\n      <th>5</th>\n      <td>1ONCOX6OYV8XZJ</td>\n      <td>B005ZNWT4C</td>\n      <td>103.12</td>\n    </tr>\n    <tr>\n      <th>6</th>\n      <td>1ONCOX6OYV8XZJ</td>\n      <td>B015XC3B46</td>\n      <td>10.51</td>\n    </tr>\n    <tr>\n      <th>...</th>\n      <td>...</td>\n      <td>...</td>\n      <td>...</td>\n    </tr>\n    <tr>\n      <th>87</th>\n      <td>T4MEORG9STZITP</td>\n      <td>B0002KMHD6</td>\n      <td>447.40</td>\n    </tr>\n    <tr>\n      <th>90</th>\n      <td>T4MEORG9STZITP</td>\n      <td>B015XC3B46</td>\n      <td>125.06</td>\n    </tr>\n    <tr>\n      <th>91</th>\n      <td>T4MEORG9STZITP</td>\n      <td>B00PNVOBTC</td>\n      <td>125.46</td>\n    </tr>\n    <tr>\n      <th>92</th>\n      <td>T4MEORG9STZITP</td>\n      <td>B0041RUM0Q</td>\n      <td>119.69</td>\n    </tr>\n    <tr>\n      <th>93</th>\n      <td>T4MEORG9STZITP</td>\n      <td>B001DYVHY0</td>\n      <td>117.82</td>\n    </tr>\n  </tbody>\n</table>\n<p>75 rows × 3 columns</p>\n</div>"
     },
     "metadata": {},
     "output_type": "display_data"
    }
   ],
   "source": [
    "time_media = workers_answers[['worker_id', 'document_id', 'time_start', 'time_end']]\n",
    "time_media = time_media.copy()\n",
    "time_media['time_spedn'] = time_media['time_end'] - time_media['time_start']\n",
    "time_media = time_media.drop(['time_start', 'time_end'], axis=1)\n",
    "display(time_media)"
   ]
  },
  {
   "cell_type": "code",
   "execution_count": 132,
   "metadata": {
    "collapsed": false
   },
   "outputs": [
    {
     "data": {
      "text/plain": "worker_id\n1ONCOX6OYV8XZJ    151.358\n7GFH0CXPHPTSPX    118.648\nB0ARNFCRSNEXAS    153.752\nB3QHTCHNCMXQ4H     81.260\nCNZQBVRXLWYZG8    125.464\nDLNY6ZIJOABZLJ    207.452\nHAA3KNPKCB5DSG    844.542\nISGHMQO0AXKFXS    125.638\nIZ2TQI5OCUGD1N    289.696\nJLVBHXOL0E65XT    121.256\nKWJ2MEMELZHTD1    156.132\nL292E0RLKG4B7U    218.028\nMXLX3Z0LDZTDTY    451.120\nOMLUXZWFN4LV8O    344.378\nT4MEORG9STZITP    187.086\nName: time_spedn, dtype: float64"
     },
     "metadata": {},
     "output_type": "display_data"
    },
    {
     "data": {
      "text/plain": "document_id\nB00004SVUZ    207.062\nB00006JN5L     74.638\nB0001DHQPI    396.858\nB0002KMHD6    254.228\nB000O39U3Q    134.906\nB001DYVHY0    139.556\nB0029MAXR2    225.012\nB003TO59D2    226.472\nB0041RUM0Q    227.638\nB0050SYWGU    143.640\nB005ZNWT4C    917.124\nB00PNVOBTC    183.056\nB00QTSR5GO    128.616\nB015XC3B46     72.586\nB01G6LXXWI    244.418\nName: time_spedn, dtype: float64"
     },
     "metadata": {},
     "output_type": "display_data"
    }
   ],
   "source": [
    "\n",
    "#Calcoliamo il tempo medio per worker\n",
    "tempo_medio_W = time_media.groupby('worker_id')['time_spedn'].mean()\n",
    "display(tempo_medio_W)\n",
    "\n",
    "#Calcoliamo il tempo medio per documento\n",
    "tempo_medio_D = time_media.groupby('document_id')['time_spedn'].mean()\n",
    "display(tempo_medio_D)\n",
    "\n",
    "\n"
   ]
  },
  {
   "cell_type": "code",
   "execution_count": 133,
   "metadata": {
    "collapsed": false
   },
   "outputs": [
    {
     "data": {
      "text/plain": "document_id\nB00004SVUZ    49.431818\nB00006JN5L    39.500000\nB0001DHQPI    75.833333\nB0002KMHD6    42.166667\nB000O39U3Q    80.400000\nB001DYVHY0    78.428571\nB0029MAXR2    76.000000\nB003TO59D2    33.250000\nB0041RUM0Q    69.194805\nB0050SYWGU    79.888889\nB005ZNWT4C    85.875000\nB00PNVOBTC    66.666667\nB00QTSR5GO    86.000000\nB015XC3B46    66.411765\nB01G6LXXWI    56.125000\nName: selection_value, dtype: float64"
     },
     "metadata": {},
     "output_type": "display_data"
    },
    {
     "data": {
      "text/plain": "worker_id\n1ONCOX6OYV8XZJ    83.687500\n7GFH0CXPHPTSPX    58.800000\nB0ARNFCRSNEXAS    69.142857\nB3QHTCHNCMXQ4H    85.000000\nCNZQBVRXLWYZG8    87.142857\nDLNY6ZIJOABZLJ    54.000000\nHAA3KNPKCB5DSG    92.500000\nISGHMQO0AXKFXS    67.000000\nIZ2TQI5OCUGD1N    94.111111\nJLVBHXOL0E65XT    65.571429\nKWJ2MEMELZHTD1    44.560440\nL292E0RLKG4B7U    48.875000\nMXLX3Z0LDZTDTY    80.000000\nOMLUXZWFN4LV8O    30.566667\nT4MEORG9STZITP    63.875000\nName: selection_value, dtype: float64"
     },
     "metadata": {},
     "output_type": "display_data"
    }
   ],
   "source": [
    "# vado a selezionare solo le colonne che voglio\n",
    "selected_columns = ['worker_id','document_id', 'selection_value']\n",
    "\n",
    "# Crea un nuovo dataframe includendo solo le colonne selezionate\n",
    "dimensions_selections = workers_dimensions_selection[selected_columns].copy()\n",
    "\n",
    "#media valutazione data per ogni documento, ( slider )\n",
    "media_valutazioni_D = dimensions_selections.groupby('document_id')['selection_value'].mean()\n",
    "display(media_valutazioni_D)\n",
    "\n",
    "#media valutazione data per ogni documento, da ogni worker, ( slider )\n",
    "media_valutazioni_W = dimensions_selections.groupby('worker_id')['selection_value'].mean()\n",
    "display(media_valutazioni_W)"
   ]
  },
  {
   "cell_type": "code",
   "execution_count": 134,
   "metadata": {
    "collapsed": false
   },
   "outputs": [
    {
     "data": {
      "text/plain": "<Figure size 640x480 with 1 Axes>",
      "image/png": "[encoded data removed]"
     },
     "metadata": {},
     "output_type": "display_data"
    },
    {
     "data": {
      "text/plain": "             valutazione_media  tempo_medio\ndocument_id                                \nB00004SVUZ           49.431818      207.062\nB00006JN5L           39.500000       74.638\nB0001DHQPI           75.833333      396.858\nB0002KMHD6           42.166667      254.228\nB000O39U3Q           80.400000      134.906\nB001DYVHY0           78.428571      139.556\nB0029MAXR2           76.000000      225.012\nB003TO59D2           33.250000      226.472\nB0041RUM0Q           69.194805      227.638\nB0050SYWGU           79.888889      143.640\nB005ZNWT4C           85.875000      917.124\nB00PNVOBTC           66.666667      183.056\nB00QTSR5GO           86.000000      128.616\nB015XC3B46           66.411765       72.586\nB01G6LXXWI           56.125000      244.418",
      "text/html": "<div>\n<style scoped>\n    .dataframe tbody tr th:only-of-type {\n        vertical-align: middle;\n    }\n\n    .dataframe tbody tr th {\n        vertical-align: top;\n    }\n\n    .dataframe thead th {\n        text-align: right;\n    }\n</style>\n<table border=\"1\" class=\"dataframe\">\n  <thead>\n    <tr style=\"text-align: right;\">\n      <th></th>\n      <th>valutazione_media</th>\n      <th>tempo_medio</th>\n    </tr>\n    <tr>\n      <th>document_id</th>\n      <th></th>\n      <th></th>\n    </tr>\n  </thead>\n  <tbody>\n    <tr>\n      <th>B00004SVUZ</th>\n      <td>49.431818</td>\n      <td>207.062</td>\n    </tr>\n    <tr>\n      <th>B00006JN5L</th>\n      <td>39.500000</td>\n      <td>74.638</td>\n    </tr>\n    <tr>\n      <th>B0001DHQPI</th>\n      <td>75.833333</td>\n      <td>396.858</td>\n    </tr>\n    <tr>\n      <th>B0002KMHD6</th>\n      <td>42.166667</td>\n      <td>254.228</td>\n    </tr>\n    <tr>\n      <th>B000O39U3Q</th>\n      <td>80.400000</td>\n      <td>134.906</td>\n    </tr>\n    <tr>\n      <th>B001DYVHY0</th>\n      <td>78.428571</td>\n      <td>139.556</td>\n    </tr>\n    <tr>\n      <th>B0029MAXR2</th>\n      <td>76.000000</td>\n      <td>225.012</td>\n    </tr>\n    <tr>\n      <th>B003TO59D2</th>\n      <td>33.250000</td>\n      <td>226.472</td>\n    </tr>\n    <tr>\n      <th>B0041RUM0Q</th>\n      <td>69.194805</td>\n      <td>227.638</td>\n    </tr>\n    <tr>\n      <th>B0050SYWGU</th>\n      <td>79.888889</td>\n      <td>143.640</td>\n    </tr>\n    <tr>\n      <th>B005ZNWT4C</th>\n      <td>85.875000</td>\n      <td>917.124</td>\n    </tr>\n    <tr>\n      <th>B00PNVOBTC</th>\n      <td>66.666667</td>\n      <td>183.056</td>\n    </tr>\n    <tr>\n      <th>B00QTSR5GO</th>\n      <td>86.000000</td>\n      <td>128.616</td>\n    </tr>\n    <tr>\n      <th>B015XC3B46</th>\n      <td>66.411765</td>\n      <td>72.586</td>\n    </tr>\n    <tr>\n      <th>B01G6LXXWI</th>\n      <td>56.125000</td>\n      <td>244.418</td>\n    </tr>\n  </tbody>\n</table>\n</div>"
     },
     "metadata": {},
     "output_type": "display_data"
    }
   ],
   "source": [
    "import pandas as pd\n",
    "import matplotlib.pyplot as plt\n",
    "\n",
    "#unisco i due dataframe per avere valutazione medi e tempo medio per ogni docuemnto\n",
    "merged_dataset = pd.merge(media_valutazioni_D, tempo_medio_D, on='document_id')\n",
    "\n",
    "merged_dataset = merged_dataset.rename(columns={'selection_value': 'valutazione_media',\n",
    "                                                'time_spedn': 'tempo_medio'})\n",
    "\n",
    "# Crea il grafico\n",
    "plt.scatter(merged_dataset['valutazione_media'], merged_dataset['tempo_medio'])\n",
    "plt.xlabel('Valutazione Media')\n",
    "plt.ylabel('Tempo Medio')\n",
    "plt.title('Scatter Plot tra Valutazione Media e Tempo Medio')\n",
    "plt.show()\n",
    "\n",
    "'''\n",
    "Un'analisi può esser che non si notano correlazioni con tempo e valutazione, nel senso che una valutazione alta non equivale a un tempo medio elevato di rispota,\n",
    "anche se poteva esser cosi perche per avere una valutazione alta, la recensione deve essere molto prolissa e ben sturitturata, quindi ci vuoleva mooto tempo ma non  e coi.\n",
    "'''\n",
    "\n",
    "\n",
    "display(merged_dataset)"
   ]
  },
  {
   "cell_type": "code",
   "execution_count": null,
   "metadata": {
    "collapsed": false
   },
   "outputs": [],
   "source": []
  }
 ],
 "metadata": {
  "kernelspec": {
   "display_name": "Python 3",
   "language": "python",
   "name": "python3"
  },
  "language_info": {
   "codemirror_mode": {
    "name": "ipython",
    "version": 3
   },
   "file_extension": ".py",
   "mimetype": "text/x-python",
   "name": "python",
   "nbconvert_exporter": "python",
   "pygments_lexer": "ipython3",
   "version": "3.11.5"
  }
 },
 "nbformat": 4,
 "nbformat_minor": 0
}
