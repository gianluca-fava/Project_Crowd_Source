{
 "cells": [
  {
   "cell_type": "code",
   "execution_count": 10,
   "metadata": {
    "collapsed": true,
    "ExecuteTime": {
     "end_time": "2024-01-17T19:39:10.335789Z",
     "start_time": "2024-01-17T19:39:10.330460Z"
    }
   },
   "outputs": [],
   "source": [
    "import pandas as pd\n",
    "import numpy as np"
   ]
  },
  {
   "cell_type": "code",
   "execution_count": 11,
   "outputs": [],
   "source": [
    "workers_answers = pd.read_csv(\"Crowd_Frame riscaricato/data/result/task1/Dataframe/workers_answers.csv\")\n",
    "workers_questionnaire = pd.read_csv(\"Crowd_Frame riscaricato/data/result/task1/Dataframe/workers_questionnaire.csv\")"
   ],
   "metadata": {
    "collapsed": false,
    "ExecuteTime": {
     "end_time": "2024-01-17T19:39:10.751903Z",
     "start_time": "2024-01-17T19:39:10.692812Z"
    }
   }
  },
  {
   "cell_type": "code",
   "execution_count": 12,
   "outputs": [],
   "source": [
    "absolute_frequencies = workers_questionnaire['question_answer_text'].value_counts()\n",
    "relative_frequencies = absolute_frequencies / len(workers_questionnaire)\n",
    "\n",
    "average_confidence = workers_answers.groupby('document_index')['Confidence_value'].mean()\n",
    "average_time_elapsed = workers_answers.groupby('document_index')['time_elapsed'].mean()"
   ],
   "metadata": {
    "collapsed": false,
    "ExecuteTime": {
     "end_time": "2024-01-17T19:39:11.162442Z",
     "start_time": "2024-01-17T19:39:11.151731Z"
    }
   }
  },
  {
   "cell_type": "code",
   "execution_count": 13,
   "outputs": [],
   "source": [
    "#da verificare\n",
    "total_units = len(workers_answers)\n",
    "matching_units = workers_answers[workers_answers['Reliability_value'] == workers_answers['Reliability_value']].shape[0]\n",
    "\n",
    "percent_agreement = (matching_units / total_units) * 100"
   ],
   "metadata": {
    "collapsed": false,
    "ExecuteTime": {
     "end_time": "2024-01-17T19:39:11.617296Z",
     "start_time": "2024-01-17T19:39:11.611847Z"
    }
   }
  },
  {
   "cell_type": "code",
   "execution_count": null,
   "outputs": [],
   "source": [],
   "metadata": {
    "collapsed": false
   }
  }
 ],
 "metadata": {
  "kernelspec": {
   "display_name": "Python 3",
   "language": "python",
   "name": "python3"
  },
  "language_info": {
   "codemirror_mode": {
    "name": "ipython",
    "version": 2
   },
   "file_extension": ".py",
   "mimetype": "text/x-python",
   "name": "python",
   "nbconvert_exporter": "python",
   "pygments_lexer": "ipython2",
   "version": "2.7.6"
  }
 },
 "nbformat": 4,
 "nbformat_minor": 0
}
