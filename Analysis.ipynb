{
 "cells": [
  {
   "cell_type": "code",
   "execution_count": 44,
   "metadata": {
    "collapsed": true,
    "ExecuteTime": {
     "end_time": "2024-01-17T19:39:10.335789Z",
     "start_time": "2024-01-17T19:39:10.330460Z"
    }
   },
   "outputs": [],
   "source": [
    "import pandas as pd\n",
    "import numpy as np\n",
    "import matplotlib.pyplot as plt\n"
   ]
  },
  {
   "cell_type": "code",
   "execution_count": 37,
   "outputs": [],
   "source": [
    "workers_answers = pd.read_csv(\"Crowd_Frame riscaricato/data/result/task1/Dataframe/workers_answers.csv\")\n",
    "workers_questionnaire = pd.read_csv(\"Crowd_Frame riscaricato/data/result/task1/Dataframe/workers_questionnaire.csv\")\n",
    "workers_dimensions_selection = pd.read_csv(\"Crowd_Frame riscaricato/data/result/task1/Dataframe/workers_dimensions_selection.csv\")\n"
   ],
   "metadata": {
    "collapsed": false,
    "ExecuteTime": {
     "end_time": "2024-01-17T19:39:10.751903Z",
     "start_time": "2024-01-17T19:39:10.692812Z"
    }
   }
  },
  {
   "cell_type": "code",
   "execution_count": 30,
   "outputs": [
    {
     "data": {
      "text/plain": "         worker_id  paid task_name batch_name  unit_id  try_last  try_current  \\\n0   7GFH0CXPHPTSPX  True     task1     batch1   unit_1         1            1   \n1   7GFH0CXPHPTSPX  True     task1     batch1   unit_1         1            1   \n2   7GFH0CXPHPTSPX  True     task1     batch1   unit_1         1            1   \n3   7GFH0CXPHPTSPX  True     task1     batch1   unit_1         1            1   \n4   7GFH0CXPHPTSPX  True     task1     batch1   unit_1         1            1   \n..             ...   ...       ...        ...      ...       ...          ...   \n82  T4MEORG9STZITP  True     task1     batch1  unit_10         1            1   \n83  T4MEORG9STZITP  True     task1     batch1  unit_10         1            1   \n84  T4MEORG9STZITP  True     task1     batch1  unit_10         1            1   \n85  T4MEORG9STZITP  True     task1     batch1  unit_10         1            1   \n86  T4MEORG9STZITP  True     task1     batch1  unit_10         1            1   \n\n    action                    time_submit         time_submit_parsed  ...  \\\n0     Next  Tue, 16 Jan 2024 09:38:22 GMT  2024-01-16 09:38:22 00:00  ...   \n1     Next  Tue, 16 Jan 2024 09:41:43 GMT  2024-01-16 09:41:43 00:00  ...   \n2     Next  Tue, 16 Jan 2024 09:43:01 GMT  2024-01-16 09:43:01 00:00  ...   \n3     Next  Tue, 16 Jan 2024 09:44:45 GMT  2024-01-16 09:44:45 00:00  ...   \n4   Finish  Tue, 16 Jan 2024 09:45:59 GMT  2024-01-16 09:45:59 00:00  ...   \n..     ...                            ...                        ...  ...   \n82    Back  Tue, 16 Jan 2024 18:25:12 GMT  2024-01-16 18:25:12 00:00  ...   \n83    Next  Tue, 16 Jan 2024 18:25:16 GMT  2024-01-16 18:25:16 00:00  ...   \n84    Next  Tue, 16 Jan 2024 18:25:17 GMT  2024-01-16 18:25:17 00:00  ...   \n85    Next  Tue, 16 Jan 2024 18:27:16 GMT  2024-01-16 18:27:16 00:00  ...   \n86  Finish  Tue, 16 Jan 2024 18:29:15 GMT  2024-01-16 18:29:15 00:00  ...   \n\n      time_start      time_end  time_elapsed    time_start_parsed  \\\n0   1.705398e+09  1.705398e+09        137.07  2024-01-16 09:36:05   \n1   1.705398e+09  1.705398e+09        201.00  2024-01-16 09:38:22   \n2   1.705398e+09  1.705398e+09         78.06  2024-01-16 09:41:43   \n3   1.705398e+09  1.705398e+09        104.07  2024-01-16 09:43:01   \n4   1.705398e+09  1.705398e+09         73.03  2024-01-16 09:44:45   \n..           ...           ...           ...                  ...   \n82  1.705429e+09  1.705430e+09        125.46  2024-01-16 18:23:06   \n83  1.705429e+09  1.705429e+09        139.79  2024-01-16 18:20:46   \n84  1.705429e+09  1.705430e+09        126.40  2024-01-16 18:23:06   \n85  1.705430e+09  1.705430e+09        119.69  2024-01-16 18:25:17   \n86  1.705430e+09  1.705430e+09        117.82  2024-01-16 18:27:16   \n\n        time_end_parsed accesses  global_outcome global_form_validity  \\\n0   2024-01-16 09:38:22        1            True                 True   \n1   2024-01-16 09:41:43        1            True                 True   \n2   2024-01-16 09:43:01        1            True                 True   \n3   2024-01-16 09:44:45        1            True                 True   \n4   2024-01-16 09:45:58        1            True                 True   \n..                  ...      ...             ...                  ...   \n82  2024-01-16 18:25:12        1            True                 True   \n83  2024-01-16 18:22:51        3            True                 True   \n84  2024-01-16 18:25:12        2            True                 True   \n85  2024-01-16 18:27:16        1            True                 True   \n86  2024-01-16 18:29:14        1            True                 True   \n\n    gold_checks time_spent_check  \n0          True             True  \n1          True             True  \n2          True             True  \n3          True             True  \n4          True             True  \n..          ...              ...  \n82         True             True  \n83         True             True  \n84         True             True  \n85         True             True  \n86         True             True  \n\n[87 rows x 44 columns]",
      "text/html": "<div>\n<style scoped>\n    .dataframe tbody tr th:only-of-type {\n        vertical-align: middle;\n    }\n\n    .dataframe tbody tr th {\n        vertical-align: top;\n    }\n\n    .dataframe thead th {\n        text-align: right;\n    }\n</style>\n<table border=\"1\" class=\"dataframe\">\n  <thead>\n    <tr style=\"text-align: right;\">\n      <th></th>\n      <th>worker_id</th>\n      <th>paid</th>\n      <th>task_name</th>\n      <th>batch_name</th>\n      <th>unit_id</th>\n      <th>try_last</th>\n      <th>try_current</th>\n      <th>action</th>\n      <th>time_submit</th>\n      <th>time_submit_parsed</th>\n      <th>...</th>\n      <th>time_start</th>\n      <th>time_end</th>\n      <th>time_elapsed</th>\n      <th>time_start_parsed</th>\n      <th>time_end_parsed</th>\n      <th>accesses</th>\n      <th>global_outcome</th>\n      <th>global_form_validity</th>\n      <th>gold_checks</th>\n      <th>time_spent_check</th>\n    </tr>\n  </thead>\n  <tbody>\n    <tr>\n      <th>0</th>\n      <td>7GFH0CXPHPTSPX</td>\n      <td>True</td>\n      <td>task1</td>\n      <td>batch1</td>\n      <td>unit_1</td>\n      <td>1</td>\n      <td>1</td>\n      <td>Next</td>\n      <td>Tue, 16 Jan 2024 09:38:22 GMT</td>\n      <td>2024-01-16 09:38:22 00:00</td>\n      <td>...</td>\n      <td>1.705398e+09</td>\n      <td>1.705398e+09</td>\n      <td>137.07</td>\n      <td>2024-01-16 09:36:05</td>\n      <td>2024-01-16 09:38:22</td>\n      <td>1</td>\n      <td>True</td>\n      <td>True</td>\n      <td>True</td>\n      <td>True</td>\n    </tr>\n    <tr>\n      <th>1</th>\n      <td>7GFH0CXPHPTSPX</td>\n      <td>True</td>\n      <td>task1</td>\n      <td>batch1</td>\n      <td>unit_1</td>\n      <td>1</td>\n      <td>1</td>\n      <td>Next</td>\n      <td>Tue, 16 Jan 2024 09:41:43 GMT</td>\n      <td>2024-01-16 09:41:43 00:00</td>\n      <td>...</td>\n      <td>1.705398e+09</td>\n      <td>1.705398e+09</td>\n      <td>201.00</td>\n      <td>2024-01-16 09:38:22</td>\n      <td>2024-01-16 09:41:43</td>\n      <td>1</td>\n      <td>True</td>\n      <td>True</td>\n      <td>True</td>\n      <td>True</td>\n    </tr>\n    <tr>\n      <th>2</th>\n      <td>7GFH0CXPHPTSPX</td>\n      <td>True</td>\n      <td>task1</td>\n      <td>batch1</td>\n      <td>unit_1</td>\n      <td>1</td>\n      <td>1</td>\n      <td>Next</td>\n      <td>Tue, 16 Jan 2024 09:43:01 GMT</td>\n      <td>2024-01-16 09:43:01 00:00</td>\n      <td>...</td>\n      <td>1.705398e+09</td>\n      <td>1.705398e+09</td>\n      <td>78.06</td>\n      <td>2024-01-16 09:41:43</td>\n      <td>2024-01-16 09:43:01</td>\n      <td>1</td>\n      <td>True</td>\n      <td>True</td>\n      <td>True</td>\n      <td>True</td>\n    </tr>\n    <tr>\n      <th>3</th>\n      <td>7GFH0CXPHPTSPX</td>\n      <td>True</td>\n      <td>task1</td>\n      <td>batch1</td>\n      <td>unit_1</td>\n      <td>1</td>\n      <td>1</td>\n      <td>Next</td>\n      <td>Tue, 16 Jan 2024 09:44:45 GMT</td>\n      <td>2024-01-16 09:44:45 00:00</td>\n      <td>...</td>\n      <td>1.705398e+09</td>\n      <td>1.705398e+09</td>\n      <td>104.07</td>\n      <td>2024-01-16 09:43:01</td>\n      <td>2024-01-16 09:44:45</td>\n      <td>1</td>\n      <td>True</td>\n      <td>True</td>\n      <td>True</td>\n      <td>True</td>\n    </tr>\n    <tr>\n      <th>4</th>\n      <td>7GFH0CXPHPTSPX</td>\n      <td>True</td>\n      <td>task1</td>\n      <td>batch1</td>\n      <td>unit_1</td>\n      <td>1</td>\n      <td>1</td>\n      <td>Finish</td>\n      <td>Tue, 16 Jan 2024 09:45:59 GMT</td>\n      <td>2024-01-16 09:45:59 00:00</td>\n      <td>...</td>\n      <td>1.705398e+09</td>\n      <td>1.705398e+09</td>\n      <td>73.03</td>\n      <td>2024-01-16 09:44:45</td>\n      <td>2024-01-16 09:45:58</td>\n      <td>1</td>\n      <td>True</td>\n      <td>True</td>\n      <td>True</td>\n      <td>True</td>\n    </tr>\n    <tr>\n      <th>...</th>\n      <td>...</td>\n      <td>...</td>\n      <td>...</td>\n      <td>...</td>\n      <td>...</td>\n      <td>...</td>\n      <td>...</td>\n      <td>...</td>\n      <td>...</td>\n      <td>...</td>\n      <td>...</td>\n      <td>...</td>\n      <td>...</td>\n      <td>...</td>\n      <td>...</td>\n      <td>...</td>\n      <td>...</td>\n      <td>...</td>\n      <td>...</td>\n      <td>...</td>\n      <td>...</td>\n    </tr>\n    <tr>\n      <th>82</th>\n      <td>T4MEORG9STZITP</td>\n      <td>True</td>\n      <td>task1</td>\n      <td>batch1</td>\n      <td>unit_10</td>\n      <td>1</td>\n      <td>1</td>\n      <td>Back</td>\n      <td>Tue, 16 Jan 2024 18:25:12 GMT</td>\n      <td>2024-01-16 18:25:12 00:00</td>\n      <td>...</td>\n      <td>1.705429e+09</td>\n      <td>1.705430e+09</td>\n      <td>125.46</td>\n      <td>2024-01-16 18:23:06</td>\n      <td>2024-01-16 18:25:12</td>\n      <td>1</td>\n      <td>True</td>\n      <td>True</td>\n      <td>True</td>\n      <td>True</td>\n    </tr>\n    <tr>\n      <th>83</th>\n      <td>T4MEORG9STZITP</td>\n      <td>True</td>\n      <td>task1</td>\n      <td>batch1</td>\n      <td>unit_10</td>\n      <td>1</td>\n      <td>1</td>\n      <td>Next</td>\n      <td>Tue, 16 Jan 2024 18:25:16 GMT</td>\n      <td>2024-01-16 18:25:16 00:00</td>\n      <td>...</td>\n      <td>1.705429e+09</td>\n      <td>1.705429e+09</td>\n      <td>139.79</td>\n      <td>2024-01-16 18:20:46</td>\n      <td>2024-01-16 18:22:51</td>\n      <td>3</td>\n      <td>True</td>\n      <td>True</td>\n      <td>True</td>\n      <td>True</td>\n    </tr>\n    <tr>\n      <th>84</th>\n      <td>T4MEORG9STZITP</td>\n      <td>True</td>\n      <td>task1</td>\n      <td>batch1</td>\n      <td>unit_10</td>\n      <td>1</td>\n      <td>1</td>\n      <td>Next</td>\n      <td>Tue, 16 Jan 2024 18:25:17 GMT</td>\n      <td>2024-01-16 18:25:17 00:00</td>\n      <td>...</td>\n      <td>1.705429e+09</td>\n      <td>1.705430e+09</td>\n      <td>126.40</td>\n      <td>2024-01-16 18:23:06</td>\n      <td>2024-01-16 18:25:12</td>\n      <td>2</td>\n      <td>True</td>\n      <td>True</td>\n      <td>True</td>\n      <td>True</td>\n    </tr>\n    <tr>\n      <th>85</th>\n      <td>T4MEORG9STZITP</td>\n      <td>True</td>\n      <td>task1</td>\n      <td>batch1</td>\n      <td>unit_10</td>\n      <td>1</td>\n      <td>1</td>\n      <td>Next</td>\n      <td>Tue, 16 Jan 2024 18:27:16 GMT</td>\n      <td>2024-01-16 18:27:16 00:00</td>\n      <td>...</td>\n      <td>1.705430e+09</td>\n      <td>1.705430e+09</td>\n      <td>119.69</td>\n      <td>2024-01-16 18:25:17</td>\n      <td>2024-01-16 18:27:16</td>\n      <td>1</td>\n      <td>True</td>\n      <td>True</td>\n      <td>True</td>\n      <td>True</td>\n    </tr>\n    <tr>\n      <th>86</th>\n      <td>T4MEORG9STZITP</td>\n      <td>True</td>\n      <td>task1</td>\n      <td>batch1</td>\n      <td>unit_10</td>\n      <td>1</td>\n      <td>1</td>\n      <td>Finish</td>\n      <td>Tue, 16 Jan 2024 18:29:15 GMT</td>\n      <td>2024-01-16 18:29:15 00:00</td>\n      <td>...</td>\n      <td>1.705430e+09</td>\n      <td>1.705430e+09</td>\n      <td>117.82</td>\n      <td>2024-01-16 18:27:16</td>\n      <td>2024-01-16 18:29:14</td>\n      <td>1</td>\n      <td>True</td>\n      <td>True</td>\n      <td>True</td>\n      <td>True</td>\n    </tr>\n  </tbody>\n</table>\n<p>87 rows × 44 columns</p>\n</div>"
     },
     "execution_count": 30,
     "metadata": {},
     "output_type": "execute_result"
    }
   ],
   "source": [
    "workers_answers"
   ],
   "metadata": {
    "collapsed": false
   }
  },
  {
   "cell_type": "code",
   "execution_count": 31,
   "outputs": [],
   "source": [
    "absolute_frequencies = workers_questionnaire['question_answer_text'].value_counts()\n",
    "relative_frequencies = absolute_frequencies / len(workers_questionnaire)\n",
    "\n",
    "average_confidence = workers_answers.groupby('document_index')['Confidence_value'].mean()\n",
    "average_time_elapsed = workers_answers.groupby('document_index')['time_elapsed'].mean()"
   ],
   "metadata": {
    "collapsed": false,
    "ExecuteTime": {
     "end_time": "2024-01-17T19:39:11.162442Z",
     "start_time": "2024-01-17T19:39:11.151731Z"
    }
   }
  },
  {
   "cell_type": "code",
   "execution_count": 32,
   "outputs": [],
   "source": [
    "#da verificare\n",
    "total_units = len(workers_answers)\n",
    "matching_units = workers_answers[workers_answers['Reliability_value'] == workers_answers['Reliability_value']].shape[0]\n",
    "\n",
    "percent_agreement = (matching_units / total_units) * 100"
   ],
   "metadata": {
    "collapsed": false,
    "ExecuteTime": {
     "end_time": "2024-01-17T19:39:11.617296Z",
     "start_time": "2024-01-17T19:39:11.611847Z"
    }
   }
  },
  {
   "cell_type": "code",
   "execution_count": 33,
   "outputs": [
    {
     "name": "stdout",
     "output_type": "stream",
     "text": [
      "   document_id  Neutrality_index\n",
      "0   B015XC3B46               3.0\n",
      "1   B015XC3B46               1.0\n",
      "2   B015XC3B46               1.0\n",
      "3   B015XC3B46               3.0\n",
      "4   B0002KMHD6               2.0\n",
      "..         ...               ...\n",
      "65  B00QTSR5GO               4.0\n",
      "66  B00QTSR5GO               3.0\n",
      "67  B00QTSR5GO               4.0\n",
      "68  B00QTSR5GO               3.0\n",
      "69  B00QTSR5GO               2.0\n",
      "\n",
      "[70 rows x 2 columns]\n"
     ]
    }
   ],
   "source": [
    "# Inizializza una lista per i risultati\n",
    "result_list = []\n",
    "\n",
    "# Cicla sui valori unici della colonna document_id\n",
    "for doc_id in workers_answers['document_id'].unique():\n",
    "    # Filtra il DataFrame per il documento corrente\n",
    "    doc_df = workers_answers[workers_answers['document_id'] == doc_id]\n",
    "\n",
    "    # Conserva solo la prima risposta per ogni worker_id\n",
    "    unique_worker_ids = doc_df['worker_id'].unique()\n",
    "    for worker_id in unique_worker_ids:\n",
    "        first_answer_idx = doc_df[doc_df['worker_id'] == worker_id].index[0]\n",
    "        first_answer_row = doc_df.loc[first_answer_idx]\n",
    "        result_list.append({'document_id': doc_id, 'Neutrality_index': first_answer_row['Neutrality_index']})\n",
    "\n",
    "# Crea un DataFrame dai risultati\n",
    "result_df = pd.DataFrame(result_list)\n",
    "#print(result_df)# Visualizza il DataFrame risultante\n",
    "print(result_df)\n",
    "\n",
    "# Raggruppa per document_id e calcola la percentuale di accordo\n",
    "grouped_df = result_df.groupby('document_id')['Neutrality_index'].value_counts(normalize=True).mul(100).unstack().fillna(0)\n",
    "\n",
    "# Visualizza il DataFrame risultante\n",
    "#print(grouped_df)"
   ],
   "metadata": {
    "collapsed": false
   }
  },
  {
   "cell_type": "code",
   "execution_count": 33,
   "outputs": [],
   "source": [],
   "metadata": {
    "collapsed": false
   }
  },
  {
   "cell_type": "code",
   "execution_count": 34,
   "outputs": [
    {
     "name": "stdout",
     "output_type": "stream",
     "text": [
      "   document_id  Percent_Agreement\n",
      "0   B00004SVUZ          20.000000\n",
      "1   B00006JN5L          13.333333\n",
      "2   B0001DHQPI          13.333333\n",
      "3   B0002KMHD6          26.666667\n",
      "4   B000O39U3Q          13.333333\n",
      "5   B001DYVHY0          13.333333\n",
      "6   B0029MAXR2          13.333333\n",
      "7   B003TO59D2          20.000000\n",
      "8   B0041RUM0Q          13.333333\n",
      "9   B0050SYWGU          13.333333\n",
      "10  B005ZNWT4C          20.000000\n",
      "11  B00PNVOBTC          13.333333\n",
      "12  B00QTSR5GO          13.333333\n",
      "13  B015XC3B46          13.333333\n",
      "14  B01G6LXXWI           6.666667\n"
     ]
    }
   ],
   "source": [
    "grouped_df = result_df.groupby(['document_id', 'Neutrality_index']).size().reset_index(name='counts')\n",
    "\n",
    "# Crea un DataFrame pivot per avere le Neutrality_description come colonne\n",
    "pivot_df = grouped_df.pivot(index='document_id', columns='Neutrality_index', values='counts').fillna(0)\n",
    "\n",
    "# Calcola la percentuale di accordo per ciascun document_id\n",
    "total_documents = pivot_df.shape[0]\n",
    "matching_values = pivot_df.apply(lambda row: row.max(), axis=1)\n",
    "percent_agreement = (matching_values / total_documents) * 100\n",
    "\n",
    "# Visualizza il DataFrame risultante con la percentuale di accordo per ciascun document_id\n",
    "result_percent_df = pd.DataFrame({'document_id': percent_agreement.index, 'Percent_Agreement': percent_agreement.values})\n",
    "\n",
    "print(result_percent_df)"
   ],
   "metadata": {
    "collapsed": false
   }
  },
  {
   "cell_type": "code",
   "execution_count": 34,
   "outputs": [],
   "source": [],
   "metadata": {
    "collapsed": false
   }
  },
  {
   "cell_type": "code",
   "execution_count": 35,
   "outputs": [
    {
     "name": "stdout",
     "output_type": "stream",
     "text": [
      "   document_id  Pairwise_Agreement\n",
      "0   B00004SVUZ            0.028571\n",
      "1   B00006JN5L            0.019048\n",
      "2   B0001DHQPI            0.019048\n",
      "3   B0002KMHD6            0.038095\n",
      "4   B000O39U3Q            0.019048\n",
      "5   B001DYVHY0            0.019048\n",
      "6   B0029MAXR2            0.019048\n",
      "7   B003TO59D2            0.028571\n",
      "8   B0041RUM0Q            0.019048\n",
      "9   B0050SYWGU            0.019048\n",
      "10  B005ZNWT4C            0.028571\n",
      "11  B00PNVOBTC            0.019048\n",
      "12  B00QTSR5GO            0.019048\n",
      "13  B015XC3B46            0.019048\n",
      "14  B01G6LXXWI            0.009524\n"
     ]
    }
   ],
   "source": [
    "grouped_df = result_df.groupby(['document_id', 'Neutrality_index']).size().reset_index(name='counts')\n",
    "\n",
    "# Crea un DataFrame pivot per avere le Neutrality_description come colonne\n",
    "pivot_df = grouped_df.pivot(index='document_id', columns='Neutrality_index', values='counts').fillna(0)\n",
    "\n",
    "# Calcola il pairwise agreement per ciascun document_id\n",
    "total_documents = pivot_df.shape[0]\n",
    "pairwise_agreement = 2 * pivot_df.apply(lambda row: row.max(), axis=1) / (total_documents * (total_documents - 1))\n",
    "\n",
    "# Visualizza il DataFrame risultante con il pairwise agreement per ciascun document_id\n",
    "result_pairwise_df = pd.DataFrame({'document_id': pairwise_agreement.index, 'Pairwise_Agreement': pairwise_agreement.values})\n",
    "\n",
    "print(result_pairwise_df)"
   ],
   "metadata": {
    "collapsed": false
   }
  },
  {
   "cell_type": "code",
   "execution_count": 36,
   "outputs": [
    {
     "name": "stdout",
     "output_type": "stream",
     "text": [
      "Neutrality_index  0.0  1.0  2.0  3.0  4.0  Total\n",
      "document_id                                     \n",
      "B00004SVUZ        0.0  1.0  1.0  3.0  0.0    5.0\n",
      "B00006JN5L        2.0  0.0  2.0  0.0  1.0    5.0\n",
      "B0001DHQPI        1.0  2.0  0.0  2.0  0.0    5.0\n",
      "B0002KMHD6        0.0  0.0  1.0  4.0  0.0    5.0\n",
      "B000O39U3Q        1.0  1.0  0.0  2.0  1.0    5.0\n",
      "B001DYVHY0        0.0  1.0  0.0  2.0  2.0    5.0\n",
      "B0029MAXR2        0.0  2.0  1.0  2.0  0.0    5.0\n",
      "B003TO59D2        3.0  2.0  0.0  0.0  0.0    5.0\n",
      "B0041RUM0Q        0.0  0.0  0.0  2.0  2.0    4.0\n",
      "B0050SYWGU        0.0  0.0  1.0  2.0  1.0    4.0\n",
      "B005ZNWT4C        3.0  0.0  0.0  1.0  0.0    4.0\n",
      "B00PNVOBTC        0.0  0.0  1.0  2.0  1.0    4.0\n",
      "B00QTSR5GO        0.0  0.0  1.0  2.0  2.0    5.0\n",
      "B015XC3B46        0.0  2.0  0.0  2.0  0.0    4.0\n",
      "B01G6LXXWI        1.0  1.0  1.0  1.0  1.0    5.0\n"
     ]
    }
   ],
   "source": [
    "# Raggruppa per document_id e conta le occorrenze di ciascun valore Neutrality_description\n",
    "grouped_df = result_df.groupby(['document_id', 'Neutrality_index']).size().reset_index(name='counts')\n",
    "\n",
    "# Crea un DataFrame pivot per avere le Neutrality_description come colonne\n",
    "pivot_df = grouped_df.pivot(index='document_id', columns='Neutrality_index', values='counts').fillna(0)\n",
    "\n",
    "# Aggiungi una colonna con la somma totale delle risposte per ciascun document_id\n",
    "pivot_df['Total'] = pivot_df.sum(axis=1)\n",
    "\n",
    "\n",
    "\n",
    "# Visualizza il DataFrame risultante\n",
    "print(pivot_df)"
   ],
   "metadata": {
    "collapsed": false
   }
  },
  {
   "cell_type": "code",
   "execution_count": 26,
   "outputs": [
    {
     "ename": "TypeError",
     "evalue": "list indices must be integers or slices, not float",
     "output_type": "error",
     "traceback": [
      "\u001B[0;31m---------------------------------------------------------------------------\u001B[0m",
      "\u001B[0;31mTypeError\u001B[0m                                 Traceback (most recent call last)",
      "Cell \u001B[0;32mIn[26], line 7\u001B[0m\n\u001B[1;32m      4\u001B[0m     \u001B[38;5;28;01mfor\u001B[39;00m j \u001B[38;5;129;01min\u001B[39;00m pivot_df[document_id]:\n\u001B[1;32m      5\u001B[0m         somma \u001B[38;5;241m+\u001B[39m\u001B[38;5;241m=\u001B[39m j\u001B[38;5;241m*\u001B[39m(j\u001B[38;5;241m-\u001B[39m\u001B[38;5;241m1\u001B[39m)\n\u001B[0;32m----> 7\u001B[0m     lista[document_id]\n\u001B[1;32m      8\u001B[0m result \u001B[38;5;241m=\u001B[39m somma \u001B[38;5;241m/\u001B[39m\u001B[38;5;241m20\u001B[39m\n\u001B[1;32m     10\u001B[0m \u001B[38;5;28mprint\u001B[39m(result)\n",
      "\u001B[0;31mTypeError\u001B[0m: list indices must be integers or slices, not float"
     ]
    }
   ],
   "source": [
    "somma = 0\n",
    "lista = []\n",
    "for document_id in pivot_df:\n",
    "    for j in pivot_df[document_id]:\n",
    "        somma += j*(j-1)\n",
    "\n",
    "    lista[document_id]\n",
    "result = somma /20\n",
    "\n",
    "print(result)\n"
   ],
   "metadata": {
    "collapsed": false
   }
  },
  {
   "cell_type": "code",
   "execution_count": 91,
   "outputs": [
    {
     "data": {
      "text/plain": "         worker_id document_id  time_spedn\n0   7GFH0CXPHPTSPX  B015XC3B46      137.07\n1   7GFH0CXPHPTSPX  B0002KMHD6      201.01\n2   7GFH0CXPHPTSPX  B00006JN5L       78.06\n3   7GFH0CXPHPTSPX  B0001DHQPI      104.06\n4   7GFH0CXPHPTSPX  B001DYVHY0       73.04\n..             ...         ...         ...\n82  T4MEORG9STZITP  B00PNVOBTC      125.46\n83  T4MEORG9STZITP  B015XC3B46      125.06\n84  T4MEORG9STZITP  B00PNVOBTC      125.46\n85  T4MEORG9STZITP  B0041RUM0Q      119.69\n86  T4MEORG9STZITP  B001DYVHY0      117.82\n\n[87 rows x 3 columns]",
      "text/html": "<div>\n<style scoped>\n    .dataframe tbody tr th:only-of-type {\n        vertical-align: middle;\n    }\n\n    .dataframe tbody tr th {\n        vertical-align: top;\n    }\n\n    .dataframe thead th {\n        text-align: right;\n    }\n</style>\n<table border=\"1\" class=\"dataframe\">\n  <thead>\n    <tr style=\"text-align: right;\">\n      <th></th>\n      <th>worker_id</th>\n      <th>document_id</th>\n      <th>time_spedn</th>\n    </tr>\n  </thead>\n  <tbody>\n    <tr>\n      <th>0</th>\n      <td>7GFH0CXPHPTSPX</td>\n      <td>B015XC3B46</td>\n      <td>137.07</td>\n    </tr>\n    <tr>\n      <th>1</th>\n      <td>7GFH0CXPHPTSPX</td>\n      <td>B0002KMHD6</td>\n      <td>201.01</td>\n    </tr>\n    <tr>\n      <th>2</th>\n      <td>7GFH0CXPHPTSPX</td>\n      <td>B00006JN5L</td>\n      <td>78.06</td>\n    </tr>\n    <tr>\n      <th>3</th>\n      <td>7GFH0CXPHPTSPX</td>\n      <td>B0001DHQPI</td>\n      <td>104.06</td>\n    </tr>\n    <tr>\n      <th>4</th>\n      <td>7GFH0CXPHPTSPX</td>\n      <td>B001DYVHY0</td>\n      <td>73.04</td>\n    </tr>\n    <tr>\n      <th>...</th>\n      <td>...</td>\n      <td>...</td>\n      <td>...</td>\n    </tr>\n    <tr>\n      <th>82</th>\n      <td>T4MEORG9STZITP</td>\n      <td>B00PNVOBTC</td>\n      <td>125.46</td>\n    </tr>\n    <tr>\n      <th>83</th>\n      <td>T4MEORG9STZITP</td>\n      <td>B015XC3B46</td>\n      <td>125.06</td>\n    </tr>\n    <tr>\n      <th>84</th>\n      <td>T4MEORG9STZITP</td>\n      <td>B00PNVOBTC</td>\n      <td>125.46</td>\n    </tr>\n    <tr>\n      <th>85</th>\n      <td>T4MEORG9STZITP</td>\n      <td>B0041RUM0Q</td>\n      <td>119.69</td>\n    </tr>\n    <tr>\n      <th>86</th>\n      <td>T4MEORG9STZITP</td>\n      <td>B001DYVHY0</td>\n      <td>117.82</td>\n    </tr>\n  </tbody>\n</table>\n<p>87 rows × 3 columns</p>\n</div>"
     },
     "metadata": {},
     "output_type": "display_data"
    }
   ],
   "source": [
    "time_media = workers_answers[['worker_id', 'document_id', 'time_start', 'time_end']]\n",
    "time_media = time_media.copy()\n",
    "time_media['time_spedn'] = time_media['time_end'] - time_media['time_start']\n",
    "time_media = time_media.drop(['time_start', 'time_end'], axis=1)\n",
    "display(time_media)"
   ],
   "metadata": {
    "collapsed": false
   }
  },
  {
   "cell_type": "code",
   "execution_count": 94,
   "outputs": [
    {
     "data": {
      "text/plain": "worker_id\n7GFH0CXPHPTSPX    118.648000\nB0ARNFCRSNEXAS    153.752000\nB3QHTCHNCMXQ4H     81.260000\nCNZQBVRXLWYZG8    119.153333\nDLNY6ZIJOABZLJ    207.452000\nHAA3KNPKCB5DSG    844.542000\nISGHMQO0AXKFXS    118.063333\nIZ2TQI5OCUGD1N    289.696000\nJLVBHXOL0E65XT    121.256000\nKWJ2MEMELZHTD1    130.682727\nL292E0RLKG4B7U    238.840000\nMXLX3Z0LDZTDTY    451.120000\nOMLUXZWFN4LV8O    344.378000\nT4MEORG9STZITP    195.378889\nName: time_spedn, dtype: float64"
     },
     "metadata": {},
     "output_type": "display_data"
    },
    {
     "data": {
      "text/plain": "document_id\nB00004SVUZ     238.127143\nB00006JN5L      66.731667\nB0001DHQPI     396.858000\nB0002KMHD6     279.677143\nB000O39U3Q     112.948333\nB001DYVHY0     139.556000\nB0029MAXR2     225.012000\nB003TO59D2     275.245000\nB0041RUM0Q     196.190000\nB0050SYWGU     135.215000\nB005ZNWT4C    1120.625000\nB00PNVOBTC     185.670000\nB00QTSR5GO     112.741250\nB015XC3B46      69.405556\nB01G6LXXWI     214.120000\nName: time_spedn, dtype: float64"
     },
     "metadata": {},
     "output_type": "display_data"
    }
   ],
   "source": [
    "\n",
    "#Calcoliamo il tempo medio per worker\n",
    "tempo_medio_W = time_media.groupby('worker_id')['time_spedn'].mean()\n",
    "display(tempo_medio_W)\n",
    "\n",
    "#Calcoliamo il tempo medio per documento\n",
    "tempo_medio_D = time_media.groupby('document_id')['time_spedn'].mean()\n",
    "display(tempo_medio_D)\n",
    "\n",
    "\n"
   ],
   "metadata": {
    "collapsed": false
   }
  },
  {
   "cell_type": "code",
   "execution_count": 95,
   "outputs": [
    {
     "data": {
      "text/plain": "document_id\nB00004SVUZ    49.431818\nB00006JN5L    39.500000\nB0001DHQPI    75.833333\nB0002KMHD6    42.166667\nB000O39U3Q    80.400000\nB001DYVHY0    78.428571\nB0029MAXR2    76.000000\nB003TO59D2    33.250000\nB0041RUM0Q    69.160000\nB0050SYWGU    77.833333\nB005ZNWT4C    84.000000\nB00PNVOBTC    56.000000\nB00QTSR5GO    86.000000\nB015XC3B46    59.500000\nB01G6LXXWI    56.125000\nName: selection_value, dtype: float64"
     },
     "metadata": {},
     "output_type": "display_data"
    },
    {
     "data": {
      "text/plain": "worker_id\n7GFH0CXPHPTSPX    58.800000\nB0ARNFCRSNEXAS    69.142857\nB3QHTCHNCMXQ4H    85.000000\nCNZQBVRXLWYZG8    87.142857\nDLNY6ZIJOABZLJ    54.000000\nHAA3KNPKCB5DSG    92.500000\nISGHMQO0AXKFXS    67.000000\nIZ2TQI5OCUGD1N    94.111111\nJLVBHXOL0E65XT    65.571429\nKWJ2MEMELZHTD1    44.560440\nL292E0RLKG4B7U    48.875000\nMXLX3Z0LDZTDTY    80.000000\nOMLUXZWFN4LV8O    30.566667\nT4MEORG9STZITP    63.875000\nName: selection_value, dtype: float64"
     },
     "metadata": {},
     "output_type": "display_data"
    }
   ],
   "source": [
    "# vado a selezionare solo le colonne che voglio\n",
    "selected_columns = ['worker_id','document_id', 'selection_value']\n",
    "\n",
    "# Crea un nuovo dataframe includendo solo le colonne selezionate\n",
    "dimensions_selections = workers_dimensions_selection[selected_columns].copy()\n",
    "\n",
    "#media valutazione data per ogni documento, ( slider )\n",
    "media_valutazioni_D = dimensions_selections.groupby('document_id')['selection_value'].mean()\n",
    "display(media_valutazioni_D)\n",
    "\n",
    "#media valutazione data per ogni documento, da ogni worker, ( slider )\n",
    "media_valutazioni_W = dimensions_selections.groupby('worker_id')['selection_value'].mean()\n",
    "display(media_valutazioni_W)"
   ],
   "metadata": {
    "collapsed": false
   }
  },
  {
   "cell_type": "code",
   "execution_count": 100,
   "outputs": [
    {
     "data": {
      "text/plain": "<Figure size 640x480 with 1 Axes>",
      "image/png": "[encoded data removed]"
     },
     "metadata": {},
     "output_type": "display_data"
    },
    {
     "data": {
      "text/plain": "             valutazione_media  tempo_medio\ndocument_id                                \nB00004SVUZ           49.431818   238.127143\nB00006JN5L           39.500000    66.731667\nB0001DHQPI           75.833333   396.858000\nB0002KMHD6           42.166667   279.677143\nB000O39U3Q           80.400000   112.948333\nB001DYVHY0           78.428571   139.556000\nB0029MAXR2           76.000000   225.012000\nB003TO59D2           33.250000   275.245000\nB0041RUM0Q           69.160000   196.190000\nB0050SYWGU           77.833333   135.215000\nB005ZNWT4C           84.000000  1120.625000\nB00PNVOBTC           56.000000   185.670000\nB00QTSR5GO           86.000000   112.741250\nB015XC3B46           59.500000    69.405556\nB01G6LXXWI           56.125000   214.120000",
      "text/html": "<div>\n<style scoped>\n    .dataframe tbody tr th:only-of-type {\n        vertical-align: middle;\n    }\n\n    .dataframe tbody tr th {\n        vertical-align: top;\n    }\n\n    .dataframe thead th {\n        text-align: right;\n    }\n</style>\n<table border=\"1\" class=\"dataframe\">\n  <thead>\n    <tr style=\"text-align: right;\">\n      <th></th>\n      <th>valutazione_media</th>\n      <th>tempo_medio</th>\n    </tr>\n    <tr>\n      <th>document_id</th>\n      <th></th>\n      <th></th>\n    </tr>\n  </thead>\n  <tbody>\n    <tr>\n      <th>B00004SVUZ</th>\n      <td>49.431818</td>\n      <td>238.127143</td>\n    </tr>\n    <tr>\n      <th>B00006JN5L</th>\n      <td>39.500000</td>\n      <td>66.731667</td>\n    </tr>\n    <tr>\n      <th>B0001DHQPI</th>\n      <td>75.833333</td>\n      <td>396.858000</td>\n    </tr>\n    <tr>\n      <th>B0002KMHD6</th>\n      <td>42.166667</td>\n      <td>279.677143</td>\n    </tr>\n    <tr>\n      <th>B000O39U3Q</th>\n      <td>80.400000</td>\n      <td>112.948333</td>\n    </tr>\n    <tr>\n      <th>B001DYVHY0</th>\n      <td>78.428571</td>\n      <td>139.556000</td>\n    </tr>\n    <tr>\n      <th>B0029MAXR2</th>\n      <td>76.000000</td>\n      <td>225.012000</td>\n    </tr>\n    <tr>\n      <th>B003TO59D2</th>\n      <td>33.250000</td>\n      <td>275.245000</td>\n    </tr>\n    <tr>\n      <th>B0041RUM0Q</th>\n      <td>69.160000</td>\n      <td>196.190000</td>\n    </tr>\n    <tr>\n      <th>B0050SYWGU</th>\n      <td>77.833333</td>\n      <td>135.215000</td>\n    </tr>\n    <tr>\n      <th>B005ZNWT4C</th>\n      <td>84.000000</td>\n      <td>1120.625000</td>\n    </tr>\n    <tr>\n      <th>B00PNVOBTC</th>\n      <td>56.000000</td>\n      <td>185.670000</td>\n    </tr>\n    <tr>\n      <th>B00QTSR5GO</th>\n      <td>86.000000</td>\n      <td>112.741250</td>\n    </tr>\n    <tr>\n      <th>B015XC3B46</th>\n      <td>59.500000</td>\n      <td>69.405556</td>\n    </tr>\n    <tr>\n      <th>B01G6LXXWI</th>\n      <td>56.125000</td>\n      <td>214.120000</td>\n    </tr>\n  </tbody>\n</table>\n</div>"
     },
     "metadata": {},
     "output_type": "display_data"
    }
   ],
   "source": [
    "import pandas as pd\n",
    "import matplotlib.pyplot as plt\n",
    "\n",
    "#unisco i due dataframe per avere valutazione medi e tempo medio per ogni docuemnto\n",
    "merged_dataset = pd.merge(media_valutazioni_D, tempo_medio_D, on='document_id')\n",
    "\n",
    "merged_dataset = merged_dataset.rename(columns={'selection_value': 'valutazione_media',\n",
    "                                                'time_spedn': 'tempo_medio'})\n",
    "\n",
    "# Crea il grafico\n",
    "plt.scatter(merged_dataset['valutazione_media'], merged_dataset['tempo_medio'])\n",
    "plt.xlabel('Valutazione Media')\n",
    "plt.ylabel('Tempo Medio')\n",
    "plt.title('Scatter Plot tra Valutazione Media e Tempo Medio')\n",
    "plt.show()\n",
    "\n",
    "'''\n",
    "Un'analisi può esser che non si notano correlazioni con tempo e valutazione, nel senso che una valutazione alta non equivale a un tempo medio elevato di rispota,\n",
    "anche se poteva esser cosi perche per avere una valutazione alta, la recensione deve essere molto prolissa e ben sturitturata, quindi ci vuoleva mooto tempo ma non  e coi.\n",
    "'''\n",
    "\n",
    "\n",
    "display(merged_dataset)"
   ],
   "metadata": {
    "collapsed": false
   }
  },
  {
   "cell_type": "code",
   "execution_count": null,
   "outputs": [],
   "source": [],
   "metadata": {
    "collapsed": false
   }
  }
 ],
 "metadata": {
  "kernelspec": {
   "display_name": "Python 3",
   "language": "python",
   "name": "python3"
  },
  "language_info": {
   "codemirror_mode": {
    "name": "ipython",
    "version": 2
   },
   "file_extension": ".py",
   "mimetype": "text/x-python",
   "name": "python",
   "nbconvert_exporter": "python",
   "pygments_lexer": "ipython2",
   "version": "2.7.6"
  }
 },
 "nbformat": 4,
 "nbformat_minor": 0
}
