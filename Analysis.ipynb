{
 "cells": [
  {
   "cell_type": "code",
   "execution_count": 1,
   "metadata": {
    "ExecuteTime": {
     "end_time": "2024-01-17T19:39:10.335789Z",
     "start_time": "2024-01-17T19:39:10.330460Z"
    },
    "collapsed": true
   },
   "outputs": [],
   "source": [
    "import pandas as pd\n",
    "import numpy as np\n",
    "import matplotlib.pyplot as plt\n"
   ]
  },
  {
   "cell_type": "code",
   "execution_count": 2,
   "metadata": {
    "ExecuteTime": {
     "end_time": "2024-01-17T19:39:10.751903Z",
     "start_time": "2024-01-17T19:39:10.692812Z"
    },
    "collapsed": false
   },
   "outputs": [],
   "source": [
    "workers_answers = pd.read_csv(\"Crowd_Frame riscaricato/data/result/task1/Dataframe/workers_answers.csv\")\n",
    "workers_questionnaire = pd.read_csv(\"Crowd_Frame riscaricato/data/result/task1/Dataframe/workers_questionnaire.csv\")\n",
    "workers_dimensions_selection = pd.read_csv(\"Crowd_Frame riscaricato/data/result/task1/Dataframe/workers_dimensions_selection.csv\")\n"
   ]
  },
  {
   "cell_type": "code",
   "execution_count": 12,
   "metadata": {
    "collapsed": false
   },
   "outputs": [
    {
     "name": "stdout",
     "output_type": "stream",
     "text": [
      "question_answer_text\n",
      "18-24    0.933333\n",
      "25-34    0.066667\n",
      "Name: count, dtype: float64\n",
      "question_answer_text\n",
      "Male      0.8\n",
      "Female    0.2\n",
      "Name: count, dtype: float64\n",
      "question_answer_text\n",
      "A few times a week    0.466667\n",
      "Never                 0.200000\n",
      "Rarely                0.200000\n",
      "Once a month          0.066667\n",
      "Every day             0.066667\n",
      "Name: count, dtype: float64\n",
      "question_answer_text\n",
      "Rarely (for 20% of products)                     0.666667\n",
      "Occasionally (for 50% of products)               0.133333\n",
      "Never (I'm not interested in writing reviews)    0.133333\n",
      "Often (for 80% of products)                      0.066667\n",
      "Name: count, dtype: float64\n",
      "question_answer_text\n",
      "Quite inclined (yes, they influence my purchase decision)    0.533333\n",
      "Very inclined (yes, I decisively base my choices)            0.266667\n",
      "Moderately inclined (yes, I consider them but not only)      0.133333\n",
      "Not very inclined (no, I consider other factors)             0.066667\n",
      "Name: count, dtype: float64\n"
     ]
    }
   ],
   "source": [
    "workers_answers\n",
    "\n",
    "Age = workers_questionnaire[workers_questionnaire['question_attribute_name'] == \"Age\"]\n",
    "absolute_frequencies_Age = Age['question_answer_text'].value_counts()\n",
    "relative_frequencies_Age = absolute_frequencies_Age / len(Age)\n",
    "print(relative_frequencies_Age)\n",
    "\n",
    "Gender = workers_questionnaire[workers_questionnaire['question_attribute_name'] == \"Gender\"]\n",
    "absolute_frequencies_Gender = Gender['question_answer_text'].value_counts()\n",
    "relative_frequencies_Gender = absolute_frequencies_Gender / len(Gender)\n",
    "print(relative_frequencies_Gender)\n",
    "\n",
    "Gaming_Frequency = workers_questionnaire[workers_questionnaire['question_attribute_name'] == \"Gaming Frequency\"]\n",
    "absolute_frequencies_Gaming_Frequency = Gaming_Frequency['question_answer_text'].value_counts()\n",
    "relative_frequencies_Gaming_Frequency = absolute_frequencies_Gaming_Frequency / len(Gaming_Frequency)\n",
    "print(relative_frequencies_Gaming_Frequency)\n",
    "\n",
    "Write_Reviews = workers_questionnaire[workers_questionnaire['question_attribute_name'] == \"Reliance on Reviews\"]\n",
    "absolute_frequencies_Write_Reviews = Write_Reviews['question_answer_text'].value_counts()\n",
    "relative_frequencies_Write_Reviews = absolute_frequencies_Write_Reviews / len(Write_Reviews)\n",
    "print(relative_frequencies_Write_Reviews)\n",
    "\n",
    "Trust_Reviews = workers_questionnaire[workers_questionnaire['question_attribute_name'] == \"Trust in Reviews\"]\n",
    "absolute_frequencies_Trust_Reviews = Trust_Reviews['question_answer_text'].value_counts()\n",
    "relative_frequencies_Trust_Reviews = absolute_frequencies_Trust_Reviews / len(Trust_Reviews)\n",
    "print(relative_frequencies_Trust_Reviews)"
   ]
  },
  {
   "cell_type": "code",
   "execution_count": 13,
   "metadata": {
    "ExecuteTime": {
     "end_time": "2024-01-17T19:39:11.162442Z",
     "start_time": "2024-01-17T19:39:11.151731Z"
    },
    "collapsed": false
   },
   "outputs": [],
   "source": [
    "absolute_frequencies = workers_questionnaire['question_answer_text'].value_counts()\n",
    "relative_frequencies = absolute_frequencies / len(workers_questionnaire)\n",
    "\n",
    "average_confidence = workers_answers.groupby('document_index')['Confidence_value'].mean()\n",
    "average_time_elapsed = workers_answers.groupby('document_index')['time_elapsed'].mean()"
   ]
  },
  {
   "cell_type": "code",
   "execution_count": 14,
   "metadata": {
    "ExecuteTime": {
     "end_time": "2024-01-17T19:39:11.617296Z",
     "start_time": "2024-01-17T19:39:11.611847Z"
    },
    "collapsed": false
   },
   "outputs": [],
   "source": [
    "#da verificare\n",
    "total_units = len(workers_answers)\n",
    "matching_units = workers_answers[workers_answers['Reliability_value'] == workers_answers['Reliability_value']].shape[0]\n",
    "\n",
    "percent_agreement = (matching_units / total_units) * 100"
   ]
  },
  {
   "cell_type": "code",
   "execution_count": 15,
   "metadata": {
    "collapsed": false
   },
   "outputs": [
    {
     "name": "stdout",
     "output_type": "stream",
     "text": [
      "   document_id  Neutrality_index\n",
      "0   B00PNVOBTC               4.0\n",
      "1   B00PNVOBTC               3.0\n",
      "2   B00PNVOBTC               4.0\n",
      "3   B00PNVOBTC               2.0\n",
      "4   B00PNVOBTC               3.0\n",
      "..         ...               ...\n",
      "70  B00QTSR5GO               4.0\n",
      "71  B00QTSR5GO               3.0\n",
      "72  B00QTSR5GO               4.0\n",
      "73  B00QTSR5GO               3.0\n",
      "74  B00QTSR5GO               2.0\n",
      "\n",
      "[75 rows x 2 columns]\n"
     ]
    }
   ],
   "source": [
    "# Inizializza una lista per i risultati\n",
    "result_list = []\n",
    "\n",
    "# Cicla sui valori unici della colonna document_id\n",
    "for doc_id in workers_answers['document_id'].unique():\n",
    "    # Filtra il DataFrame per il documento corrente\n",
    "    doc_df = workers_answers[workers_answers['document_id'] == doc_id]\n",
    "\n",
    "    # Conserva solo la prima risposta per ogni worker_id\n",
    "    unique_worker_ids = doc_df['worker_id'].unique()\n",
    "    for worker_id in unique_worker_ids:\n",
    "        first_answer_idx = doc_df[doc_df['worker_id'] == worker_id].index[0]\n",
    "        first_answer_row = doc_df.loc[first_answer_idx]\n",
    "        result_list.append({'document_id': doc_id, 'Neutrality_index': first_answer_row['Neutrality_index']})\n",
    "\n",
    "# Crea un DataFrame dai risultati\n",
    "result_df = pd.DataFrame(result_list)\n",
    "#print(result_df)# Visualizza il DataFrame risultante\n",
    "print(result_df)\n",
    "\n",
    "# Raggruppa per document_id e calcola la percentuale di accordo\n",
    "grouped_df = result_df.groupby('document_id')['Neutrality_index'].value_counts(normalize=True).mul(100).unstack().fillna(0)\n",
    "\n",
    "# Visualizza il DataFrame risultante\n",
    "#print(grouped_df)"
   ]
  },
  {
   "cell_type": "code",
   "execution_count": 16,
   "metadata": {
    "collapsed": false
   },
   "outputs": [
    {
     "name": "stdout",
     "output_type": "stream",
     "text": [
      "   document_id  Percent_Agreement\n",
      "0   B00004SVUZ          20.000000\n",
      "1   B00006JN5L          13.333333\n",
      "2   B0001DHQPI          13.333333\n",
      "3   B0002KMHD6          26.666667\n",
      "4   B000O39U3Q          13.333333\n",
      "5   B001DYVHY0          13.333333\n",
      "6   B0029MAXR2          13.333333\n",
      "7   B003TO59D2          20.000000\n",
      "8   B0041RUM0Q          20.000000\n",
      "9   B0050SYWGU          20.000000\n",
      "10  B005ZNWT4C          26.666667\n",
      "11  B00PNVOBTC          13.333333\n",
      "12  B00QTSR5GO          13.333333\n",
      "13  B015XC3B46          13.333333\n",
      "14  B01G6LXXWI           6.666667\n"
     ]
    }
   ],
   "source": [
    "grouped_df = result_df.groupby(['document_id', 'Neutrality_index']).size().reset_index(name='counts')\n",
    "\n",
    "# Crea un DataFrame pivot per avere le Neutrality_description come colonne\n",
    "pivot_df = grouped_df.pivot(index='document_id', columns='Neutrality_index', values='counts').fillna(0)\n",
    "\n",
    "# Calcola la percentuale di accordo per ciascun document_id\n",
    "total_documents = pivot_df.shape[0]\n",
    "matching_values = pivot_df.apply(lambda row: row.max(), axis=1)\n",
    "percent_agreement = (matching_values / total_documents) * 100\n",
    "\n",
    "# Visualizza il DataFrame risultante con la percentuale di accordo per ciascun document_id\n",
    "result_percent_df = pd.DataFrame({'document_id': percent_agreement.index, 'Percent_Agreement': percent_agreement.values})\n",
    "\n",
    "print(result_percent_df)"
   ]
  },
  {
   "cell_type": "code",
   "execution_count": 19,
   "outputs": [
    {
     "data": {
      "text/plain": "         worker_id  paid task_name batch_name  unit_id  try_last  try_current  \\\n1   1ONCOX6OYV8XZJ  True     task1     batch1  unit_13         1            1   \n2   1ONCOX6OYV8XZJ  True     task1     batch1  unit_13         1            1   \n5   1ONCOX6OYV8XZJ  True     task1     batch1  unit_13         1            1   \n6   1ONCOX6OYV8XZJ  True     task1     batch1  unit_13         1            1   \n7   7GFH0CXPHPTSPX  True     task1     batch1   unit_1         1            1   \n..             ...   ...       ...        ...      ...       ...          ...   \n87  T4MEORG9STZITP  True     task1     batch1  unit_10         1            1   \n90  T4MEORG9STZITP  True     task1     batch1  unit_10         1            1   \n91  T4MEORG9STZITP  True     task1     batch1  unit_10         1            1   \n92  T4MEORG9STZITP  True     task1     batch1  unit_10         1            1   \n93  T4MEORG9STZITP  True     task1     batch1  unit_10         1            1   \n\n    action                    time_submit time_submit_parsed  ...  \\\n1     Next  Fri, 19 Jan 2024 12:24:20 GMT         2024-01-19  ...   \n2     Next  Fri, 19 Jan 2024 12:30:14 GMT         2024-01-19  ...   \n5     Next  Fri, 19 Jan 2024 12:32:25 GMT         2024-01-19  ...   \n6   Finish  Fri, 19 Jan 2024 12:34:28 GMT         2024-01-19  ...   \n7     Next  Tue, 16 Jan 2024 09:38:22 GMT         2024-01-16  ...   \n..     ...                            ...                ...  ...   \n87    Next  Tue, 16 Jan 2024 18:22:56 GMT         2024-01-16  ...   \n90    Next  Tue, 16 Jan 2024 18:25:16 GMT         2024-01-16  ...   \n91    Next  Tue, 16 Jan 2024 18:25:17 GMT         2024-01-16  ...   \n92    Next  Tue, 16 Jan 2024 18:27:16 GMT         2024-01-16  ...   \n93  Finish  Tue, 16 Jan 2024 18:29:15 GMT         2024-01-16  ...   \n\n      time_start      time_end  time_elapsed    time_start_parsed  \\\n1   1.705667e+09  1.705667e+09        177.34  2024-01-19 12:21:23   \n2   1.705667e+09  1.705667e+09        353.42  2024-01-19 12:24:20   \n5   1.705667e+09  1.705668e+09        120.66  2024-01-19 12:30:14   \n6   1.705668e+09  1.705668e+09        133.32  2024-01-19 12:31:57   \n7   1.705398e+09  1.705398e+09        137.07  2024-01-16 09:36:05   \n..           ...           ...           ...                  ...   \n87  1.705429e+09  1.705429e+09        451.63  2024-01-16 18:13:19   \n90  1.705429e+09  1.705429e+09        139.79  2024-01-16 18:20:46   \n91  1.705429e+09  1.705430e+09        126.40  2024-01-16 18:23:06   \n92  1.705430e+09  1.705430e+09        119.69  2024-01-16 18:25:17   \n93  1.705430e+09  1.705430e+09        117.82  2024-01-16 18:27:16   \n\n        time_end_parsed accesses  global_outcome global_form_validity  \\\n1   2024-01-19 12:24:20        1            True                 True   \n2   2024-01-19 12:30:14        1            True                 True   \n5   2024-01-19 12:31:57        2            True                 True   \n6   2024-01-19 12:32:07        2            True                 True   \n7   2024-01-16 09:38:22        1            True                 True   \n..                  ...      ...             ...                  ...   \n87  2024-01-16 18:20:46        2            True                 True   \n90  2024-01-16 18:22:51        3            True                 True   \n91  2024-01-16 18:25:12        2            True                 True   \n92  2024-01-16 18:27:16        1            True                 True   \n93  2024-01-16 18:29:14        1            True                 True   \n\n    gold_checks time_spent_check  \n1          True             True  \n2          True             True  \n5          True             True  \n6          True             True  \n7          True             True  \n..          ...              ...  \n87         True             True  \n90         True             True  \n91         True             True  \n92         True             True  \n93         True             True  \n\n[74 rows x 44 columns]",
      "text/html": "<div>\n<style scoped>\n    .dataframe tbody tr th:only-of-type {\n        vertical-align: middle;\n    }\n\n    .dataframe tbody tr th {\n        vertical-align: top;\n    }\n\n    .dataframe thead th {\n        text-align: right;\n    }\n</style>\n<table border=\"1\" class=\"dataframe\">\n  <thead>\n    <tr style=\"text-align: right;\">\n      <th></th>\n      <th>worker_id</th>\n      <th>paid</th>\n      <th>task_name</th>\n      <th>batch_name</th>\n      <th>unit_id</th>\n      <th>try_last</th>\n      <th>try_current</th>\n      <th>action</th>\n      <th>time_submit</th>\n      <th>time_submit_parsed</th>\n      <th>...</th>\n      <th>time_start</th>\n      <th>time_end</th>\n      <th>time_elapsed</th>\n      <th>time_start_parsed</th>\n      <th>time_end_parsed</th>\n      <th>accesses</th>\n      <th>global_outcome</th>\n      <th>global_form_validity</th>\n      <th>gold_checks</th>\n      <th>time_spent_check</th>\n    </tr>\n  </thead>\n  <tbody>\n    <tr>\n      <th>1</th>\n      <td>1ONCOX6OYV8XZJ</td>\n      <td>True</td>\n      <td>task1</td>\n      <td>batch1</td>\n      <td>unit_13</td>\n      <td>1</td>\n      <td>1</td>\n      <td>Next</td>\n      <td>Fri, 19 Jan 2024 12:24:20 GMT</td>\n      <td>2024-01-19</td>\n      <td>...</td>\n      <td>1.705667e+09</td>\n      <td>1.705667e+09</td>\n      <td>177.34</td>\n      <td>2024-01-19 12:21:23</td>\n      <td>2024-01-19 12:24:20</td>\n      <td>1</td>\n      <td>True</td>\n      <td>True</td>\n      <td>True</td>\n      <td>True</td>\n    </tr>\n    <tr>\n      <th>2</th>\n      <td>1ONCOX6OYV8XZJ</td>\n      <td>True</td>\n      <td>task1</td>\n      <td>batch1</td>\n      <td>unit_13</td>\n      <td>1</td>\n      <td>1</td>\n      <td>Next</td>\n      <td>Fri, 19 Jan 2024 12:30:14 GMT</td>\n      <td>2024-01-19</td>\n      <td>...</td>\n      <td>1.705667e+09</td>\n      <td>1.705667e+09</td>\n      <td>353.42</td>\n      <td>2024-01-19 12:24:20</td>\n      <td>2024-01-19 12:30:14</td>\n      <td>1</td>\n      <td>True</td>\n      <td>True</td>\n      <td>True</td>\n      <td>True</td>\n    </tr>\n    <tr>\n      <th>5</th>\n      <td>1ONCOX6OYV8XZJ</td>\n      <td>True</td>\n      <td>task1</td>\n      <td>batch1</td>\n      <td>unit_13</td>\n      <td>1</td>\n      <td>1</td>\n      <td>Next</td>\n      <td>Fri, 19 Jan 2024 12:32:25 GMT</td>\n      <td>2024-01-19</td>\n      <td>...</td>\n      <td>1.705667e+09</td>\n      <td>1.705668e+09</td>\n      <td>120.66</td>\n      <td>2024-01-19 12:30:14</td>\n      <td>2024-01-19 12:31:57</td>\n      <td>2</td>\n      <td>True</td>\n      <td>True</td>\n      <td>True</td>\n      <td>True</td>\n    </tr>\n    <tr>\n      <th>6</th>\n      <td>1ONCOX6OYV8XZJ</td>\n      <td>True</td>\n      <td>task1</td>\n      <td>batch1</td>\n      <td>unit_13</td>\n      <td>1</td>\n      <td>1</td>\n      <td>Finish</td>\n      <td>Fri, 19 Jan 2024 12:34:28 GMT</td>\n      <td>2024-01-19</td>\n      <td>...</td>\n      <td>1.705668e+09</td>\n      <td>1.705668e+09</td>\n      <td>133.32</td>\n      <td>2024-01-19 12:31:57</td>\n      <td>2024-01-19 12:32:07</td>\n      <td>2</td>\n      <td>True</td>\n      <td>True</td>\n      <td>True</td>\n      <td>True</td>\n    </tr>\n    <tr>\n      <th>7</th>\n      <td>7GFH0CXPHPTSPX</td>\n      <td>True</td>\n      <td>task1</td>\n      <td>batch1</td>\n      <td>unit_1</td>\n      <td>1</td>\n      <td>1</td>\n      <td>Next</td>\n      <td>Tue, 16 Jan 2024 09:38:22 GMT</td>\n      <td>2024-01-16</td>\n      <td>...</td>\n      <td>1.705398e+09</td>\n      <td>1.705398e+09</td>\n      <td>137.07</td>\n      <td>2024-01-16 09:36:05</td>\n      <td>2024-01-16 09:38:22</td>\n      <td>1</td>\n      <td>True</td>\n      <td>True</td>\n      <td>True</td>\n      <td>True</td>\n    </tr>\n    <tr>\n      <th>...</th>\n      <td>...</td>\n      <td>...</td>\n      <td>...</td>\n      <td>...</td>\n      <td>...</td>\n      <td>...</td>\n      <td>...</td>\n      <td>...</td>\n      <td>...</td>\n      <td>...</td>\n      <td>...</td>\n      <td>...</td>\n      <td>...</td>\n      <td>...</td>\n      <td>...</td>\n      <td>...</td>\n      <td>...</td>\n      <td>...</td>\n      <td>...</td>\n      <td>...</td>\n      <td>...</td>\n    </tr>\n    <tr>\n      <th>87</th>\n      <td>T4MEORG9STZITP</td>\n      <td>True</td>\n      <td>task1</td>\n      <td>batch1</td>\n      <td>unit_10</td>\n      <td>1</td>\n      <td>1</td>\n      <td>Next</td>\n      <td>Tue, 16 Jan 2024 18:22:56 GMT</td>\n      <td>2024-01-16</td>\n      <td>...</td>\n      <td>1.705429e+09</td>\n      <td>1.705429e+09</td>\n      <td>451.63</td>\n      <td>2024-01-16 18:13:19</td>\n      <td>2024-01-16 18:20:46</td>\n      <td>2</td>\n      <td>True</td>\n      <td>True</td>\n      <td>True</td>\n      <td>True</td>\n    </tr>\n    <tr>\n      <th>90</th>\n      <td>T4MEORG9STZITP</td>\n      <td>True</td>\n      <td>task1</td>\n      <td>batch1</td>\n      <td>unit_10</td>\n      <td>1</td>\n      <td>1</td>\n      <td>Next</td>\n      <td>Tue, 16 Jan 2024 18:25:16 GMT</td>\n      <td>2024-01-16</td>\n      <td>...</td>\n      <td>1.705429e+09</td>\n      <td>1.705429e+09</td>\n      <td>139.79</td>\n      <td>2024-01-16 18:20:46</td>\n      <td>2024-01-16 18:22:51</td>\n      <td>3</td>\n      <td>True</td>\n      <td>True</td>\n      <td>True</td>\n      <td>True</td>\n    </tr>\n    <tr>\n      <th>91</th>\n      <td>T4MEORG9STZITP</td>\n      <td>True</td>\n      <td>task1</td>\n      <td>batch1</td>\n      <td>unit_10</td>\n      <td>1</td>\n      <td>1</td>\n      <td>Next</td>\n      <td>Tue, 16 Jan 2024 18:25:17 GMT</td>\n      <td>2024-01-16</td>\n      <td>...</td>\n      <td>1.705429e+09</td>\n      <td>1.705430e+09</td>\n      <td>126.40</td>\n      <td>2024-01-16 18:23:06</td>\n      <td>2024-01-16 18:25:12</td>\n      <td>2</td>\n      <td>True</td>\n      <td>True</td>\n      <td>True</td>\n      <td>True</td>\n    </tr>\n    <tr>\n      <th>92</th>\n      <td>T4MEORG9STZITP</td>\n      <td>True</td>\n      <td>task1</td>\n      <td>batch1</td>\n      <td>unit_10</td>\n      <td>1</td>\n      <td>1</td>\n      <td>Next</td>\n      <td>Tue, 16 Jan 2024 18:27:16 GMT</td>\n      <td>2024-01-16</td>\n      <td>...</td>\n      <td>1.705430e+09</td>\n      <td>1.705430e+09</td>\n      <td>119.69</td>\n      <td>2024-01-16 18:25:17</td>\n      <td>2024-01-16 18:27:16</td>\n      <td>1</td>\n      <td>True</td>\n      <td>True</td>\n      <td>True</td>\n      <td>True</td>\n    </tr>\n    <tr>\n      <th>93</th>\n      <td>T4MEORG9STZITP</td>\n      <td>True</td>\n      <td>task1</td>\n      <td>batch1</td>\n      <td>unit_10</td>\n      <td>1</td>\n      <td>1</td>\n      <td>Finish</td>\n      <td>Tue, 16 Jan 2024 18:29:15 GMT</td>\n      <td>2024-01-16</td>\n      <td>...</td>\n      <td>1.705430e+09</td>\n      <td>1.705430e+09</td>\n      <td>117.82</td>\n      <td>2024-01-16 18:27:16</td>\n      <td>2024-01-16 18:29:14</td>\n      <td>1</td>\n      <td>True</td>\n      <td>True</td>\n      <td>True</td>\n      <td>True</td>\n    </tr>\n  </tbody>\n</table>\n<p>74 rows × 44 columns</p>\n</div>"
     },
     "execution_count": 19,
     "metadata": {},
     "output_type": "execute_result"
    }
   ],
   "source": [
    "workers_answers['time_submit_parsed'] = pd.to_datetime(workers_answers['time_submit_parsed'])\n",
    "\n",
    "# Itera su ciascun worker_id\n",
    "for worker_id in workers_answers['worker_id'].unique():\n",
    "    # Filtra le righe relative al worker_id corrente\n",
    "    worker_df = workers_answers[workers_answers['worker_id'] == worker_id]\n",
    "\n",
    "    # Trova i document_id duplicati con il time_submit_parsed più basso\n",
    "    duplicate_rows = worker_df[worker_df.duplicated(subset=['document_id'], keep='last')]\n",
    "\n",
    "    # Ottieni gli indici delle righe da eliminare\n",
    "    rows_to_drop = duplicate_rows.index\n",
    "\n",
    "    # Elimina le righe non necessarie\n",
    "    workers_answers = workers_answers.drop(rows_to_drop)\n"
   ],
   "metadata": {
    "collapsed": false
   }
  },
  {
   "cell_type": "code",
   "execution_count": 52,
   "metadata": {
    "collapsed": false
   },
   "outputs": [
    {
     "data": {
      "text/plain": "document_id     B00004SVUZ  B00006JN5L  B0001DHQPI  B0002KMHD6  B000O39U3Q  \\\nworker_id                                                                    \n1ONCOX6OYV8XZJ         NaN         NaN         NaN         NaN         NaN   \n7GFH0CXPHPTSPX         NaN         0.0         1.0         0.0         NaN   \nB0ARNFCRSNEXAS         NaN         NaN         NaN         NaN        -1.0   \nB3QHTCHNCMXQ4H         1.0         NaN         NaN         NaN         NaN   \nCNZQBVRXLWYZG8         NaN        -2.0         1.0         1.0         NaN   \nDLNY6ZIJOABZLJ         NaN         NaN         NaN         NaN         2.0   \nHAA3KNPKCB5DSG         0.0        -2.0        -1.0         NaN         NaN   \nISGHMQO0AXKFXS         1.0         0.0        -2.0         NaN         NaN   \nIZ2TQI5OCUGD1N         1.0         NaN         NaN         NaN         1.0   \nJLVBHXOL0E65XT         NaN         NaN         NaN         1.0         NaN   \nKWJ2MEMELZHTD1         1.0         NaN         NaN         1.0         1.0   \nL292E0RLKG4B7U         NaN         NaN         NaN         NaN        -2.0   \nMXLX3Z0LDZTDTY         NaN         NaN        -1.0         NaN         NaN   \nOMLUXZWFN4LV8O         NaN        -2.0         NaN         NaN         NaN   \nT4MEORG9STZITP         NaN         NaN         NaN         1.0         NaN   \n\ndocument_id     B001DYVHY0  B0029MAXR2  B003TO59D2  B0041RUM0Q  B0050SYWGU  \\\nworker_id                                                                    \n1ONCOX6OYV8XZJ         NaN         NaN         NaN         1.0         1.0   \n7GFH0CXPHPTSPX         2.0         NaN         NaN         NaN         NaN   \nB0ARNFCRSNEXAS         NaN        -1.0        -1.0         1.0         NaN   \nB3QHTCHNCMXQ4H         NaN         NaN        -1.0         NaN         1.0   \nCNZQBVRXLWYZG8         2.0         NaN         NaN         NaN         NaN   \nDLNY6ZIJOABZLJ         NaN        -1.0         NaN         2.0         NaN   \nHAA3KNPKCB5DSG         NaN         NaN         NaN         NaN         NaN   \nISGHMQO0AXKFXS         NaN         NaN         NaN         NaN         NaN   \nIZ2TQI5OCUGD1N         NaN         1.0        -2.0         NaN         NaN   \nJLVBHXOL0E65XT         1.0         NaN         NaN         NaN         0.0   \nKWJ2MEMELZHTD1         NaN         NaN         NaN         NaN         2.0   \nL292E0RLKG4B7U         NaN         1.0         2.0         NaN         1.0   \nMXLX3Z0LDZTDTY         1.0         0.0         NaN         NaN         NaN   \nOMLUXZWFN4LV8O         NaN         NaN        -2.0         1.0         NaN   \nT4MEORG9STZITP        -1.0         NaN         NaN         2.0         NaN   \n\ndocument_id     B005ZNWT4C  B00PNVOBTC  B00QTSR5GO  B015XC3B46  B01G6LXXWI  \nworker_id                                                                   \n1ONCOX6OYV8XZJ        -2.0         2.0         NaN         1.0         NaN  \n7GFH0CXPHPTSPX         NaN         NaN         NaN         1.0         NaN  \nB0ARNFCRSNEXAS         NaN         1.0         NaN         NaN         NaN  \nB3QHTCHNCMXQ4H        -2.0         NaN         NaN         NaN         2.0  \nCNZQBVRXLWYZG8         NaN         NaN         2.0         NaN         NaN  \nDLNY6ZIJOABZLJ         NaN         2.0         1.0         NaN         NaN  \nHAA3KNPKCB5DSG        -2.0         NaN         2.0         NaN         NaN  \nISGHMQO0AXKFXS         NaN         NaN         1.0        -1.0         NaN  \nIZ2TQI5OCUGD1N         NaN         NaN         NaN         NaN        -2.0  \nJLVBHXOL0E65XT         1.0         NaN         NaN         NaN         0.0  \nKWJ2MEMELZHTD1         NaN         NaN         NaN         1.0         NaN  \nL292E0RLKG4B7U         NaN         NaN         NaN         NaN         1.0  \nMXLX3Z0LDZTDTY         NaN         0.0         0.0         NaN         NaN  \nOMLUXZWFN4LV8O        -2.0         NaN         NaN         NaN         1.0  \nT4MEORG9STZITP         NaN         1.0         NaN         1.0         NaN  ",
      "text/html": "<div>\n<style scoped>\n    .dataframe tbody tr th:only-of-type {\n        vertical-align: middle;\n    }\n\n    .dataframe tbody tr th {\n        vertical-align: top;\n    }\n\n    .dataframe thead th {\n        text-align: right;\n    }\n</style>\n<table border=\"1\" class=\"dataframe\">\n  <thead>\n    <tr style=\"text-align: right;\">\n      <th>document_id</th>\n      <th>B00004SVUZ</th>\n      <th>B00006JN5L</th>\n      <th>B0001DHQPI</th>\n      <th>B0002KMHD6</th>\n      <th>B000O39U3Q</th>\n      <th>B001DYVHY0</th>\n      <th>B0029MAXR2</th>\n      <th>B003TO59D2</th>\n      <th>B0041RUM0Q</th>\n      <th>B0050SYWGU</th>\n      <th>B005ZNWT4C</th>\n      <th>B00PNVOBTC</th>\n      <th>B00QTSR5GO</th>\n      <th>B015XC3B46</th>\n      <th>B01G6LXXWI</th>\n    </tr>\n    <tr>\n      <th>worker_id</th>\n      <th></th>\n      <th></th>\n      <th></th>\n      <th></th>\n      <th></th>\n      <th></th>\n      <th></th>\n      <th></th>\n      <th></th>\n      <th></th>\n      <th></th>\n      <th></th>\n      <th></th>\n      <th></th>\n      <th></th>\n    </tr>\n  </thead>\n  <tbody>\n    <tr>\n      <th>1ONCOX6OYV8XZJ</th>\n      <td>NaN</td>\n      <td>NaN</td>\n      <td>NaN</td>\n      <td>NaN</td>\n      <td>NaN</td>\n      <td>NaN</td>\n      <td>NaN</td>\n      <td>NaN</td>\n      <td>1.0</td>\n      <td>1.0</td>\n      <td>-2.0</td>\n      <td>2.0</td>\n      <td>NaN</td>\n      <td>1.0</td>\n      <td>NaN</td>\n    </tr>\n    <tr>\n      <th>7GFH0CXPHPTSPX</th>\n      <td>NaN</td>\n      <td>0.0</td>\n      <td>1.0</td>\n      <td>0.0</td>\n      <td>NaN</td>\n      <td>2.0</td>\n      <td>NaN</td>\n      <td>NaN</td>\n      <td>NaN</td>\n      <td>NaN</td>\n      <td>NaN</td>\n      <td>NaN</td>\n      <td>NaN</td>\n      <td>1.0</td>\n      <td>NaN</td>\n    </tr>\n    <tr>\n      <th>B0ARNFCRSNEXAS</th>\n      <td>NaN</td>\n      <td>NaN</td>\n      <td>NaN</td>\n      <td>NaN</td>\n      <td>-1.0</td>\n      <td>NaN</td>\n      <td>-1.0</td>\n      <td>-1.0</td>\n      <td>1.0</td>\n      <td>NaN</td>\n      <td>NaN</td>\n      <td>1.0</td>\n      <td>NaN</td>\n      <td>NaN</td>\n      <td>NaN</td>\n    </tr>\n    <tr>\n      <th>B3QHTCHNCMXQ4H</th>\n      <td>1.0</td>\n      <td>NaN</td>\n      <td>NaN</td>\n      <td>NaN</td>\n      <td>NaN</td>\n      <td>NaN</td>\n      <td>NaN</td>\n      <td>-1.0</td>\n      <td>NaN</td>\n      <td>1.0</td>\n      <td>-2.0</td>\n      <td>NaN</td>\n      <td>NaN</td>\n      <td>NaN</td>\n      <td>2.0</td>\n    </tr>\n    <tr>\n      <th>CNZQBVRXLWYZG8</th>\n      <td>NaN</td>\n      <td>-2.0</td>\n      <td>1.0</td>\n      <td>1.0</td>\n      <td>NaN</td>\n      <td>2.0</td>\n      <td>NaN</td>\n      <td>NaN</td>\n      <td>NaN</td>\n      <td>NaN</td>\n      <td>NaN</td>\n      <td>NaN</td>\n      <td>2.0</td>\n      <td>NaN</td>\n      <td>NaN</td>\n    </tr>\n    <tr>\n      <th>DLNY6ZIJOABZLJ</th>\n      <td>NaN</td>\n      <td>NaN</td>\n      <td>NaN</td>\n      <td>NaN</td>\n      <td>2.0</td>\n      <td>NaN</td>\n      <td>-1.0</td>\n      <td>NaN</td>\n      <td>2.0</td>\n      <td>NaN</td>\n      <td>NaN</td>\n      <td>2.0</td>\n      <td>1.0</td>\n      <td>NaN</td>\n      <td>NaN</td>\n    </tr>\n    <tr>\n      <th>HAA3KNPKCB5DSG</th>\n      <td>0.0</td>\n      <td>-2.0</td>\n      <td>-1.0</td>\n      <td>NaN</td>\n      <td>NaN</td>\n      <td>NaN</td>\n      <td>NaN</td>\n      <td>NaN</td>\n      <td>NaN</td>\n      <td>NaN</td>\n      <td>-2.0</td>\n      <td>NaN</td>\n      <td>2.0</td>\n      <td>NaN</td>\n      <td>NaN</td>\n    </tr>\n    <tr>\n      <th>ISGHMQO0AXKFXS</th>\n      <td>1.0</td>\n      <td>0.0</td>\n      <td>-2.0</td>\n      <td>NaN</td>\n      <td>NaN</td>\n      <td>NaN</td>\n      <td>NaN</td>\n      <td>NaN</td>\n      <td>NaN</td>\n      <td>NaN</td>\n      <td>NaN</td>\n      <td>NaN</td>\n      <td>1.0</td>\n      <td>-1.0</td>\n      <td>NaN</td>\n    </tr>\n    <tr>\n      <th>IZ2TQI5OCUGD1N</th>\n      <td>1.0</td>\n      <td>NaN</td>\n      <td>NaN</td>\n      <td>NaN</td>\n      <td>1.0</td>\n      <td>NaN</td>\n      <td>1.0</td>\n      <td>-2.0</td>\n      <td>NaN</td>\n      <td>NaN</td>\n      <td>NaN</td>\n      <td>NaN</td>\n      <td>NaN</td>\n      <td>NaN</td>\n      <td>-2.0</td>\n    </tr>\n    <tr>\n      <th>JLVBHXOL0E65XT</th>\n      <td>NaN</td>\n      <td>NaN</td>\n      <td>NaN</td>\n      <td>1.0</td>\n      <td>NaN</td>\n      <td>1.0</td>\n      <td>NaN</td>\n      <td>NaN</td>\n      <td>NaN</td>\n      <td>0.0</td>\n      <td>1.0</td>\n      <td>NaN</td>\n      <td>NaN</td>\n      <td>NaN</td>\n      <td>0.0</td>\n    </tr>\n    <tr>\n      <th>KWJ2MEMELZHTD1</th>\n      <td>1.0</td>\n      <td>NaN</td>\n      <td>NaN</td>\n      <td>1.0</td>\n      <td>1.0</td>\n      <td>NaN</td>\n      <td>NaN</td>\n      <td>NaN</td>\n      <td>NaN</td>\n      <td>2.0</td>\n      <td>NaN</td>\n      <td>NaN</td>\n      <td>NaN</td>\n      <td>1.0</td>\n      <td>NaN</td>\n    </tr>\n    <tr>\n      <th>L292E0RLKG4B7U</th>\n      <td>NaN</td>\n      <td>NaN</td>\n      <td>NaN</td>\n      <td>NaN</td>\n      <td>-2.0</td>\n      <td>NaN</td>\n      <td>1.0</td>\n      <td>2.0</td>\n      <td>NaN</td>\n      <td>1.0</td>\n      <td>NaN</td>\n      <td>NaN</td>\n      <td>NaN</td>\n      <td>NaN</td>\n      <td>1.0</td>\n    </tr>\n    <tr>\n      <th>MXLX3Z0LDZTDTY</th>\n      <td>NaN</td>\n      <td>NaN</td>\n      <td>-1.0</td>\n      <td>NaN</td>\n      <td>NaN</td>\n      <td>1.0</td>\n      <td>0.0</td>\n      <td>NaN</td>\n      <td>NaN</td>\n      <td>NaN</td>\n      <td>NaN</td>\n      <td>0.0</td>\n      <td>0.0</td>\n      <td>NaN</td>\n      <td>NaN</td>\n    </tr>\n    <tr>\n      <th>OMLUXZWFN4LV8O</th>\n      <td>NaN</td>\n      <td>-2.0</td>\n      <td>NaN</td>\n      <td>NaN</td>\n      <td>NaN</td>\n      <td>NaN</td>\n      <td>NaN</td>\n      <td>-2.0</td>\n      <td>1.0</td>\n      <td>NaN</td>\n      <td>-2.0</td>\n      <td>NaN</td>\n      <td>NaN</td>\n      <td>NaN</td>\n      <td>1.0</td>\n    </tr>\n    <tr>\n      <th>T4MEORG9STZITP</th>\n      <td>NaN</td>\n      <td>NaN</td>\n      <td>NaN</td>\n      <td>1.0</td>\n      <td>NaN</td>\n      <td>-1.0</td>\n      <td>NaN</td>\n      <td>NaN</td>\n      <td>2.0</td>\n      <td>NaN</td>\n      <td>NaN</td>\n      <td>1.0</td>\n      <td>NaN</td>\n      <td>1.0</td>\n      <td>NaN</td>\n    </tr>\n  </tbody>\n</table>\n</div>"
     },
     "execution_count": 52,
     "metadata": {},
     "output_type": "execute_result"
    }
   ],
   "source": [
    "selected_columns = [\"document_id\", \"worker_id\", \"Neutrality_value\"]\n",
    "df_selected = workers_answers[selected_columns]\n",
    "\n",
    "# Utilizzare pivot per trasformare i dati\n",
    "workers_task = df_selected.pivot(index=\"worker_id\", columns=\"document_id\", values=\"Neutrality_value\")\n",
    "\n",
    "workers_task\n"
   ]
  },
  {
   "cell_type": "code",
   "execution_count": 17,
   "outputs": [],
   "source": [
    "def checkInput(rate, n):\n",
    "    \"\"\"\n",
    "    Check correctness of the input matrix\n",
    "    @param rate - ratings matrix\n",
    "    @return n - number of raters\n",
    "    @throws AssertionError\n",
    "    \"\"\"\n",
    "    N = len(rate)\n",
    "    k = len(rate[0])\n",
    "    assert all(len(rate[i]) == k for i in range(k)), \"Row length != #categories)\"\n",
    "    assert all(isinstance(rate[i][j], int) for i in range(N) for j in range(k)), \"Element not integer\"\n",
    "    assert all(sum(row) == n for row in rate), \"Sum of ratings != #raters)\"\n",
    "\n",
    "def fleissKappa(rate,n):\n",
    "    \"\"\"\n",
    "    Computes the Kappa value\n",
    "    @param rate - ratings matrix containing number of ratings for each subject per category\n",
    "    [size - N X k where N = #subjects and k = #categories]\n",
    "    @param n - number of raters\n",
    "    @return fleiss' kappa\n",
    "    \"\"\"\n",
    "\n",
    "    N = len(rate)\n",
    "    k = len(rate[0])\n",
    "    print(\"#raters = \", n, \", #subjects = \", N, \", #categories = \", k)\n",
    "    checkInput(rate, n)\n",
    "\n",
    "    #mean of the extent to which raters agree for the ith subject\n",
    "    PA = sum([(sum([i**2 for i in row])- n) / (n * (n - 1)) for row in rate])/N\n",
    "    print(\"PA = \", PA)\n",
    "\n",
    "    # mean of squares of proportion of all assignments which were to jth category\n",
    "    PE = sum([j**2 for j in [sum([rows[i] for rows in rate])/(N*n) for i in range(k)]])\n",
    "    print(\"PE =\", PE)\n",
    "\n",
    "    kappa = -float(\"inf\")\n",
    "    try:\n",
    "        kappa = (PA - PE) / (1 - PE)\n",
    "        kappa = float(\"{:.3f}\".format(kappa))\n",
    "    except ZeroDivisionError:\n",
    "        print(\"Expected agreement = 1\")\n",
    "\n",
    "    print(\"Fleiss' Kappa =\", kappa)\n",
    "\n",
    "    return kappa"
   ],
   "metadata": {
    "collapsed": false
   }
  },
  {
   "cell_type": "code",
   "execution_count": 50,
   "outputs": [
    {
     "ename": "KeyError",
     "evalue": "0",
     "output_type": "error",
     "traceback": [
      "\u001B[0;31m---------------------------------------------------------------------------\u001B[0m",
      "\u001B[0;31mKeyError\u001B[0m                                  Traceback (most recent call last)",
      "File \u001B[0;32m~/anaconda3/lib/python3.11/site-packages/pandas/core/indexes/base.py:3653\u001B[0m, in \u001B[0;36mIndex.get_loc\u001B[0;34m(self, key)\u001B[0m\n\u001B[1;32m   3652\u001B[0m \u001B[38;5;28;01mtry\u001B[39;00m:\n\u001B[0;32m-> 3653\u001B[0m     \u001B[38;5;28;01mreturn\u001B[39;00m \u001B[38;5;28mself\u001B[39m\u001B[38;5;241m.\u001B[39m_engine\u001B[38;5;241m.\u001B[39mget_loc(casted_key)\n\u001B[1;32m   3654\u001B[0m \u001B[38;5;28;01mexcept\u001B[39;00m \u001B[38;5;167;01mKeyError\u001B[39;00m \u001B[38;5;28;01mas\u001B[39;00m err:\n",
      "File \u001B[0;32m~/anaconda3/lib/python3.11/site-packages/pandas/_libs/index.pyx:147\u001B[0m, in \u001B[0;36mpandas._libs.index.IndexEngine.get_loc\u001B[0;34m()\u001B[0m\n",
      "File \u001B[0;32m~/anaconda3/lib/python3.11/site-packages/pandas/_libs/index.pyx:176\u001B[0m, in \u001B[0;36mpandas._libs.index.IndexEngine.get_loc\u001B[0;34m()\u001B[0m\n",
      "File \u001B[0;32mpandas/_libs/hashtable_class_helper.pxi:7080\u001B[0m, in \u001B[0;36mpandas._libs.hashtable.PyObjectHashTable.get_item\u001B[0;34m()\u001B[0m\n",
      "File \u001B[0;32mpandas/_libs/hashtable_class_helper.pxi:7088\u001B[0m, in \u001B[0;36mpandas._libs.hashtable.PyObjectHashTable.get_item\u001B[0;34m()\u001B[0m\n",
      "\u001B[0;31mKeyError\u001B[0m: 0",
      "\nThe above exception was the direct cause of the following exception:\n",
      "\u001B[0;31mKeyError\u001B[0m                                  Traceback (most recent call last)",
      "Cell \u001B[0;32mIn[50], line 1\u001B[0m\n\u001B[0;32m----> 1\u001B[0m fleissKappa(df_interi, \u001B[38;5;241m3\u001B[39m)\n",
      "Cell \u001B[0;32mIn[17], line 24\u001B[0m, in \u001B[0;36mfleissKappa\u001B[0;34m(rate, n)\u001B[0m\n\u001B[1;32m     15\u001B[0m \u001B[38;5;250m\u001B[39m\u001B[38;5;124;03m\"\"\"\u001B[39;00m\n\u001B[1;32m     16\u001B[0m \u001B[38;5;124;03mComputes the Kappa value\u001B[39;00m\n\u001B[1;32m     17\u001B[0m \u001B[38;5;124;03m@param rate - ratings matrix containing number of ratings for each subject per category\u001B[39;00m\n\u001B[0;32m   (...)\u001B[0m\n\u001B[1;32m     20\u001B[0m \u001B[38;5;124;03m@return fleiss' kappa\u001B[39;00m\n\u001B[1;32m     21\u001B[0m \u001B[38;5;124;03m\"\"\"\u001B[39;00m\n\u001B[1;32m     23\u001B[0m N \u001B[38;5;241m=\u001B[39m \u001B[38;5;28mlen\u001B[39m(rate)\n\u001B[0;32m---> 24\u001B[0m k \u001B[38;5;241m=\u001B[39m \u001B[38;5;28mlen\u001B[39m(rate[\u001B[38;5;241m0\u001B[39m])\n\u001B[1;32m     25\u001B[0m \u001B[38;5;28mprint\u001B[39m(\u001B[38;5;124m\"\u001B[39m\u001B[38;5;124m#raters = \u001B[39m\u001B[38;5;124m\"\u001B[39m, n, \u001B[38;5;124m\"\u001B[39m\u001B[38;5;124m, #subjects = \u001B[39m\u001B[38;5;124m\"\u001B[39m, N, \u001B[38;5;124m\"\u001B[39m\u001B[38;5;124m, #categories = \u001B[39m\u001B[38;5;124m\"\u001B[39m, k)\n\u001B[1;32m     26\u001B[0m checkInput(rate, n)\n",
      "File \u001B[0;32m~/anaconda3/lib/python3.11/site-packages/pandas/core/frame.py:3761\u001B[0m, in \u001B[0;36mDataFrame.__getitem__\u001B[0;34m(self, key)\u001B[0m\n\u001B[1;32m   3759\u001B[0m \u001B[38;5;28;01mif\u001B[39;00m \u001B[38;5;28mself\u001B[39m\u001B[38;5;241m.\u001B[39mcolumns\u001B[38;5;241m.\u001B[39mnlevels \u001B[38;5;241m>\u001B[39m \u001B[38;5;241m1\u001B[39m:\n\u001B[1;32m   3760\u001B[0m     \u001B[38;5;28;01mreturn\u001B[39;00m \u001B[38;5;28mself\u001B[39m\u001B[38;5;241m.\u001B[39m_getitem_multilevel(key)\n\u001B[0;32m-> 3761\u001B[0m indexer \u001B[38;5;241m=\u001B[39m \u001B[38;5;28mself\u001B[39m\u001B[38;5;241m.\u001B[39mcolumns\u001B[38;5;241m.\u001B[39mget_loc(key)\n\u001B[1;32m   3762\u001B[0m \u001B[38;5;28;01mif\u001B[39;00m is_integer(indexer):\n\u001B[1;32m   3763\u001B[0m     indexer \u001B[38;5;241m=\u001B[39m [indexer]\n",
      "File \u001B[0;32m~/anaconda3/lib/python3.11/site-packages/pandas/core/indexes/base.py:3655\u001B[0m, in \u001B[0;36mIndex.get_loc\u001B[0;34m(self, key)\u001B[0m\n\u001B[1;32m   3653\u001B[0m     \u001B[38;5;28;01mreturn\u001B[39;00m \u001B[38;5;28mself\u001B[39m\u001B[38;5;241m.\u001B[39m_engine\u001B[38;5;241m.\u001B[39mget_loc(casted_key)\n\u001B[1;32m   3654\u001B[0m \u001B[38;5;28;01mexcept\u001B[39;00m \u001B[38;5;167;01mKeyError\u001B[39;00m \u001B[38;5;28;01mas\u001B[39;00m err:\n\u001B[0;32m-> 3655\u001B[0m     \u001B[38;5;28;01mraise\u001B[39;00m \u001B[38;5;167;01mKeyError\u001B[39;00m(key) \u001B[38;5;28;01mfrom\u001B[39;00m \u001B[38;5;21;01merr\u001B[39;00m\n\u001B[1;32m   3656\u001B[0m \u001B[38;5;28;01mexcept\u001B[39;00m \u001B[38;5;167;01mTypeError\u001B[39;00m:\n\u001B[1;32m   3657\u001B[0m     \u001B[38;5;66;03m# If we have a listlike key, _check_indexing_error will raise\u001B[39;00m\n\u001B[1;32m   3658\u001B[0m     \u001B[38;5;66;03m#  InvalidIndexError. Otherwise we fall through and re-raise\u001B[39;00m\n\u001B[1;32m   3659\u001B[0m     \u001B[38;5;66;03m#  the TypeError.\u001B[39;00m\n\u001B[1;32m   3660\u001B[0m     \u001B[38;5;28mself\u001B[39m\u001B[38;5;241m.\u001B[39m_check_indexing_error(key)\n",
      "\u001B[0;31mKeyError\u001B[0m: 0"
     ]
    }
   ],
   "source": [
    "fleissKappa(workers_task, 15)"
   ],
   "metadata": {
    "collapsed": false
   }
  },
  {
   "cell_type": "code",
   "execution_count": null,
   "metadata": {
    "collapsed": false
   },
   "outputs": [
    {
     "data": {
      "text/html": [
       "<div>\n",
       "<style scoped>\n",
       "    .dataframe tbody tr th:only-of-type {\n",
       "        vertical-align: middle;\n",
       "    }\n",
       "\n",
       "    .dataframe tbody tr th {\n",
       "        vertical-align: top;\n",
       "    }\n",
       "\n",
       "    .dataframe thead th {\n",
       "        text-align: right;\n",
       "    }\n",
       "</style>\n",
       "<table border=\"1\" class=\"dataframe\">\n",
       "  <thead>\n",
       "    <tr style=\"text-align: right;\">\n",
       "      <th></th>\n",
       "      <th>worker_id</th>\n",
       "      <th>document_id</th>\n",
       "      <th>time_spedn</th>\n",
       "    </tr>\n",
       "  </thead>\n",
       "  <tbody>\n",
       "    <tr>\n",
       "      <th>0</th>\n",
       "      <td>7GFH0CXPHPTSPX</td>\n",
       "      <td>B015XC3B46</td>\n",
       "      <td>137.07</td>\n",
       "    </tr>\n",
       "    <tr>\n",
       "      <th>1</th>\n",
       "      <td>7GFH0CXPHPTSPX</td>\n",
       "      <td>B0002KMHD6</td>\n",
       "      <td>201.01</td>\n",
       "    </tr>\n",
       "    <tr>\n",
       "      <th>2</th>\n",
       "      <td>7GFH0CXPHPTSPX</td>\n",
       "      <td>B00006JN5L</td>\n",
       "      <td>78.06</td>\n",
       "    </tr>\n",
       "    <tr>\n",
       "      <th>3</th>\n",
       "      <td>7GFH0CXPHPTSPX</td>\n",
       "      <td>B0001DHQPI</td>\n",
       "      <td>104.06</td>\n",
       "    </tr>\n",
       "    <tr>\n",
       "      <th>4</th>\n",
       "      <td>7GFH0CXPHPTSPX</td>\n",
       "      <td>B001DYVHY0</td>\n",
       "      <td>73.04</td>\n",
       "    </tr>\n",
       "    <tr>\n",
       "      <th>...</th>\n",
       "      <td>...</td>\n",
       "      <td>...</td>\n",
       "      <td>...</td>\n",
       "    </tr>\n",
       "    <tr>\n",
       "      <th>82</th>\n",
       "      <td>T4MEORG9STZITP</td>\n",
       "      <td>B00PNVOBTC</td>\n",
       "      <td>125.46</td>\n",
       "    </tr>\n",
       "    <tr>\n",
       "      <th>83</th>\n",
       "      <td>T4MEORG9STZITP</td>\n",
       "      <td>B015XC3B46</td>\n",
       "      <td>125.06</td>\n",
       "    </tr>\n",
       "    <tr>\n",
       "      <th>84</th>\n",
       "      <td>T4MEORG9STZITP</td>\n",
       "      <td>B00PNVOBTC</td>\n",
       "      <td>125.46</td>\n",
       "    </tr>\n",
       "    <tr>\n",
       "      <th>85</th>\n",
       "      <td>T4MEORG9STZITP</td>\n",
       "      <td>B0041RUM0Q</td>\n",
       "      <td>119.69</td>\n",
       "    </tr>\n",
       "    <tr>\n",
       "      <th>86</th>\n",
       "      <td>T4MEORG9STZITP</td>\n",
       "      <td>B001DYVHY0</td>\n",
       "      <td>117.82</td>\n",
       "    </tr>\n",
       "  </tbody>\n",
       "</table>\n",
       "<p>87 rows × 3 columns</p>\n",
       "</div>"
      ],
      "text/plain": [
       "         worker_id document_id  time_spedn\n",
       "0   7GFH0CXPHPTSPX  B015XC3B46      137.07\n",
       "1   7GFH0CXPHPTSPX  B0002KMHD6      201.01\n",
       "2   7GFH0CXPHPTSPX  B00006JN5L       78.06\n",
       "3   7GFH0CXPHPTSPX  B0001DHQPI      104.06\n",
       "4   7GFH0CXPHPTSPX  B001DYVHY0       73.04\n",
       "..             ...         ...         ...\n",
       "82  T4MEORG9STZITP  B00PNVOBTC      125.46\n",
       "83  T4MEORG9STZITP  B015XC3B46      125.06\n",
       "84  T4MEORG9STZITP  B00PNVOBTC      125.46\n",
       "85  T4MEORG9STZITP  B0041RUM0Q      119.69\n",
       "86  T4MEORG9STZITP  B001DYVHY0      117.82\n",
       "\n",
       "[87 rows x 3 columns]"
      ]
     },
     "metadata": {},
     "output_type": "display_data"
    }
   ],
   "source": [
    "time_media = workers_answers[['worker_id', 'document_id', 'time_start', 'time_end']]\n",
    "time_media = time_media.copy()\n",
    "time_media['time_spedn'] = time_media['time_end'] - time_media['time_start']\n",
    "time_media = time_media.drop(['time_start', 'time_end'], axis=1)\n",
    "display(time_media)"
   ]
  },
  {
   "cell_type": "code",
   "execution_count": null,
   "metadata": {
    "collapsed": false
   },
   "outputs": [
    {
     "data": {
      "text/plain": [
       "worker_id\n",
       "7GFH0CXPHPTSPX    118.648000\n",
       "B0ARNFCRSNEXAS    153.752000\n",
       "B3QHTCHNCMXQ4H     81.260000\n",
       "CNZQBVRXLWYZG8    119.153333\n",
       "DLNY6ZIJOABZLJ    207.452000\n",
       "HAA3KNPKCB5DSG    844.542000\n",
       "ISGHMQO0AXKFXS    118.063333\n",
       "IZ2TQI5OCUGD1N    289.696000\n",
       "JLVBHXOL0E65XT    121.256000\n",
       "KWJ2MEMELZHTD1    130.682727\n",
       "L292E0RLKG4B7U    238.840000\n",
       "MXLX3Z0LDZTDTY    451.120000\n",
       "OMLUXZWFN4LV8O    344.378000\n",
       "T4MEORG9STZITP    195.378889\n",
       "Name: time_spedn, dtype: float64"
      ]
     },
     "metadata": {},
     "output_type": "display_data"
    },
    {
     "data": {
      "text/plain": [
       "document_id\n",
       "B00004SVUZ     238.127143\n",
       "B00006JN5L      66.731667\n",
       "B0001DHQPI     396.858000\n",
       "B0002KMHD6     279.677143\n",
       "B000O39U3Q     112.948333\n",
       "B001DYVHY0     139.556000\n",
       "B0029MAXR2     225.012000\n",
       "B003TO59D2     275.245000\n",
       "B0041RUM0Q     196.190000\n",
       "B0050SYWGU     135.215000\n",
       "B005ZNWT4C    1120.625000\n",
       "B00PNVOBTC     185.670000\n",
       "B00QTSR5GO     112.741250\n",
       "B015XC3B46      69.405556\n",
       "B01G6LXXWI     214.120000\n",
       "Name: time_spedn, dtype: float64"
      ]
     },
     "metadata": {},
     "output_type": "display_data"
    }
   ],
   "source": [
    "\n",
    "#Calcoliamo il tempo medio per worker\n",
    "tempo_medio_W = time_media.groupby('worker_id')['time_spedn'].mean()\n",
    "display(tempo_medio_W)\n",
    "\n",
    "#Calcoliamo il tempo medio per documento\n",
    "tempo_medio_D = time_media.groupby('document_id')['time_spedn'].mean()\n",
    "display(tempo_medio_D)\n",
    "\n",
    "\n"
   ]
  },
  {
   "cell_type": "code",
   "execution_count": null,
   "metadata": {
    "collapsed": false
   },
   "outputs": [
    {
     "data": {
      "text/plain": [
       "document_id\n",
       "B00004SVUZ    49.431818\n",
       "B00006JN5L    39.500000\n",
       "B0001DHQPI    75.833333\n",
       "B0002KMHD6    42.166667\n",
       "B000O39U3Q    80.400000\n",
       "B001DYVHY0    78.428571\n",
       "B0029MAXR2    76.000000\n",
       "B003TO59D2    33.250000\n",
       "B0041RUM0Q    69.160000\n",
       "B0050SYWGU    77.833333\n",
       "B005ZNWT4C    84.000000\n",
       "B00PNVOBTC    56.000000\n",
       "B00QTSR5GO    86.000000\n",
       "B015XC3B46    59.500000\n",
       "B01G6LXXWI    56.125000\n",
       "Name: selection_value, dtype: float64"
      ]
     },
     "metadata": {},
     "output_type": "display_data"
    },
    {
     "data": {
      "text/plain": [
       "worker_id\n",
       "7GFH0CXPHPTSPX    58.800000\n",
       "B0ARNFCRSNEXAS    69.142857\n",
       "B3QHTCHNCMXQ4H    85.000000\n",
       "CNZQBVRXLWYZG8    87.142857\n",
       "DLNY6ZIJOABZLJ    54.000000\n",
       "HAA3KNPKCB5DSG    92.500000\n",
       "ISGHMQO0AXKFXS    67.000000\n",
       "IZ2TQI5OCUGD1N    94.111111\n",
       "JLVBHXOL0E65XT    65.571429\n",
       "KWJ2MEMELZHTD1    44.560440\n",
       "L292E0RLKG4B7U    48.875000\n",
       "MXLX3Z0LDZTDTY    80.000000\n",
       "OMLUXZWFN4LV8O    30.566667\n",
       "T4MEORG9STZITP    63.875000\n",
       "Name: selection_value, dtype: float64"
      ]
     },
     "metadata": {},
     "output_type": "display_data"
    }
   ],
   "source": [
    "# vado a selezionare solo le colonne che voglio\n",
    "selected_columns = ['worker_id','document_id', 'selection_value']\n",
    "\n",
    "# Crea un nuovo dataframe includendo solo le colonne selezionate\n",
    "dimensions_selections = workers_dimensions_selection[selected_columns].copy()\n",
    "\n",
    "#media valutazione data per ogni documento, ( slider )\n",
    "media_valutazioni_D = dimensions_selections.groupby('document_id')['selection_value'].mean()\n",
    "display(media_valutazioni_D)\n",
    "\n",
    "#media valutazione data per ogni documento, da ogni worker, ( slider )\n",
    "media_valutazioni_W = dimensions_selections.groupby('worker_id')['selection_value'].mean()\n",
    "display(media_valutazioni_W)"
   ]
  },
  {
   "cell_type": "code",
   "execution_count": null,
   "metadata": {
    "collapsed": false
   },
   "outputs": [
    {
     "data": {
      "image/png": "[encoded data removed]",
      "text/plain": [
       "<Figure size 640x480 with 1 Axes>"
      ]
     },
     "metadata": {},
     "output_type": "display_data"
    },
    {
     "data": {
      "text/html": [
       "<div>\n",
       "<style scoped>\n",
       "    .dataframe tbody tr th:only-of-type {\n",
       "        vertical-align: middle;\n",
       "    }\n",
       "\n",
       "    .dataframe tbody tr th {\n",
       "        vertical-align: top;\n",
       "    }\n",
       "\n",
       "    .dataframe thead th {\n",
       "        text-align: right;\n",
       "    }\n",
       "</style>\n",
       "<table border=\"1\" class=\"dataframe\">\n",
       "  <thead>\n",
       "    <tr style=\"text-align: right;\">\n",
       "      <th></th>\n",
       "      <th>valutazione_media</th>\n",
       "      <th>tempo_medio</th>\n",
       "    </tr>\n",
       "    <tr>\n",
       "      <th>document_id</th>\n",
       "      <th></th>\n",
       "      <th></th>\n",
       "    </tr>\n",
       "  </thead>\n",
       "  <tbody>\n",
       "    <tr>\n",
       "      <th>B00004SVUZ</th>\n",
       "      <td>49.431818</td>\n",
       "      <td>238.127143</td>\n",
       "    </tr>\n",
       "    <tr>\n",
       "      <th>B00006JN5L</th>\n",
       "      <td>39.500000</td>\n",
       "      <td>66.731667</td>\n",
       "    </tr>\n",
       "    <tr>\n",
       "      <th>B0001DHQPI</th>\n",
       "      <td>75.833333</td>\n",
       "      <td>396.858000</td>\n",
       "    </tr>\n",
       "    <tr>\n",
       "      <th>B0002KMHD6</th>\n",
       "      <td>42.166667</td>\n",
       "      <td>279.677143</td>\n",
       "    </tr>\n",
       "    <tr>\n",
       "      <th>B000O39U3Q</th>\n",
       "      <td>80.400000</td>\n",
       "      <td>112.948333</td>\n",
       "    </tr>\n",
       "    <tr>\n",
       "      <th>B001DYVHY0</th>\n",
       "      <td>78.428571</td>\n",
       "      <td>139.556000</td>\n",
       "    </tr>\n",
       "    <tr>\n",
       "      <th>B0029MAXR2</th>\n",
       "      <td>76.000000</td>\n",
       "      <td>225.012000</td>\n",
       "    </tr>\n",
       "    <tr>\n",
       "      <th>B003TO59D2</th>\n",
       "      <td>33.250000</td>\n",
       "      <td>275.245000</td>\n",
       "    </tr>\n",
       "    <tr>\n",
       "      <th>B0041RUM0Q</th>\n",
       "      <td>69.160000</td>\n",
       "      <td>196.190000</td>\n",
       "    </tr>\n",
       "    <tr>\n",
       "      <th>B0050SYWGU</th>\n",
       "      <td>77.833333</td>\n",
       "      <td>135.215000</td>\n",
       "    </tr>\n",
       "    <tr>\n",
       "      <th>B005ZNWT4C</th>\n",
       "      <td>84.000000</td>\n",
       "      <td>1120.625000</td>\n",
       "    </tr>\n",
       "    <tr>\n",
       "      <th>B00PNVOBTC</th>\n",
       "      <td>56.000000</td>\n",
       "      <td>185.670000</td>\n",
       "    </tr>\n",
       "    <tr>\n",
       "      <th>B00QTSR5GO</th>\n",
       "      <td>86.000000</td>\n",
       "      <td>112.741250</td>\n",
       "    </tr>\n",
       "    <tr>\n",
       "      <th>B015XC3B46</th>\n",
       "      <td>59.500000</td>\n",
       "      <td>69.405556</td>\n",
       "    </tr>\n",
       "    <tr>\n",
       "      <th>B01G6LXXWI</th>\n",
       "      <td>56.125000</td>\n",
       "      <td>214.120000</td>\n",
       "    </tr>\n",
       "  </tbody>\n",
       "</table>\n",
       "</div>"
      ],
      "text/plain": [
       "             valutazione_media  tempo_medio\n",
       "document_id                                \n",
       "B00004SVUZ           49.431818   238.127143\n",
       "B00006JN5L           39.500000    66.731667\n",
       "B0001DHQPI           75.833333   396.858000\n",
       "B0002KMHD6           42.166667   279.677143\n",
       "B000O39U3Q           80.400000   112.948333\n",
       "B001DYVHY0           78.428571   139.556000\n",
       "B0029MAXR2           76.000000   225.012000\n",
       "B003TO59D2           33.250000   275.245000\n",
       "B0041RUM0Q           69.160000   196.190000\n",
       "B0050SYWGU           77.833333   135.215000\n",
       "B005ZNWT4C           84.000000  1120.625000\n",
       "B00PNVOBTC           56.000000   185.670000\n",
       "B00QTSR5GO           86.000000   112.741250\n",
       "B015XC3B46           59.500000    69.405556\n",
       "B01G6LXXWI           56.125000   214.120000"
      ]
     },
     "metadata": {},
     "output_type": "display_data"
    }
   ],
   "source": [
    "import pandas as pd\n",
    "import matplotlib.pyplot as plt\n",
    "\n",
    "#unisco i due dataframe per avere valutazione medi e tempo medio per ogni docuemnto\n",
    "merged_dataset = pd.merge(media_valutazioni_D, tempo_medio_D, on='document_id')\n",
    "\n",
    "merged_dataset = merged_dataset.rename(columns={'selection_value': 'valutazione_media',\n",
    "                                                'time_spedn': 'tempo_medio'})\n",
    "\n",
    "# Crea il grafico\n",
    "plt.scatter(merged_dataset['valutazione_media'], merged_dataset['tempo_medio'])\n",
    "plt.xlabel('Valutazione Media')\n",
    "plt.ylabel('Tempo Medio')\n",
    "plt.title('Scatter Plot tra Valutazione Media e Tempo Medio')\n",
    "plt.show()\n",
    "\n",
    "'''\n",
    "Un'analisi può esser che non si notano correlazioni con tempo e valutazione, nel senso che una valutazione alta non equivale a un tempo medio elevato di rispota,\n",
    "anche se poteva esser cosi perche per avere una valutazione alta, la recensione deve essere molto prolissa e ben sturitturata, quindi ci vuoleva mooto tempo ma non  e coi.\n",
    "'''\n",
    "\n",
    "\n",
    "display(merged_dataset)"
   ]
  },
  {
   "cell_type": "code",
   "execution_count": null,
   "metadata": {
    "collapsed": false
   },
   "outputs": [],
   "source": []
  }
 ],
 "metadata": {
  "kernelspec": {
   "display_name": "Python 3",
   "language": "python",
   "name": "python3"
  },
  "language_info": {
   "codemirror_mode": {
    "name": "ipython",
    "version": 3
   },
   "file_extension": ".py",
   "mimetype": "text/x-python",
   "name": "python",
   "nbconvert_exporter": "python",
   "pygments_lexer": "ipython3",
   "version": "3.11.5"
  }
 },
 "nbformat": 4,
 "nbformat_minor": 0
}
