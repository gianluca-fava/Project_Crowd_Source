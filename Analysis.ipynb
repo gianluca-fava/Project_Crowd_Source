{
 "cells": [
  {
   "cell_type": "code",
   "execution_count": 1,
   "metadata": {
    "collapsed": true,
    "ExecuteTime": {
     "end_time": "2024-01-17T19:39:10.335789Z",
     "start_time": "2024-01-17T19:39:10.330460Z"
    }
   },
   "outputs": [],
   "source": [
    "import pandas as pd\n",
    "import numpy as np"
   ]
  },
  {
   "cell_type": "code",
   "execution_count": 2,
   "outputs": [],
   "source": [
    "workers_answers = pd.read_csv(\"Crowd_Frame riscaricato/data/result/task1/Dataframe/workers_answers.csv\")\n",
    "workers_questionnaire = pd.read_csv(\"Crowd_Frame riscaricato/data/result/task1/Dataframe/workers_questionnaire.csv\")"
   ],
   "metadata": {
    "collapsed": false,
    "ExecuteTime": {
     "end_time": "2024-01-17T19:39:10.751903Z",
     "start_time": "2024-01-17T19:39:10.692812Z"
    }
   }
  },
  {
   "cell_type": "code",
   "execution_count": 3,
   "outputs": [
    {
     "data": {
      "text/plain": "         worker_id  paid task_name batch_name  unit_id  try_last  try_current  \\\n0   7GFH0CXPHPTSPX  True     task1     batch1   unit_1         1            1   \n1   7GFH0CXPHPTSPX  True     task1     batch1   unit_1         1            1   \n2   7GFH0CXPHPTSPX  True     task1     batch1   unit_1         1            1   \n3   7GFH0CXPHPTSPX  True     task1     batch1   unit_1         1            1   \n4   7GFH0CXPHPTSPX  True     task1     batch1   unit_1         1            1   \n..             ...   ...       ...        ...      ...       ...          ...   \n82  T4MEORG9STZITP  True     task1     batch1  unit_10         1            1   \n83  T4MEORG9STZITP  True     task1     batch1  unit_10         1            1   \n84  T4MEORG9STZITP  True     task1     batch1  unit_10         1            1   \n85  T4MEORG9STZITP  True     task1     batch1  unit_10         1            1   \n86  T4MEORG9STZITP  True     task1     batch1  unit_10         1            1   \n\n    action                    time_submit         time_submit_parsed  ...  \\\n0     Next  Tue, 16 Jan 2024 09:38:22 GMT  2024-01-16 09:38:22 00:00  ...   \n1     Next  Tue, 16 Jan 2024 09:41:43 GMT  2024-01-16 09:41:43 00:00  ...   \n2     Next  Tue, 16 Jan 2024 09:43:01 GMT  2024-01-16 09:43:01 00:00  ...   \n3     Next  Tue, 16 Jan 2024 09:44:45 GMT  2024-01-16 09:44:45 00:00  ...   \n4   Finish  Tue, 16 Jan 2024 09:45:59 GMT  2024-01-16 09:45:59 00:00  ...   \n..     ...                            ...                        ...  ...   \n82    Back  Tue, 16 Jan 2024 18:25:12 GMT  2024-01-16 18:25:12 00:00  ...   \n83    Next  Tue, 16 Jan 2024 18:25:16 GMT  2024-01-16 18:25:16 00:00  ...   \n84    Next  Tue, 16 Jan 2024 18:25:17 GMT  2024-01-16 18:25:17 00:00  ...   \n85    Next  Tue, 16 Jan 2024 18:27:16 GMT  2024-01-16 18:27:16 00:00  ...   \n86  Finish  Tue, 16 Jan 2024 18:29:15 GMT  2024-01-16 18:29:15 00:00  ...   \n\n      time_start      time_end  time_elapsed    time_start_parsed  \\\n0   1.705398e+09  1.705398e+09        137.07  2024-01-16 09:36:05   \n1   1.705398e+09  1.705398e+09        201.00  2024-01-16 09:38:22   \n2   1.705398e+09  1.705398e+09         78.06  2024-01-16 09:41:43   \n3   1.705398e+09  1.705398e+09        104.07  2024-01-16 09:43:01   \n4   1.705398e+09  1.705398e+09         73.03  2024-01-16 09:44:45   \n..           ...           ...           ...                  ...   \n82  1.705429e+09  1.705430e+09        125.46  2024-01-16 18:23:06   \n83  1.705429e+09  1.705429e+09        139.79  2024-01-16 18:20:46   \n84  1.705429e+09  1.705430e+09        126.40  2024-01-16 18:23:06   \n85  1.705430e+09  1.705430e+09        119.69  2024-01-16 18:25:17   \n86  1.705430e+09  1.705430e+09        117.82  2024-01-16 18:27:16   \n\n        time_end_parsed accesses  global_outcome global_form_validity  \\\n0   2024-01-16 09:38:22        1            True                 True   \n1   2024-01-16 09:41:43        1            True                 True   \n2   2024-01-16 09:43:01        1            True                 True   \n3   2024-01-16 09:44:45        1            True                 True   \n4   2024-01-16 09:45:58        1            True                 True   \n..                  ...      ...             ...                  ...   \n82  2024-01-16 18:25:12        1            True                 True   \n83  2024-01-16 18:22:51        3            True                 True   \n84  2024-01-16 18:25:12        2            True                 True   \n85  2024-01-16 18:27:16        1            True                 True   \n86  2024-01-16 18:29:14        1            True                 True   \n\n    gold_checks time_spent_check  \n0          True             True  \n1          True             True  \n2          True             True  \n3          True             True  \n4          True             True  \n..          ...              ...  \n82         True             True  \n83         True             True  \n84         True             True  \n85         True             True  \n86         True             True  \n\n[87 rows x 44 columns]",
      "text/html": "<div>\n<style scoped>\n    .dataframe tbody tr th:only-of-type {\n        vertical-align: middle;\n    }\n\n    .dataframe tbody tr th {\n        vertical-align: top;\n    }\n\n    .dataframe thead th {\n        text-align: right;\n    }\n</style>\n<table border=\"1\" class=\"dataframe\">\n  <thead>\n    <tr style=\"text-align: right;\">\n      <th></th>\n      <th>worker_id</th>\n      <th>paid</th>\n      <th>task_name</th>\n      <th>batch_name</th>\n      <th>unit_id</th>\n      <th>try_last</th>\n      <th>try_current</th>\n      <th>action</th>\n      <th>time_submit</th>\n      <th>time_submit_parsed</th>\n      <th>...</th>\n      <th>time_start</th>\n      <th>time_end</th>\n      <th>time_elapsed</th>\n      <th>time_start_parsed</th>\n      <th>time_end_parsed</th>\n      <th>accesses</th>\n      <th>global_outcome</th>\n      <th>global_form_validity</th>\n      <th>gold_checks</th>\n      <th>time_spent_check</th>\n    </tr>\n  </thead>\n  <tbody>\n    <tr>\n      <th>0</th>\n      <td>7GFH0CXPHPTSPX</td>\n      <td>True</td>\n      <td>task1</td>\n      <td>batch1</td>\n      <td>unit_1</td>\n      <td>1</td>\n      <td>1</td>\n      <td>Next</td>\n      <td>Tue, 16 Jan 2024 09:38:22 GMT</td>\n      <td>2024-01-16 09:38:22 00:00</td>\n      <td>...</td>\n      <td>1.705398e+09</td>\n      <td>1.705398e+09</td>\n      <td>137.07</td>\n      <td>2024-01-16 09:36:05</td>\n      <td>2024-01-16 09:38:22</td>\n      <td>1</td>\n      <td>True</td>\n      <td>True</td>\n      <td>True</td>\n      <td>True</td>\n    </tr>\n    <tr>\n      <th>1</th>\n      <td>7GFH0CXPHPTSPX</td>\n      <td>True</td>\n      <td>task1</td>\n      <td>batch1</td>\n      <td>unit_1</td>\n      <td>1</td>\n      <td>1</td>\n      <td>Next</td>\n      <td>Tue, 16 Jan 2024 09:41:43 GMT</td>\n      <td>2024-01-16 09:41:43 00:00</td>\n      <td>...</td>\n      <td>1.705398e+09</td>\n      <td>1.705398e+09</td>\n      <td>201.00</td>\n      <td>2024-01-16 09:38:22</td>\n      <td>2024-01-16 09:41:43</td>\n      <td>1</td>\n      <td>True</td>\n      <td>True</td>\n      <td>True</td>\n      <td>True</td>\n    </tr>\n    <tr>\n      <th>2</th>\n      <td>7GFH0CXPHPTSPX</td>\n      <td>True</td>\n      <td>task1</td>\n      <td>batch1</td>\n      <td>unit_1</td>\n      <td>1</td>\n      <td>1</td>\n      <td>Next</td>\n      <td>Tue, 16 Jan 2024 09:43:01 GMT</td>\n      <td>2024-01-16 09:43:01 00:00</td>\n      <td>...</td>\n      <td>1.705398e+09</td>\n      <td>1.705398e+09</td>\n      <td>78.06</td>\n      <td>2024-01-16 09:41:43</td>\n      <td>2024-01-16 09:43:01</td>\n      <td>1</td>\n      <td>True</td>\n      <td>True</td>\n      <td>True</td>\n      <td>True</td>\n    </tr>\n    <tr>\n      <th>3</th>\n      <td>7GFH0CXPHPTSPX</td>\n      <td>True</td>\n      <td>task1</td>\n      <td>batch1</td>\n      <td>unit_1</td>\n      <td>1</td>\n      <td>1</td>\n      <td>Next</td>\n      <td>Tue, 16 Jan 2024 09:44:45 GMT</td>\n      <td>2024-01-16 09:44:45 00:00</td>\n      <td>...</td>\n      <td>1.705398e+09</td>\n      <td>1.705398e+09</td>\n      <td>104.07</td>\n      <td>2024-01-16 09:43:01</td>\n      <td>2024-01-16 09:44:45</td>\n      <td>1</td>\n      <td>True</td>\n      <td>True</td>\n      <td>True</td>\n      <td>True</td>\n    </tr>\n    <tr>\n      <th>4</th>\n      <td>7GFH0CXPHPTSPX</td>\n      <td>True</td>\n      <td>task1</td>\n      <td>batch1</td>\n      <td>unit_1</td>\n      <td>1</td>\n      <td>1</td>\n      <td>Finish</td>\n      <td>Tue, 16 Jan 2024 09:45:59 GMT</td>\n      <td>2024-01-16 09:45:59 00:00</td>\n      <td>...</td>\n      <td>1.705398e+09</td>\n      <td>1.705398e+09</td>\n      <td>73.03</td>\n      <td>2024-01-16 09:44:45</td>\n      <td>2024-01-16 09:45:58</td>\n      <td>1</td>\n      <td>True</td>\n      <td>True</td>\n      <td>True</td>\n      <td>True</td>\n    </tr>\n    <tr>\n      <th>...</th>\n      <td>...</td>\n      <td>...</td>\n      <td>...</td>\n      <td>...</td>\n      <td>...</td>\n      <td>...</td>\n      <td>...</td>\n      <td>...</td>\n      <td>...</td>\n      <td>...</td>\n      <td>...</td>\n      <td>...</td>\n      <td>...</td>\n      <td>...</td>\n      <td>...</td>\n      <td>...</td>\n      <td>...</td>\n      <td>...</td>\n      <td>...</td>\n      <td>...</td>\n      <td>...</td>\n    </tr>\n    <tr>\n      <th>82</th>\n      <td>T4MEORG9STZITP</td>\n      <td>True</td>\n      <td>task1</td>\n      <td>batch1</td>\n      <td>unit_10</td>\n      <td>1</td>\n      <td>1</td>\n      <td>Back</td>\n      <td>Tue, 16 Jan 2024 18:25:12 GMT</td>\n      <td>2024-01-16 18:25:12 00:00</td>\n      <td>...</td>\n      <td>1.705429e+09</td>\n      <td>1.705430e+09</td>\n      <td>125.46</td>\n      <td>2024-01-16 18:23:06</td>\n      <td>2024-01-16 18:25:12</td>\n      <td>1</td>\n      <td>True</td>\n      <td>True</td>\n      <td>True</td>\n      <td>True</td>\n    </tr>\n    <tr>\n      <th>83</th>\n      <td>T4MEORG9STZITP</td>\n      <td>True</td>\n      <td>task1</td>\n      <td>batch1</td>\n      <td>unit_10</td>\n      <td>1</td>\n      <td>1</td>\n      <td>Next</td>\n      <td>Tue, 16 Jan 2024 18:25:16 GMT</td>\n      <td>2024-01-16 18:25:16 00:00</td>\n      <td>...</td>\n      <td>1.705429e+09</td>\n      <td>1.705429e+09</td>\n      <td>139.79</td>\n      <td>2024-01-16 18:20:46</td>\n      <td>2024-01-16 18:22:51</td>\n      <td>3</td>\n      <td>True</td>\n      <td>True</td>\n      <td>True</td>\n      <td>True</td>\n    </tr>\n    <tr>\n      <th>84</th>\n      <td>T4MEORG9STZITP</td>\n      <td>True</td>\n      <td>task1</td>\n      <td>batch1</td>\n      <td>unit_10</td>\n      <td>1</td>\n      <td>1</td>\n      <td>Next</td>\n      <td>Tue, 16 Jan 2024 18:25:17 GMT</td>\n      <td>2024-01-16 18:25:17 00:00</td>\n      <td>...</td>\n      <td>1.705429e+09</td>\n      <td>1.705430e+09</td>\n      <td>126.40</td>\n      <td>2024-01-16 18:23:06</td>\n      <td>2024-01-16 18:25:12</td>\n      <td>2</td>\n      <td>True</td>\n      <td>True</td>\n      <td>True</td>\n      <td>True</td>\n    </tr>\n    <tr>\n      <th>85</th>\n      <td>T4MEORG9STZITP</td>\n      <td>True</td>\n      <td>task1</td>\n      <td>batch1</td>\n      <td>unit_10</td>\n      <td>1</td>\n      <td>1</td>\n      <td>Next</td>\n      <td>Tue, 16 Jan 2024 18:27:16 GMT</td>\n      <td>2024-01-16 18:27:16 00:00</td>\n      <td>...</td>\n      <td>1.705430e+09</td>\n      <td>1.705430e+09</td>\n      <td>119.69</td>\n      <td>2024-01-16 18:25:17</td>\n      <td>2024-01-16 18:27:16</td>\n      <td>1</td>\n      <td>True</td>\n      <td>True</td>\n      <td>True</td>\n      <td>True</td>\n    </tr>\n    <tr>\n      <th>86</th>\n      <td>T4MEORG9STZITP</td>\n      <td>True</td>\n      <td>task1</td>\n      <td>batch1</td>\n      <td>unit_10</td>\n      <td>1</td>\n      <td>1</td>\n      <td>Finish</td>\n      <td>Tue, 16 Jan 2024 18:29:15 GMT</td>\n      <td>2024-01-16 18:29:15 00:00</td>\n      <td>...</td>\n      <td>1.705430e+09</td>\n      <td>1.705430e+09</td>\n      <td>117.82</td>\n      <td>2024-01-16 18:27:16</td>\n      <td>2024-01-16 18:29:14</td>\n      <td>1</td>\n      <td>True</td>\n      <td>True</td>\n      <td>True</td>\n      <td>True</td>\n    </tr>\n  </tbody>\n</table>\n<p>87 rows × 44 columns</p>\n</div>"
     },
     "execution_count": 3,
     "metadata": {},
     "output_type": "execute_result"
    }
   ],
   "source": [
    "workers_answers"
   ],
   "metadata": {
    "collapsed": false
   }
  },
  {
   "cell_type": "code",
   "execution_count": 4,
   "outputs": [],
   "source": [
    "absolute_frequencies = workers_questionnaire['question_answer_text'].value_counts()\n",
    "relative_frequencies = absolute_frequencies / len(workers_questionnaire)\n",
    "\n",
    "average_confidence = workers_answers.groupby('document_index')['Confidence_value'].mean()\n",
    "average_time_elapsed = workers_answers.groupby('document_index')['time_elapsed'].mean()"
   ],
   "metadata": {
    "collapsed": false,
    "ExecuteTime": {
     "end_time": "2024-01-17T19:39:11.162442Z",
     "start_time": "2024-01-17T19:39:11.151731Z"
    }
   }
  },
  {
   "cell_type": "code",
   "execution_count": 5,
   "outputs": [],
   "source": [
    "#da verificare\n",
    "total_units = len(workers_answers)\n",
    "matching_units = workers_answers[workers_answers['Reliability_value'] == workers_answers['Reliability_value']].shape[0]\n",
    "\n",
    "percent_agreement = (matching_units / total_units) * 100"
   ],
   "metadata": {
    "collapsed": false,
    "ExecuteTime": {
     "end_time": "2024-01-17T19:39:11.617296Z",
     "start_time": "2024-01-17T19:39:11.611847Z"
    }
   }
  },
  {
   "cell_type": "code",
   "execution_count": 6,
   "outputs": [
    {
     "name": "stdout",
     "output_type": "stream",
     "text": [
      "   document_id  Neutrality_index\n",
      "0   B015XC3B46               3.0\n",
      "1   B015XC3B46               1.0\n",
      "2   B015XC3B46               1.0\n",
      "3   B015XC3B46               3.0\n",
      "4   B0002KMHD6               2.0\n",
      "..         ...               ...\n",
      "65  B00QTSR5GO               4.0\n",
      "66  B00QTSR5GO               3.0\n",
      "67  B00QTSR5GO               4.0\n",
      "68  B00QTSR5GO               3.0\n",
      "69  B00QTSR5GO               2.0\n",
      "\n",
      "[70 rows x 2 columns]\n"
     ]
    }
   ],
   "source": [
    "# Inizializza una lista per i risultati\n",
    "result_list = []\n",
    "\n",
    "# Cicla sui valori unici della colonna document_id\n",
    "for doc_id in workers_answers['document_id'].unique():\n",
    "    # Filtra il DataFrame per il documento corrente\n",
    "    doc_df = workers_answers[workers_answers['document_id'] == doc_id]\n",
    "\n",
    "    # Conserva solo la prima risposta per ogni worker_id\n",
    "    unique_worker_ids = doc_df['worker_id'].unique()\n",
    "    for worker_id in unique_worker_ids:\n",
    "        first_answer_idx = doc_df[doc_df['worker_id'] == worker_id].index[0]\n",
    "        first_answer_row = doc_df.loc[first_answer_idx]\n",
    "        result_list.append({'document_id': doc_id, 'Neutrality_index': first_answer_row['Neutrality_index']})\n",
    "\n",
    "# Crea un DataFrame dai risultati\n",
    "result_df = pd.DataFrame(result_list)\n",
    "#print(result_df)# Visualizza il DataFrame risultante\n",
    "print(result_df)\n",
    "\n",
    "# Raggruppa per document_id e calcola la percentuale di accordo\n",
    "grouped_df = result_df.groupby('document_id')['Neutrality_index'].value_counts(normalize=True).mul(100).unstack().fillna(0)\n",
    "\n",
    "# Visualizza il DataFrame risultante\n",
    "#print(grouped_df)"
   ],
   "metadata": {
    "collapsed": false
   }
  },
  {
   "cell_type": "code",
   "execution_count": 6,
   "outputs": [],
   "source": [],
   "metadata": {
    "collapsed": false
   }
  },
  {
   "cell_type": "code",
   "execution_count": 7,
   "outputs": [
    {
     "name": "stdout",
     "output_type": "stream",
     "text": [
      "   document_id  Percent_Agreement\n",
      "0   B00004SVUZ          20.000000\n",
      "1   B00006JN5L          13.333333\n",
      "2   B0001DHQPI          13.333333\n",
      "3   B0002KMHD6          26.666667\n",
      "4   B000O39U3Q          13.333333\n",
      "5   B001DYVHY0          13.333333\n",
      "6   B0029MAXR2          13.333333\n",
      "7   B003TO59D2          20.000000\n",
      "8   B0041RUM0Q          13.333333\n",
      "9   B0050SYWGU          13.333333\n",
      "10  B005ZNWT4C          20.000000\n",
      "11  B00PNVOBTC          13.333333\n",
      "12  B00QTSR5GO          13.333333\n",
      "13  B015XC3B46          13.333333\n",
      "14  B01G6LXXWI           6.666667\n"
     ]
    }
   ],
   "source": [
    "grouped_df = result_df.groupby(['document_id', 'Neutrality_index']).size().reset_index(name='counts')\n",
    "\n",
    "# Crea un DataFrame pivot per avere le Neutrality_description come colonne\n",
    "pivot_df = grouped_df.pivot(index='document_id', columns='Neutrality_index', values='counts').fillna(0)\n",
    "\n",
    "# Calcola la percentuale di accordo per ciascun document_id\n",
    "total_documents = pivot_df.shape[0]\n",
    "matching_values = pivot_df.apply(lambda row: row.max(), axis=1)\n",
    "percent_agreement = (matching_values / total_documents) * 100\n",
    "\n",
    "# Visualizza il DataFrame risultante con la percentuale di accordo per ciascun document_id\n",
    "result_percent_df = pd.DataFrame({'document_id': percent_agreement.index, 'Percent_Agreement': percent_agreement.values})\n",
    "\n",
    "print(result_percent_df)"
   ],
   "metadata": {
    "collapsed": false
   }
  },
  {
   "cell_type": "code",
   "execution_count": 7,
   "outputs": [],
   "source": [],
   "metadata": {
    "collapsed": false
   }
  },
  {
   "cell_type": "code",
   "execution_count": 8,
   "outputs": [
    {
     "name": "stdout",
     "output_type": "stream",
     "text": [
      "   document_id  Pairwise_Agreement\n",
      "0   B00004SVUZ            0.028571\n",
      "1   B00006JN5L            0.019048\n",
      "2   B0001DHQPI            0.019048\n",
      "3   B0002KMHD6            0.038095\n",
      "4   B000O39U3Q            0.019048\n",
      "5   B001DYVHY0            0.019048\n",
      "6   B0029MAXR2            0.019048\n",
      "7   B003TO59D2            0.028571\n",
      "8   B0041RUM0Q            0.019048\n",
      "9   B0050SYWGU            0.019048\n",
      "10  B005ZNWT4C            0.028571\n",
      "11  B00PNVOBTC            0.019048\n",
      "12  B00QTSR5GO            0.019048\n",
      "13  B015XC3B46            0.019048\n",
      "14  B01G6LXXWI            0.009524\n"
     ]
    }
   ],
   "source": [
    "grouped_df = result_df.groupby(['document_id', 'Neutrality_index']).size().reset_index(name='counts')\n",
    "\n",
    "# Crea un DataFrame pivot per avere le Neutrality_description come colonne\n",
    "pivot_df = grouped_df.pivot(index='document_id', columns='Neutrality_index', values='counts').fillna(0)\n",
    "\n",
    "# Calcola il pairwise agreement per ciascun document_id\n",
    "total_documents = pivot_df.shape[0]\n",
    "pairwise_agreement = 2 * pivot_df.apply(lambda row: row.max(), axis=1) / (total_documents * (total_documents - 1))\n",
    "\n",
    "# Visualizza il DataFrame risultante con il pairwise agreement per ciascun document_id\n",
    "result_pairwise_df = pd.DataFrame({'document_id': pairwise_agreement.index, 'Pairwise_Agreement': pairwise_agreement.values})\n",
    "\n",
    "print(result_pairwise_df)"
   ],
   "metadata": {
    "collapsed": false
   }
  },
  {
   "cell_type": "code",
   "execution_count": 29,
   "outputs": [
    {
     "data": {
      "text/plain": "Neutrality_index  0.0  1.0  2.0  3.0  4.0  Total\ndocument_id                                     \nB00004SVUZ        0.0  1.0  1.0  3.0  0.0    5.0\nB00006JN5L        2.0  0.0  2.0  0.0  1.0    5.0\nB0001DHQPI        1.0  2.0  0.0  2.0  0.0    5.0\nB0002KMHD6        0.0  0.0  1.0  4.0  0.0    5.0\nB000O39U3Q        1.0  1.0  0.0  2.0  1.0    5.0\nB001DYVHY0        0.0  1.0  0.0  2.0  2.0    5.0\nB0029MAXR2        0.0  2.0  1.0  2.0  0.0    5.0\nB003TO59D2        3.0  2.0  0.0  0.0  0.0    5.0\nB0041RUM0Q        0.0  0.0  0.0  2.0  2.0    4.0\nB0050SYWGU        0.0  0.0  1.0  2.0  1.0    4.0\nB005ZNWT4C        3.0  0.0  0.0  1.0  0.0    4.0\nB00PNVOBTC        0.0  0.0  1.0  2.0  1.0    4.0\nB00QTSR5GO        0.0  0.0  1.0  2.0  2.0    5.0\nB015XC3B46        0.0  2.0  0.0  2.0  0.0    4.0\nB01G6LXXWI        1.0  1.0  1.0  1.0  1.0    5.0",
      "text/html": "<div>\n<style scoped>\n    .dataframe tbody tr th:only-of-type {\n        vertical-align: middle;\n    }\n\n    .dataframe tbody tr th {\n        vertical-align: top;\n    }\n\n    .dataframe thead th {\n        text-align: right;\n    }\n</style>\n<table border=\"1\" class=\"dataframe\">\n  <thead>\n    <tr style=\"text-align: right;\">\n      <th>Neutrality_index</th>\n      <th>0.0</th>\n      <th>1.0</th>\n      <th>2.0</th>\n      <th>3.0</th>\n      <th>4.0</th>\n      <th>Total</th>\n    </tr>\n    <tr>\n      <th>document_id</th>\n      <th></th>\n      <th></th>\n      <th></th>\n      <th></th>\n      <th></th>\n      <th></th>\n    </tr>\n  </thead>\n  <tbody>\n    <tr>\n      <th>B00004SVUZ</th>\n      <td>0.0</td>\n      <td>1.0</td>\n      <td>1.0</td>\n      <td>3.0</td>\n      <td>0.0</td>\n      <td>5.0</td>\n    </tr>\n    <tr>\n      <th>B00006JN5L</th>\n      <td>2.0</td>\n      <td>0.0</td>\n      <td>2.0</td>\n      <td>0.0</td>\n      <td>1.0</td>\n      <td>5.0</td>\n    </tr>\n    <tr>\n      <th>B0001DHQPI</th>\n      <td>1.0</td>\n      <td>2.0</td>\n      <td>0.0</td>\n      <td>2.0</td>\n      <td>0.0</td>\n      <td>5.0</td>\n    </tr>\n    <tr>\n      <th>B0002KMHD6</th>\n      <td>0.0</td>\n      <td>0.0</td>\n      <td>1.0</td>\n      <td>4.0</td>\n      <td>0.0</td>\n      <td>5.0</td>\n    </tr>\n    <tr>\n      <th>B000O39U3Q</th>\n      <td>1.0</td>\n      <td>1.0</td>\n      <td>0.0</td>\n      <td>2.0</td>\n      <td>1.0</td>\n      <td>5.0</td>\n    </tr>\n    <tr>\n      <th>B001DYVHY0</th>\n      <td>0.0</td>\n      <td>1.0</td>\n      <td>0.0</td>\n      <td>2.0</td>\n      <td>2.0</td>\n      <td>5.0</td>\n    </tr>\n    <tr>\n      <th>B0029MAXR2</th>\n      <td>0.0</td>\n      <td>2.0</td>\n      <td>1.0</td>\n      <td>2.0</td>\n      <td>0.0</td>\n      <td>5.0</td>\n    </tr>\n    <tr>\n      <th>B003TO59D2</th>\n      <td>3.0</td>\n      <td>2.0</td>\n      <td>0.0</td>\n      <td>0.0</td>\n      <td>0.0</td>\n      <td>5.0</td>\n    </tr>\n    <tr>\n      <th>B0041RUM0Q</th>\n      <td>0.0</td>\n      <td>0.0</td>\n      <td>0.0</td>\n      <td>2.0</td>\n      <td>2.0</td>\n      <td>4.0</td>\n    </tr>\n    <tr>\n      <th>B0050SYWGU</th>\n      <td>0.0</td>\n      <td>0.0</td>\n      <td>1.0</td>\n      <td>2.0</td>\n      <td>1.0</td>\n      <td>4.0</td>\n    </tr>\n    <tr>\n      <th>B005ZNWT4C</th>\n      <td>3.0</td>\n      <td>0.0</td>\n      <td>0.0</td>\n      <td>1.0</td>\n      <td>0.0</td>\n      <td>4.0</td>\n    </tr>\n    <tr>\n      <th>B00PNVOBTC</th>\n      <td>0.0</td>\n      <td>0.0</td>\n      <td>1.0</td>\n      <td>2.0</td>\n      <td>1.0</td>\n      <td>4.0</td>\n    </tr>\n    <tr>\n      <th>B00QTSR5GO</th>\n      <td>0.0</td>\n      <td>0.0</td>\n      <td>1.0</td>\n      <td>2.0</td>\n      <td>2.0</td>\n      <td>5.0</td>\n    </tr>\n    <tr>\n      <th>B015XC3B46</th>\n      <td>0.0</td>\n      <td>2.0</td>\n      <td>0.0</td>\n      <td>2.0</td>\n      <td>0.0</td>\n      <td>4.0</td>\n    </tr>\n    <tr>\n      <th>B01G6LXXWI</th>\n      <td>1.0</td>\n      <td>1.0</td>\n      <td>1.0</td>\n      <td>1.0</td>\n      <td>1.0</td>\n      <td>5.0</td>\n    </tr>\n  </tbody>\n</table>\n</div>"
     },
     "execution_count": 29,
     "metadata": {},
     "output_type": "execute_result"
    }
   ],
   "source": [
    "# Raggruppa per document_id e conta le occorrenze di ciascun valore Neutrality_description\n",
    "grouped_df = result_df.groupby(['document_id', 'Neutrality_index']).size().reset_index(name='counts')\n",
    "\n",
    "# Crea un DataFrame pivot per avere le Neutrality_description come colonne\n",
    "pivot_df = grouped_df.pivot(index='document_id', columns='Neutrality_index', values='counts').fillna(0)\n",
    "\n",
    "# Aggiungi una colonna con la somma totale delle risposte per ciascun document_id\n",
    "pivot_df['Total'] = pivot_df.sum(axis=1)\n",
    "\n",
    "\n",
    "\n",
    "# Visualizza il DataFrame risultante\n",
    "print(pivot_df)"
   ],
   "metadata": {
    "collapsed": false
   }
  },
  {
   "cell_type": "code",
   "execution_count": 30,
   "outputs": [
    {
     "data": {
      "text/plain": "Neutrality_index\n2.0        2.0\n3.0       36.0\n4.0        6.0\nTotal    260.0\ndtype: float64"
     },
     "execution_count": 30,
     "metadata": {},
     "output_type": "execute_result"
    }
   ],
   "source": [
    "somma = 0\n",
    "lista = []\n",
    "for document_id in pivot_df:\n",
    "    for j in pivot_df[document_id]:\n",
    "        somma += j*(j-1)\n",
    "\n",
    "    lista[document_id]\n",
    "result = somma /20\n",
    "\n",
    "print(result)\n"
   ],
   "metadata": {
    "collapsed": false
   }
  },
  {
   "cell_type": "code",
   "execution_count": null,
   "outputs": [],
   "source": [
    "import numpy as np\n",
    "\n",
    "def fairness(dataset):\n",
    "    # Calculate the probability of each document being in each neutrality class\n",
    "    neutrality_counts = np.zeros([5, 5])\n",
    "    for document in dataset:\n",
    "        neutrality_index = document[0]\n",
    "        count = document[1 + neutrality_index]\n",
    "        neutrality_counts[neutrality_index, count - 1] += 1\n",
    "    probabilities = neutrality_counts / len(dataset)\n",
    "\n",
    "    # Calculate the probability of each user being in each neutrality class\n",
    "    user_counts = np.zeros([5, 5])\n",
    "    for document in dataset:\n",
    "        document_id = document[2]\n",
    "        neutrality_index = document[0]\n",
    "        count = document[1 + neutrality_index]\n",
    "        user_counts[document_id - 1, count - 1] += 1\n",
    "    user_probabilities = user_counts / len(dataset)\n",
    "\n",
    "    # Calculate the fairness for each user\n",
    "    fairness = []\n",
    "    for user_id in range(5):\n",
    "        user_p = user_probabilities[user_id]\n",
    "        fairness_for_user = 0\n",
    "        for neutrality_index in range(5):\n",
    "            p_ij = probabilities[neutrality_index, 0] * user_probabilities[user_id, 0]\n",
    "            for count in range(1, 4):\n",
    "                p_ij += probabilities[neutrality_index, count] * user_probabilities[user_id, count]\n",
    "            fairness_for_user += user_p * p_ij\n",
    "        fairness.append(fairness_for_user)\n",
    "\n",
    "    # Average the fairness scores for all users\n",
    "    fairness_average = sum(fairness) / len(fairness)\n",
    "\n",
    "    return fairness_average\n",
    "\n",
    "\n",
    "# Load the dataset\n",
    "\n",
    "with open('pivot_df.csv') as f:\n",
    "    reader = csv.reader(f)\n",
    "    for row in reader:\n",
    "        dataset.append(row)\n",
    "\n",
    "# Calculate the fairness of the dataset\n",
    "fairness_average = fairness(dataset)\n",
    "\n",
    "print(fairness_average)"
   ],
   "metadata": {
    "collapsed": false
   }
  }
 ],
 "metadata": {
  "kernelspec": {
   "display_name": "Python 3",
   "language": "python",
   "name": "python3"
  },
  "language_info": {
   "codemirror_mode": {
    "name": "ipython",
    "version": 2
   },
   "file_extension": ".py",
   "mimetype": "text/x-python",
   "name": "python",
   "nbconvert_exporter": "python",
   "pygments_lexer": "ipython2",
   "version": "2.7.6"
  }
 },
 "nbformat": 4,
 "nbformat_minor": 0
}
