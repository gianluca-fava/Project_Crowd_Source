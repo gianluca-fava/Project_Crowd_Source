{
 "cells": [
  {
   "cell_type": "code",
   "execution_count": 3,
   "id": "initial_id",
   "metadata": {
    "collapsed": true,
    "ExecuteTime": {
     "end_time": "2024-01-21T22:17:45.342910Z",
     "start_time": "2024-01-21T22:17:44.430052Z"
    }
   },
   "outputs": [],
   "source": [
    "import pandas as pd\n",
    "import numpy as np\n",
    "import random"
   ]
  },
  {
   "cell_type": "code",
   "execution_count": 4,
   "id": "6a9b3a8e98226794",
   "metadata": {
    "collapsed": false,
    "ExecuteTime": {
     "end_time": "2024-01-21T22:17:45.394072Z",
     "start_time": "2024-01-21T22:17:45.345426Z"
    }
   },
   "outputs": [
    {
     "data": {
      "text/plain": "   product_asin     reviewer_id       reviewer_name  review_score  \\\n0    B015XC3B46  A12KQFV90UYVK1        Roman D Mayo             3   \n1    B00004SVUZ  A36BNNPV9REL0X    John L. Kittrell             5   \n2    B005ZNWT4C   AM5J9LC5O2NG3             Jose S.             5   \n3    B0050SYWGU  A2WODLH7HB6KJC              ADavis             5   \n4    B003TO59D2   AFVCQLCFNDDNE           SIGH.....             2   \n5    B01G6LXXWI  A2D8OO05VVOHDG              Robert             5   \n6    B0041RUM0Q  A2TUSRGNWHJHH6     Nicholas Cassel             3   \n7    B00QTSR5GO   ASRA2UZ3JV87B      Navarro Parker             5   \n8    B00PNVOBTC  A2UTEWYG6AFMIH             STINK64             5   \n9    B001DYVHY0   ADWH4MNYE44O9             B. Love             5   \n10   B00006JN5L  A2REE61LV9SH9X           BaBy BoiE             4   \n11   B0029MAXR2  A2R6GE92NRZAWE            Va- Bank             5   \n12   B000O39U3Q   A4SDPXR9LK0P6  Virginia B Carroll             4   \n13   B0002KMHD6  A3CHOZ6EWUG3PR          Lindsey C.             4   \n14   B0001DHQPI  A33YIZBDNCZQ1F             Ian Mok             5   \n\n            review_time  review_time_unix  \\\n0   2015-11-11 00:00:00        1447200000   \n1   2007-08-09 00:00:00        1186617600   \n2   2015-05-21 00:00:00        1432166400   \n3   2011-10-21 00:00:00        1319155200   \n4   2011-01-28 00:00:00        1296172800   \n5   2016-08-19 00:00:00        1471564800   \n6   2011-02-17 00:00:00        1297900800   \n7   2015-03-15 00:00:00        1426377600   \n8   2016-09-22 00:00:00        1474502400   \n9   2009-03-26 00:00:00        1238025600   \n10  2002-10-10 00:00:00        1034208000   \n11  2009-09-30 00:00:00        1254268800   \n12  2008-03-09 00:00:00        1205020800   \n13  2004-11-15 00:00:00        1100476800   \n14  2004-11-21 00:00:00        1100995200   \n\n                                       review_summary  review_upvote  \\\n0   Seems like a pet or child bumping into it woul...            7.0   \n1                                          Great game            2.0   \n2                                             LOVE IT            2.0   \n3                                         Great Game!           33.0   \n4                  WTF. it has more bugs than my X-gf            3.0   \n5   These are among the most nicely detailed amiib...            3.0   \n6                                  Get's the job done           11.0   \n7                      Best iOS controller out there!           17.0   \n8                                    WORKED PERFECTLY            2.0   \n9            Pretty awesome game missing one thing...            8.0   \n10                                         Great game            2.0   \n11                                  The wait is over.           19.0   \n12                                           Awesome!            2.0   \n13             more fun than setting stuff on fire...          110.0   \n14                              Amazing. Enough said.           10.0   \n\n                                          review_text  \\\n0   This product is decent, however, the base of t...   \n1   I've tried this game. You have to learn it fir...   \n2   Im a big Hatsune MIku fan and when i saw this ...   \n3   I have had this game for a few hours now, and ...   \n4   once i get past the first mission it QUITS lik...   \n5   These are among the most nicely detailed amiib...   \n6   I bought this charger around December and so f...   \n7   Hands down, the best feeling iOS controller ou...   \n8   WORKED PERFECTLY IN MY RETRO FREAK CONSOLE. NO...   \n9   Wanted: Weapons of Fate for PS3 is an awesome ...   \n10  This game is the best one yet the game play is...   \n11  I almost bought an Xbox 360 just to play Ninja...   \n12  I'm a computer teacher, teaching children ages...   \n13  Talk about the next generation of gaming, this...   \n14  Rainbow Six 3 is simply one of the best games ...   \n\n                                        product_title         product_brand  \\\n0   Zacro PS4 Vertical Stand Cooling Fan Dual Char...                 Zacro   \n1       Star Trek: The Next Generation - Nintendo NES  ABSOLUTE VIDEO GAMES   \n2   Sega Hatsune Miku: Project Diva Extend for PSP...                  Sega   \n3                   Rocksmith Guitar Bundle -Xbox 360               Ubisoft   \n4             Theatre of War 2: Kursk 1943 [Download]                    1C   \n5   amllbo [aori/fire Fly] (Splatoon series)Ninten...              Nintendo   \n6       Xbox 360 Power Base Induction Charger - Black             dreamGEAR   \n7   SteelSeries Stratus XL Bluetooth Wireless Gami...           SteelSeries   \n8   Nintendo NES to Famicom Game Converter Adapter...   Classic Game Source   \n9             Wanted: Weapons of Fate - Playstation 3              WB Games   \n10                                      NBA Live 2003              Nintendo   \n11                         Ninja Gaiden Sigma 2 (PS3)            Tecmo Koei   \n12  Adventure Workshop Preschool-1st Grade 8th Edi...                Encore   \n13        Eyetoy Antigrav with Camera - PlayStation 2                  Sony   \n14                           Rainbow Six 3 - Gamecube               Ubisoft   \n\n                          uniqueID  \n0   Pair_A12KQFV90UYVK1-B015XC3B46  \n1   Pair_A36BNNPV9REL0X-B00004SVUZ  \n2    Pair_AM5J9LC5O2NG3-B005ZNWT4C  \n3   Pair_A2WODLH7HB6KJC-B0050SYWGU  \n4    Pair_AFVCQLCFNDDNE-B003TO59D2  \n5   Pair_A2D8OO05VVOHDG-B01G6LXXWI  \n6   Pair_A2TUSRGNWHJHH6-B0041RUM0Q  \n7    Pair_ASRA2UZ3JV87B-B00QTSR5GO  \n8   Pair_A2UTEWYG6AFMIH-B00PNVOBTC  \n9    Pair_ADWH4MNYE44O9-B001DYVHY0  \n10  Pair_A2REE61LV9SH9X-B00006JN5L  \n11  Pair_A2R6GE92NRZAWE-B0029MAXR2  \n12   Pair_A4SDPXR9LK0P6-B000O39U3Q  \n13  Pair_A3CHOZ6EWUG3PR-B0002KMHD6  \n14  Pair_A33YIZBDNCZQ1F-B0001DHQPI  ",
      "text/html": "<div>\n<style scoped>\n    .dataframe tbody tr th:only-of-type {\n        vertical-align: middle;\n    }\n\n    .dataframe tbody tr th {\n        vertical-align: top;\n    }\n\n    .dataframe thead th {\n        text-align: right;\n    }\n</style>\n<table border=\"1\" class=\"dataframe\">\n  <thead>\n    <tr style=\"text-align: right;\">\n      <th></th>\n      <th>product_asin</th>\n      <th>reviewer_id</th>\n      <th>reviewer_name</th>\n      <th>review_score</th>\n      <th>review_time</th>\n      <th>review_time_unix</th>\n      <th>review_summary</th>\n      <th>review_upvote</th>\n      <th>review_text</th>\n      <th>product_title</th>\n      <th>product_brand</th>\n      <th>uniqueID</th>\n    </tr>\n  </thead>\n  <tbody>\n    <tr>\n      <th>0</th>\n      <td>B015XC3B46</td>\n      <td>A12KQFV90UYVK1</td>\n      <td>Roman D Mayo</td>\n      <td>3</td>\n      <td>2015-11-11 00:00:00</td>\n      <td>1447200000</td>\n      <td>Seems like a pet or child bumping into it woul...</td>\n      <td>7.0</td>\n      <td>This product is decent, however, the base of t...</td>\n      <td>Zacro PS4 Vertical Stand Cooling Fan Dual Char...</td>\n      <td>Zacro</td>\n      <td>Pair_A12KQFV90UYVK1-B015XC3B46</td>\n    </tr>\n    <tr>\n      <th>1</th>\n      <td>B00004SVUZ</td>\n      <td>A36BNNPV9REL0X</td>\n      <td>John L. Kittrell</td>\n      <td>5</td>\n      <td>2007-08-09 00:00:00</td>\n      <td>1186617600</td>\n      <td>Great game</td>\n      <td>2.0</td>\n      <td>I've tried this game. You have to learn it fir...</td>\n      <td>Star Trek: The Next Generation - Nintendo NES</td>\n      <td>ABSOLUTE VIDEO GAMES</td>\n      <td>Pair_A36BNNPV9REL0X-B00004SVUZ</td>\n    </tr>\n    <tr>\n      <th>2</th>\n      <td>B005ZNWT4C</td>\n      <td>AM5J9LC5O2NG3</td>\n      <td>Jose S.</td>\n      <td>5</td>\n      <td>2015-05-21 00:00:00</td>\n      <td>1432166400</td>\n      <td>LOVE IT</td>\n      <td>2.0</td>\n      <td>Im a big Hatsune MIku fan and when i saw this ...</td>\n      <td>Sega Hatsune Miku: Project Diva Extend for PSP...</td>\n      <td>Sega</td>\n      <td>Pair_AM5J9LC5O2NG3-B005ZNWT4C</td>\n    </tr>\n    <tr>\n      <th>3</th>\n      <td>B0050SYWGU</td>\n      <td>A2WODLH7HB6KJC</td>\n      <td>ADavis</td>\n      <td>5</td>\n      <td>2011-10-21 00:00:00</td>\n      <td>1319155200</td>\n      <td>Great Game!</td>\n      <td>33.0</td>\n      <td>I have had this game for a few hours now, and ...</td>\n      <td>Rocksmith Guitar Bundle -Xbox 360</td>\n      <td>Ubisoft</td>\n      <td>Pair_A2WODLH7HB6KJC-B0050SYWGU</td>\n    </tr>\n    <tr>\n      <th>4</th>\n      <td>B003TO59D2</td>\n      <td>AFVCQLCFNDDNE</td>\n      <td>SIGH.....</td>\n      <td>2</td>\n      <td>2011-01-28 00:00:00</td>\n      <td>1296172800</td>\n      <td>WTF. it has more bugs than my X-gf</td>\n      <td>3.0</td>\n      <td>once i get past the first mission it QUITS lik...</td>\n      <td>Theatre of War 2: Kursk 1943 [Download]</td>\n      <td>1C</td>\n      <td>Pair_AFVCQLCFNDDNE-B003TO59D2</td>\n    </tr>\n    <tr>\n      <th>5</th>\n      <td>B01G6LXXWI</td>\n      <td>A2D8OO05VVOHDG</td>\n      <td>Robert</td>\n      <td>5</td>\n      <td>2016-08-19 00:00:00</td>\n      <td>1471564800</td>\n      <td>These are among the most nicely detailed amiib...</td>\n      <td>3.0</td>\n      <td>These are among the most nicely detailed amiib...</td>\n      <td>amllbo [aori/fire Fly] (Splatoon series)Ninten...</td>\n      <td>Nintendo</td>\n      <td>Pair_A2D8OO05VVOHDG-B01G6LXXWI</td>\n    </tr>\n    <tr>\n      <th>6</th>\n      <td>B0041RUM0Q</td>\n      <td>A2TUSRGNWHJHH6</td>\n      <td>Nicholas Cassel</td>\n      <td>3</td>\n      <td>2011-02-17 00:00:00</td>\n      <td>1297900800</td>\n      <td>Get's the job done</td>\n      <td>11.0</td>\n      <td>I bought this charger around December and so f...</td>\n      <td>Xbox 360 Power Base Induction Charger - Black</td>\n      <td>dreamGEAR</td>\n      <td>Pair_A2TUSRGNWHJHH6-B0041RUM0Q</td>\n    </tr>\n    <tr>\n      <th>7</th>\n      <td>B00QTSR5GO</td>\n      <td>ASRA2UZ3JV87B</td>\n      <td>Navarro Parker</td>\n      <td>5</td>\n      <td>2015-03-15 00:00:00</td>\n      <td>1426377600</td>\n      <td>Best iOS controller out there!</td>\n      <td>17.0</td>\n      <td>Hands down, the best feeling iOS controller ou...</td>\n      <td>SteelSeries Stratus XL Bluetooth Wireless Gami...</td>\n      <td>SteelSeries</td>\n      <td>Pair_ASRA2UZ3JV87B-B00QTSR5GO</td>\n    </tr>\n    <tr>\n      <th>8</th>\n      <td>B00PNVOBTC</td>\n      <td>A2UTEWYG6AFMIH</td>\n      <td>STINK64</td>\n      <td>5</td>\n      <td>2016-09-22 00:00:00</td>\n      <td>1474502400</td>\n      <td>WORKED PERFECTLY</td>\n      <td>2.0</td>\n      <td>WORKED PERFECTLY IN MY RETRO FREAK CONSOLE. NO...</td>\n      <td>Nintendo NES to Famicom Game Converter Adapter...</td>\n      <td>Classic Game Source</td>\n      <td>Pair_A2UTEWYG6AFMIH-B00PNVOBTC</td>\n    </tr>\n    <tr>\n      <th>9</th>\n      <td>B001DYVHY0</td>\n      <td>ADWH4MNYE44O9</td>\n      <td>B. Love</td>\n      <td>5</td>\n      <td>2009-03-26 00:00:00</td>\n      <td>1238025600</td>\n      <td>Pretty awesome game missing one thing...</td>\n      <td>8.0</td>\n      <td>Wanted: Weapons of Fate for PS3 is an awesome ...</td>\n      <td>Wanted: Weapons of Fate - Playstation 3</td>\n      <td>WB Games</td>\n      <td>Pair_ADWH4MNYE44O9-B001DYVHY0</td>\n    </tr>\n    <tr>\n      <th>10</th>\n      <td>B00006JN5L</td>\n      <td>A2REE61LV9SH9X</td>\n      <td>BaBy BoiE</td>\n      <td>4</td>\n      <td>2002-10-10 00:00:00</td>\n      <td>1034208000</td>\n      <td>Great game</td>\n      <td>2.0</td>\n      <td>This game is the best one yet the game play is...</td>\n      <td>NBA Live 2003</td>\n      <td>Nintendo</td>\n      <td>Pair_A2REE61LV9SH9X-B00006JN5L</td>\n    </tr>\n    <tr>\n      <th>11</th>\n      <td>B0029MAXR2</td>\n      <td>A2R6GE92NRZAWE</td>\n      <td>Va- Bank</td>\n      <td>5</td>\n      <td>2009-09-30 00:00:00</td>\n      <td>1254268800</td>\n      <td>The wait is over.</td>\n      <td>19.0</td>\n      <td>I almost bought an Xbox 360 just to play Ninja...</td>\n      <td>Ninja Gaiden Sigma 2 (PS3)</td>\n      <td>Tecmo Koei</td>\n      <td>Pair_A2R6GE92NRZAWE-B0029MAXR2</td>\n    </tr>\n    <tr>\n      <th>12</th>\n      <td>B000O39U3Q</td>\n      <td>A4SDPXR9LK0P6</td>\n      <td>Virginia B Carroll</td>\n      <td>4</td>\n      <td>2008-03-09 00:00:00</td>\n      <td>1205020800</td>\n      <td>Awesome!</td>\n      <td>2.0</td>\n      <td>I'm a computer teacher, teaching children ages...</td>\n      <td>Adventure Workshop Preschool-1st Grade 8th Edi...</td>\n      <td>Encore</td>\n      <td>Pair_A4SDPXR9LK0P6-B000O39U3Q</td>\n    </tr>\n    <tr>\n      <th>13</th>\n      <td>B0002KMHD6</td>\n      <td>A3CHOZ6EWUG3PR</td>\n      <td>Lindsey C.</td>\n      <td>4</td>\n      <td>2004-11-15 00:00:00</td>\n      <td>1100476800</td>\n      <td>more fun than setting stuff on fire...</td>\n      <td>110.0</td>\n      <td>Talk about the next generation of gaming, this...</td>\n      <td>Eyetoy Antigrav with Camera - PlayStation 2</td>\n      <td>Sony</td>\n      <td>Pair_A3CHOZ6EWUG3PR-B0002KMHD6</td>\n    </tr>\n    <tr>\n      <th>14</th>\n      <td>B0001DHQPI</td>\n      <td>A33YIZBDNCZQ1F</td>\n      <td>Ian Mok</td>\n      <td>5</td>\n      <td>2004-11-21 00:00:00</td>\n      <td>1100995200</td>\n      <td>Amazing. Enough said.</td>\n      <td>10.0</td>\n      <td>Rainbow Six 3 is simply one of the best games ...</td>\n      <td>Rainbow Six 3 - Gamecube</td>\n      <td>Ubisoft</td>\n      <td>Pair_A33YIZBDNCZQ1F-B0001DHQPI</td>\n    </tr>\n  </tbody>\n</table>\n</div>"
     },
     "execution_count": 4,
     "metadata": {},
     "output_type": "execute_result"
    }
   ],
   "source": [
    "df_HIT_reviews = pd.read_csv('df_HIT_reviews.csv')\n",
    "df_HIT_reviews\n",
    "\n"
   ]
  },
  {
   "cell_type": "code",
   "execution_count": 11,
   "id": "d709a8bfecbe8825",
   "metadata": {
    "collapsed": false,
    "ExecuteTime": {
     "end_time": "2024-01-21T22:22:53.474596Z",
     "start_time": "2024-01-21T22:22:53.454420Z"
    }
   },
   "outputs": [],
   "source": [
    "#Seleziona casualmente 5 chiavi con massimo valore da un dizionario, decrementa i valori usati di uno\n",
    "#restituisce un DataFrame con queste chiavi e il dizionario aggiornato\n",
    "\n",
    "def five_random_elements(input_dict):\n",
    "    # Trova il valore massimo nel dizionario\n",
    "    max_val = max(input_dict.values())\n",
    "    \n",
    "    # Trova le chiavi che hanno il valore massimo\n",
    "    max_keys = [k for k in input_dict if input_dict[k] == max_val]\n",
    "    \n",
    "    # Seleziona casualmente 5 chiavi tra quelle con il valore massimo\n",
    "    random_unit = random.sample(max_keys, k=5)\n",
    " \n",
    "    # Aggiorna i valori nel dizionario sottraendo 1 per ciascuna chiave selezionata\n",
    "    for key in random_unit:\n",
    "        input_dict[key] -= 1\n",
    "    \n",
    "    # Crea un DataFrame con le chiavi selezionate come colonne\n",
    "    unit = pd.DataFrame([random_unit], columns=['Posizione 1', 'Posizione 2', 'Posizione 3', 'Posizione 4', 'Posizione 5'])\n",
    "\n",
    "    \n",
    "    # Rimuove le chiavi dal dizionario se il loro valore raggiunge 0\n",
    "    input_dict = {k: v for k, v in input_dict.items() if v > 0}\n",
    "    \n",
    "    # Restituisci il DataFrame e il dizionario aggiornato\n",
    "    return unit, input_dict"
   ]
  },
  {
   "cell_type": "code",
   "execution_count": 12,
   "id": "d9040afd2fddbebb",
   "metadata": {
    "collapsed": false,
    "ExecuteTime": {
     "end_time": "2024-01-21T22:22:54.136290Z",
     "start_time": "2024-01-21T22:22:54.117954Z"
    }
   },
   "outputs": [
    {
     "data": {
      "text/plain": "        HIT Posizione 1 Posizione 2 Posizione 3 Posizione 4 Posizione 5\n0    unit_0  B005ZNWT4C  B015XC3B46  B0029MAXR2  B001DYVHY0  B0001DHQPI\n1    unit_1  B000O39U3Q  B00PNVOBTC  B003TO59D2  B0041RUM0Q  B00004SVUZ\n2    unit_2  B00006JN5L  B0050SYWGU  B0002KMHD6  B00QTSR5GO  B01G6LXXWI\n3    unit_3  B015XC3B46  B0041RUM0Q  B005ZNWT4C  B00004SVUZ  B00006JN5L\n4    unit_4  B0050SYWGU  B003TO59D2  B0029MAXR2  B0002KMHD6  B01G6LXXWI\n5    unit_5  B00QTSR5GO  B0001DHQPI  B00PNVOBTC  B000O39U3Q  B001DYVHY0\n6    unit_6  B000O39U3Q  B0041RUM0Q  B01G6LXXWI  B003TO59D2  B00006JN5L\n7    unit_7  B0002KMHD6  B005ZNWT4C  B00PNVOBTC  B00004SVUZ  B0029MAXR2\n8    unit_8  B015XC3B46  B001DYVHY0  B0050SYWGU  B0001DHQPI  B00QTSR5GO\n9    unit_9  B0050SYWGU  B005ZNWT4C  B003TO59D2  B00QTSR5GO  B000O39U3Q\n10  unit_10  B015XC3B46  B0029MAXR2  B0001DHQPI  B00006JN5L  B0041RUM0Q\n11  unit_11  B00PNVOBTC  B01G6LXXWI  B00004SVUZ  B001DYVHY0  B0002KMHD6\n12  unit_12  B0050SYWGU  B01G6LXXWI  B00PNVOBTC  B0001DHQPI  B001DYVHY0\n13  unit_13  B0029MAXR2  B003TO59D2  B000O39U3Q  B00004SVUZ  B005ZNWT4C\n14  unit_14  B0041RUM0Q  B00006JN5L  B015XC3B46  B0002KMHD6  B00QTSR5GO",
      "text/html": "<div>\n<style scoped>\n    .dataframe tbody tr th:only-of-type {\n        vertical-align: middle;\n    }\n\n    .dataframe tbody tr th {\n        vertical-align: top;\n    }\n\n    .dataframe thead th {\n        text-align: right;\n    }\n</style>\n<table border=\"1\" class=\"dataframe\">\n  <thead>\n    <tr style=\"text-align: right;\">\n      <th></th>\n      <th>HIT</th>\n      <th>Posizione 1</th>\n      <th>Posizione 2</th>\n      <th>Posizione 3</th>\n      <th>Posizione 4</th>\n      <th>Posizione 5</th>\n    </tr>\n  </thead>\n  <tbody>\n    <tr>\n      <th>0</th>\n      <td>unit_0</td>\n      <td>B005ZNWT4C</td>\n      <td>B015XC3B46</td>\n      <td>B0029MAXR2</td>\n      <td>B001DYVHY0</td>\n      <td>B0001DHQPI</td>\n    </tr>\n    <tr>\n      <th>1</th>\n      <td>unit_1</td>\n      <td>B000O39U3Q</td>\n      <td>B00PNVOBTC</td>\n      <td>B003TO59D2</td>\n      <td>B0041RUM0Q</td>\n      <td>B00004SVUZ</td>\n    </tr>\n    <tr>\n      <th>2</th>\n      <td>unit_2</td>\n      <td>B00006JN5L</td>\n      <td>B0050SYWGU</td>\n      <td>B0002KMHD6</td>\n      <td>B00QTSR5GO</td>\n      <td>B01G6LXXWI</td>\n    </tr>\n    <tr>\n      <th>3</th>\n      <td>unit_3</td>\n      <td>B015XC3B46</td>\n      <td>B0041RUM0Q</td>\n      <td>B005ZNWT4C</td>\n      <td>B00004SVUZ</td>\n      <td>B00006JN5L</td>\n    </tr>\n    <tr>\n      <th>4</th>\n      <td>unit_4</td>\n      <td>B0050SYWGU</td>\n      <td>B003TO59D2</td>\n      <td>B0029MAXR2</td>\n      <td>B0002KMHD6</td>\n      <td>B01G6LXXWI</td>\n    </tr>\n    <tr>\n      <th>5</th>\n      <td>unit_5</td>\n      <td>B00QTSR5GO</td>\n      <td>B0001DHQPI</td>\n      <td>B00PNVOBTC</td>\n      <td>B000O39U3Q</td>\n      <td>B001DYVHY0</td>\n    </tr>\n    <tr>\n      <th>6</th>\n      <td>unit_6</td>\n      <td>B000O39U3Q</td>\n      <td>B0041RUM0Q</td>\n      <td>B01G6LXXWI</td>\n      <td>B003TO59D2</td>\n      <td>B00006JN5L</td>\n    </tr>\n    <tr>\n      <th>7</th>\n      <td>unit_7</td>\n      <td>B0002KMHD6</td>\n      <td>B005ZNWT4C</td>\n      <td>B00PNVOBTC</td>\n      <td>B00004SVUZ</td>\n      <td>B0029MAXR2</td>\n    </tr>\n    <tr>\n      <th>8</th>\n      <td>unit_8</td>\n      <td>B015XC3B46</td>\n      <td>B001DYVHY0</td>\n      <td>B0050SYWGU</td>\n      <td>B0001DHQPI</td>\n      <td>B00QTSR5GO</td>\n    </tr>\n    <tr>\n      <th>9</th>\n      <td>unit_9</td>\n      <td>B0050SYWGU</td>\n      <td>B005ZNWT4C</td>\n      <td>B003TO59D2</td>\n      <td>B00QTSR5GO</td>\n      <td>B000O39U3Q</td>\n    </tr>\n    <tr>\n      <th>10</th>\n      <td>unit_10</td>\n      <td>B015XC3B46</td>\n      <td>B0029MAXR2</td>\n      <td>B0001DHQPI</td>\n      <td>B00006JN5L</td>\n      <td>B0041RUM0Q</td>\n    </tr>\n    <tr>\n      <th>11</th>\n      <td>unit_11</td>\n      <td>B00PNVOBTC</td>\n      <td>B01G6LXXWI</td>\n      <td>B00004SVUZ</td>\n      <td>B001DYVHY0</td>\n      <td>B0002KMHD6</td>\n    </tr>\n    <tr>\n      <th>12</th>\n      <td>unit_12</td>\n      <td>B0050SYWGU</td>\n      <td>B01G6LXXWI</td>\n      <td>B00PNVOBTC</td>\n      <td>B0001DHQPI</td>\n      <td>B001DYVHY0</td>\n    </tr>\n    <tr>\n      <th>13</th>\n      <td>unit_13</td>\n      <td>B0029MAXR2</td>\n      <td>B003TO59D2</td>\n      <td>B000O39U3Q</td>\n      <td>B00004SVUZ</td>\n      <td>B005ZNWT4C</td>\n    </tr>\n    <tr>\n      <th>14</th>\n      <td>unit_14</td>\n      <td>B0041RUM0Q</td>\n      <td>B00006JN5L</td>\n      <td>B015XC3B46</td>\n      <td>B0002KMHD6</td>\n      <td>B00QTSR5GO</td>\n    </tr>\n  </tbody>\n</table>\n</div>"
     },
     "execution_count": 12,
     "metadata": {},
     "output_type": "execute_result"
    }
   ],
   "source": [
    "# Dizionario che tiene traccia delle volte in cui una recensione viene inserita in una HIT\n",
    "counterPosition = {value: 5 for value in df_HIT_reviews['product_asin']}\n",
    "\n",
    "# DataFrame per salvare i risultati delle HITs\n",
    "HITs = pd.DataFrame(columns=['HIT', 'Posizione 1', 'Posizione 2', 'Posizione 3', 'Posizione 4', 'Posizione 5'])\n",
    "\n",
    "# Iterazione attraverso le 15 HITs\n",
    "for index in range(15):\n",
    "    # Chiamata alla funzione five_random_elements per ottenere i risultati\n",
    "    results = five_random_elements(counterPosition)\n",
    "    \n",
    "    # Estrae il DataFrame dei risultati (unit) e il dizionario aggiornato\n",
    "    unit = results[0]\n",
    "    counterPosition = results[1]\n",
    "    \n",
    "    # Aggiunge una colonna 'HIT' con l'identificativo dell'unità corrente\n",
    "    unit.insert(0, 'HIT', 'unit_' + str(index))\n",
    "    \n",
    "    # Concatena l'unità corrente al DataFrame principale HITs\n",
    "    HITs = pd.concat([HITs, unit], ignore_index=True)\n",
    "\n",
    "# Salva il DataFrame delle HITs in un file CSV\n",
    "HITs.to_csv(r'HITs.csv', index=False)"
   ]
  },
  {
   "cell_type": "code",
   "execution_count": null,
   "outputs": [],
   "source": [],
   "metadata": {
    "collapsed": false
   },
   "id": "f3ed4659d5110982"
  }
 ],
 "metadata": {
  "kernelspec": {
   "display_name": "Python 3",
   "language": "python",
   "name": "python3"
  },
  "language_info": {
   "codemirror_mode": {
    "name": "ipython",
    "version": 3
   },
   "file_extension": ".py",
   "mimetype": "text/x-python",
   "name": "python",
   "nbconvert_exporter": "python",
   "pygments_lexer": "ipython3",
   "version": "3.11.5"
  }
 },
 "nbformat": 4,
 "nbformat_minor": 5
}
