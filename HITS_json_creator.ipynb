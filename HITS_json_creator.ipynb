{
 "cells": [
  {
   "cell_type": "code",
   "execution_count": 3,
   "id": "initial_id",
   "metadata": {
    "collapsed": true,
    "ExecuteTime": {
     "end_time": "2024-01-15T17:43:03.766172Z",
     "start_time": "2024-01-15T17:43:02.044772Z"
    }
   },
   "outputs": [],
   "source": [
    "import pandas as pd\n",
    "import numpy as np\n",
    "import random\n",
    "import random\n",
    "import string\n",
    "import json\n",
    "import csv"
   ]
  },
  {
   "cell_type": "code",
   "execution_count": 25,
   "id": "d98cd95f",
   "metadata": {},
   "outputs": [],
   "source": [
    "## Importazione dati e definizione costanti\n",
    "\n",
    "df_HIT_reviews = pd.read_csv('df_HIT_reviews.csv')\n",
    "df_HIT_reviews\n",
    "\n",
    "df_HITs = pd.read_csv('HITs.csv')\n",
    "df_HITs\n",
    "\n",
    "## nr di righe nel df\n",
    "UNITS= df_HIT_reviews.shape[0] \n",
    "\n",
    "## path per creare il file hits.json all'interno di Crowd_Frame\n",
    "CROWDFRAMEPATH= 'Crowd_Frame riscaricato/data/build/task/'"
   ]
  },
  {
   "cell_type": "code",
   "execution_count": 26,
   "id": "6a9b3a8e98226794",
   "metadata": {
    "ExecuteTime": {
     "end_time": "2024-01-13T12:44:34.817150Z",
     "start_time": "2024-01-13T12:44:34.778186Z"
    },
    "collapsed": false
   },
   "outputs": [],
   "source": [
    "## Classe Task\n",
    "\n",
    "## Un singolo Task è generato  in base a una riga del data-frame contenente gli Hits (df_HITs)\n",
    "## unit_id: identificativo della task: stringa\n",
    "## token.input: token casuale: stringa\n",
    "## token.output: token casuale: stringa\n",
    "## documents: array contente singoli \"documento\" rappresentati una HIT\n",
    "##\n",
    "##\n",
    "## struttura del singolo documento\n",
    "## \n",
    "## documento = {\n",
    "##             \"id\": asin,\n",
    "##             \"review_time\": , \n",
    "##             \"product_title\": , \n",
    "##             \"product_brand\": ,\n",
    "##             \"review_text\": \n",
    "##         }\n",
    "## \n",
    "class Task:\n",
    "    \n",
    "    def __init__(self, i, my_df):\n",
    "        self.index = i\n",
    "        self.unit_id = None #self.set_unit_id(my_df, i)\n",
    "        self.token_input = None\n",
    "        self.token_output = None\n",
    "        self.documents = None\n",
    "        \n",
    "        self.set_unit_id(my_df, i)\n",
    "        self.token_input = self.set_token()\n",
    "        self.token_output = self.set_token()\n",
    "        self.set_documents(df=df_HITs)\n",
    "        \n",
    "    \n",
    "    ## ricerca unit_id    \n",
    "    ## df: df dove si trova unit_id\n",
    "    ## row: riga dove si trova unit_id\n",
    "    def set_unit_id(self, df, row):\n",
    "        unit_id_value = df.at[row, 'HIT']\n",
    "        self.unit_id= unit_id_value\n",
    "        \n",
    "    \n",
    "    ## genera un token casuale composto da 11 caratteri maiuscoli\n",
    "    def set_token(self):\n",
    "        lunghezza = 11\n",
    "        caratteri_maiuscoli = string.ascii_uppercase\n",
    "        stringa_generata = ''.join(random.choice(caratteri_maiuscoli) for _ in range(lunghezza))\n",
    "        return stringa_generata\n",
    "    \n",
    "    \n",
    "    ## setta i documenti presenti all'interno dell'array documents\n",
    "    def set_documents(self, df):\n",
    "        \n",
    "        documents=[]\n",
    "        \n",
    "        asins = df.iloc[self.index, 1:]\n",
    "        \n",
    "        for asin in asins:\n",
    "            document = self.__document(df=df_HIT_reviews, asin=asin)\n",
    "            documents.append(document)\n",
    "        \n",
    "        self.documents= documents\n",
    "    \n",
    "    ## Ritorna la lunghezza dell'array documents\n",
    "    def document_length(self):\n",
    "        return len(self.documents)\n",
    "    \n",
    "    ## Private\n",
    "    ## estrae i dati dal df contenente le reviews\n",
    "    def __document(self, df, asin):\n",
    "\n",
    "        documento = {\n",
    "            \"id\": asin,\n",
    "            \"review_time\":df.loc[df['product_asin'] == asin, 'review_time'].values[0], \n",
    "            \"product_title\": df.loc[df['product_asin'] == asin, 'product_title'].values[0], \n",
    "            \"product_brand\": df.loc[df['product_asin'] == asin, 'product_brand'].values[0],\n",
    "            \"review_text\": df.loc[df['product_asin'] == asin, 'review_text'].values[0]\n",
    "        }\n",
    "        return documento"
   ]
  },
  {
   "cell_type": "code",
   "execution_count": 27,
   "id": "fb2749a0c6b70283",
   "metadata": {
    "ExecuteTime": {
     "end_time": "2024-01-13T12:44:34.828805Z",
     "start_time": "2024-01-13T12:44:34.814403Z"
    },
    "collapsed": false
   },
   "outputs": [],
   "source": [
    "## Rappresenta l'array che contiene le parti fondamentali di una Task\n",
    "def create_unit(task):\n",
    "        \n",
    "    data = {\n",
    "        \"unit_id\": task.unit_id,\n",
    "        \"token_input\": task.token_input,\n",
    "        \"token_output\": task.token_output,\n",
    "        \"documents_number\": task.document_length(),\n",
    "        \"documents\": task.documents \n",
    "    }\n",
    "\n",
    "    return data\n",
    "\n",
    "    "
   ]
  },
  {
   "cell_type": "code",
   "execution_count": 28,
   "id": "d9040afd2fddbebb",
   "metadata": {
    "ExecuteTime": {
     "end_time": "2024-01-13T12:44:34.976930Z",
     "start_time": "2024-01-13T12:44:34.968906Z"
    },
    "collapsed": false
   },
   "outputs": [],
   "source": [
    "## Array che contiene tutte le HITS\n",
    "HITS = [] \n",
    "\n",
    "for i in range(0,UNITS):\n",
    "    hit= Task(i, my_df=df_HITs)\n",
    "    data = create_unit(hit)\n",
    "    \n",
    "    HITS.append(data)\n",
    "\n",
    "## Crea il file dentro Crowd_Frame    \n",
    "with open(CROWDFRAMEPATH + 'hits.json', 'w') as json_file:\n",
    "    json.dump(HITS, json_file)\n",
    "\n",
    "## Crea il file di controllo   \n",
    "with open('hits.json', 'w') as json_file:\n",
    "    json.dump(HITS, json_file)"
   ]
  },
  {
   "cell_type": "code",
   "execution_count": 27,
   "outputs": [],
   "source": [
    "def extract_tokens_from_json():\n",
    "    \n",
    "    with open('hits.json', 'r') as file:\n",
    "                # Load JSON data from the file\n",
    "                data = json.load(file)\n",
    "    \n",
    "                # Extract all tokens\n",
    "                tokens_list = []\n",
    "                for item in data:\n",
    "                    token_input = item.get(\"token_input\")\n",
    "                    token_output = item.get(\"token_output\")\n",
    "                    tokens_list.append(token_input)\n",
    "                    tokens_list.append(token_output)\n",
    "                \n",
    "    return tokens_list\n",
    "\n",
    "def save_list_to_csv(data_list):\n",
    "        \n",
    "    with open('tokens.csv', 'w', newline='') as csvfile:\n",
    "        csv_writer = csv.writer(csvfile)\n",
    "        csv_writer.writerow(['tokens'] + [''] * (len(data_list) - 1))  # Scritta 'tokens' nella prima colonna\n",
    "        for _ in range(15):\n",
    "            csv_writer.writerow(data_list)\n"
   ],
   "metadata": {
    "collapsed": false,
    "ExecuteTime": {
     "end_time": "2024-01-15T20:38:24.502452Z",
     "start_time": "2024-01-15T20:38:24.489537Z"
    }
   },
   "id": "a345b3200fca621c"
  },
  {
   "cell_type": "code",
   "execution_count": 28,
   "outputs": [],
   "source": [
    "data = extract_tokens_from_json()\n",
    "save_list_to_csv(data)"
   ],
   "metadata": {
    "collapsed": false,
    "ExecuteTime": {
     "end_time": "2024-01-15T20:38:25.044930Z",
     "start_time": "2024-01-15T20:38:25.024813Z"
    }
   },
   "id": "67d4cf0f0fd4ef50"
  },
  {
   "cell_type": "code",
   "execution_count": null,
   "outputs": [],
   "source": [],
   "metadata": {
    "collapsed": false
   },
   "id": "2fb5bd740a25b27a"
  }
 ],
 "metadata": {
  "kernelspec": {
   "display_name": "Python 3",
   "language": "python",
   "name": "python3"
  },
  "language_info": {
   "codemirror_mode": {
    "name": "ipython",
    "version": 3
   },
   "file_extension": ".py",
   "mimetype": "text/x-python",
   "name": "python",
   "nbconvert_exporter": "python",
   "pygments_lexer": "ipython3",
   "version": "3.11.5"
  }
 },
 "nbformat": 4,
 "nbformat_minor": 5
}
