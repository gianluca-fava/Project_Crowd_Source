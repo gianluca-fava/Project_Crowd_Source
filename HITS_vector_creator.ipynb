{
 "cells": [
  {
   "cell_type": "code",
   "execution_count": 3,
   "id": "initial_id",
   "metadata": {
    "ExecuteTime": {
     "end_time": "2024-01-13T12:44:34.775274Z",
     "start_time": "2024-01-13T12:44:30.177032Z"
    },
    "collapsed": true
   },
   "outputs": [],
   "source": [
    "import pandas as pd\n",
    "import numpy as np\n",
    "import random\n",
    "import random\n",
    "import string\n",
    "import json"
   ]
  },
  {
   "cell_type": "code",
   "execution_count": 4,
   "id": "6a9b3a8e98226794",
   "metadata": {
    "ExecuteTime": {
     "end_time": "2024-01-13T12:44:34.817150Z",
     "start_time": "2024-01-13T12:44:34.778186Z"
    },
    "collapsed": false
   },
   "outputs": [],
   "source": [
    "df_HIT_reviews = pd.read_csv('df_HIT_reviews.csv')\n",
    "df_HIT_reviews\n",
    "\n",
    "df_HITs = pd.read_csv('HITs.csv')\n",
    "df_HITs\n",
    "\n",
    "UNITS= df_HIT_reviews.shape[0] ## nr di righe nel df\n",
    "\n",
    "## Un singolo Hit è generato  in base a una riga del data-frame contenente gli Hits (df_HITs)\n",
    "## unit_id: identificativo della task: stringa\n",
    "## token.input: token casuale: stringa\n",
    "## token.output: token casuale: stringa\n",
    "## documents: array contente singoli \"documento\" rappresentati una HIT\n",
    "##\n",
    "##\n",
    "## struttura del singolo documento\n",
    "## \n",
    "## documento = {\n",
    "##             \"id\": asin,\n",
    "##             \"review_time\": , \n",
    "##             \"product_title\": , \n",
    "##             \"product_brand\": ,\n",
    "##             \"review_text\": \n",
    "##         }\n",
    "## \n",
    "class Task:\n",
    "    \n",
    "    def __init__(self, i, my_df):\n",
    "        self.index = i\n",
    "        self.unit_id = self.set_unit_id(my_df, i)\n",
    "        self.token_input = self.set_token()\n",
    "        self.token_output = self.set_token()\n",
    "        self.documents = self.set_documents(df=df_HITs)\n",
    "    \n",
    "    ## ricerca unit_id    \n",
    "    ## df: df dove si trova unit_id\n",
    "    ## row: riga dove si trova unit_id\n",
    "    def set_unit_id(self, df, row):\n",
    "        unit_id_value = df.at[row, 'HIT']\n",
    "        return unit_id_value\n",
    "    \n",
    "    ## genera un token casuale composto da 11 caratteri maiuscoli\n",
    "    def set_token(self):\n",
    "        lunghezza = 11\n",
    "        caratteri_maiuscoli = string.ascii_uppercase\n",
    "        stringa_generata = ''.join(random.choice(caratteri_maiuscoli) for _ in range(lunghezza))\n",
    "        return stringa_generata\n",
    "    \n",
    "    \n",
    "    ## setta i documenti presenti all'interno dell'array documents\n",
    "    def set_documents(self, df):\n",
    "        \n",
    "        documents=[]\n",
    "        \n",
    "        asins = df.iloc[self.index, 1:]\n",
    "        \n",
    "        for asin in asins:\n",
    "            document = self.__document(df=df_HIT_reviews, asin=asin)\n",
    "            documents.append(document)\n",
    "        \n",
    "        return documents\n",
    "    \n",
    "    ## Private\n",
    "    ## estrae i dati dal df contenente le reviews\n",
    "    def __document(self, df, asin):\n",
    "\n",
    "        documento = {\n",
    "            \"id\": asin,\n",
    "            \"review_time\":df.loc[df['product_asin'] == asin, 'review_time'].values[0], \n",
    "            \"product_title\": df.loc[df['product_asin'] == asin, 'product_title'].values[0], \n",
    "            \"product_brand\": df.loc[df['product_asin'] == asin, 'product_brand'].values[0],\n",
    "            \"review_text\": df.loc[df['product_asin'] == asin, 'review_text'].values[0]\n",
    "        }\n",
    "        return documento"
   ]
  },
  {
   "cell_type": "code",
   "execution_count": 5,
   "id": "fb2749a0c6b70283",
   "metadata": {
    "ExecuteTime": {
     "end_time": "2024-01-13T12:44:34.828805Z",
     "start_time": "2024-01-13T12:44:34.814403Z"
    },
    "collapsed": false
   },
   "outputs": [],
   "source": [
    "def create_task(task):\n",
    "        \n",
    "    data = {\n",
    "        \"unit_id\": task.unit_id,\n",
    "        \"token_input\": task.token_input,\n",
    "        \"token_output\": task.token_output,\n",
    "        \"documents_number\": 5,\n",
    "        \"documents\": task.documents\n",
    "    }\n",
    "\n",
    "    return data\n",
    "\n",
    "    "
   ]
  },
  {
   "cell_type": "code",
   "execution_count": 6,
   "id": "d9040afd2fddbebb",
   "metadata": {
    "ExecuteTime": {
     "end_time": "2024-01-13T12:44:34.976930Z",
     "start_time": "2024-01-13T12:44:34.968906Z"
    },
    "collapsed": false
   },
   "outputs": [],
   "source": [
    "json_finale = json.dumps({}, indent=2)\n",
    "\n",
    "HITS = [] \n",
    "\n",
    "for i in range(0,UNITS):\n",
    "    hit= Task(i, my_df=df_HITs)\n",
    "    data = create_task(hit)\n",
    "    \n",
    "    HITS.append(data)\n",
    "    \n",
    "with open('Crowd_Frame riscaricato/data/build/task/hits.json', 'w') as json_file:\n",
    "    json.dump(HITS, json_file)"
   ]
  }
 ],
 "metadata": {
  "kernelspec": {
   "display_name": "Python 3",
   "language": "python",
   "name": "python3"
  },
  "language_info": {
   "codemirror_mode": {
    "name": "ipython",
    "version": 3
   },
   "file_extension": ".py",
   "mimetype": "text/x-python",
   "name": "python",
   "nbconvert_exporter": "python",
   "pygments_lexer": "ipython3",
   "version": "3.11.5"
  }
 },
 "nbformat": 4,
 "nbformat_minor": 5
}
