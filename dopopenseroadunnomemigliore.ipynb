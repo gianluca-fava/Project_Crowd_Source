{
 "cells": [
  {
   "cell_type": "code",
   "execution_count": 1,
   "id": "initial_id",
   "metadata": {
    "ExecuteTime": {
     "end_time": "2023-12-21T16:33:00.659683Z",
     "start_time": "2023-12-21T16:32:48.766971Z"
    },
    "collapsed": true
   },
   "outputs": [],
   "source": [
    "import pandas as pd\n",
    "import numpy as np\n",
    "import random\n",
    "import random\n",
    "import string"
   ]
  },
  {
   "cell_type": "code",
   "execution_count": 27,
   "id": "6a9b3a8e98226794",
   "metadata": {
    "ExecuteTime": {
     "end_time": "2023-12-21T16:33:00.698845Z",
     "start_time": "2023-12-21T16:33:00.663782Z"
    },
    "collapsed": false
   },
   "outputs": [],
   "source": [
    "df_HIT_reviews = pd.read_csv('df_HIT_reviews.csv')\n",
    "df_HIT_reviews\n",
    "\n",
    "df_HITs = pd.read_csv('HITs.csv')\n",
    "df_HITs\n",
    "\n",
    "UNITS= df_HIT_reviews.shape[0] ## nr di righe nel df\n",
    "\n",
    "## Un singolo Hit è generato  in base a una riga del data-frame contenente gli Hits (df_HITs)\n",
    "## unit_id: identificativo della task: stringa\n",
    "## token.input: token casuale: stringa\n",
    "## token.output: token casuale: stringa\n",
    "## documents: array contente singoli \"documento\" rappresentati una HIT\n",
    "##\n",
    "##\n",
    "## struttura del singolo documento\n",
    "## \n",
    "## documento = {\n",
    "##             \"id\": asin,\n",
    "##             \"review_time\": , \n",
    "##             \"product_title\": , \n",
    "##             \"product_brand\": ,\n",
    "##             \"review_text\": \n",
    "##         }\n",
    "## \n",
    "class Task:\n",
    "    \n",
    "    def __init__(self, i, my_df):\n",
    "        self.unit_id = self.set_unit_id(my_df, i)\n",
    "        self.token_input = self.set_token()\n",
    "        self.token_output = self.set_token()\n",
    "        self.documents = self.set_documents()\n",
    "    \n",
    "    ## ricerca unit_id    \n",
    "    ## df: df dove si trova unit_id\n",
    "    ## row: riga dove si trova unit_id\n",
    "    def set_unit_id(self, df, row):\n",
    "        unit_id_value = df.at[row, 'HIT']\n",
    "        return unit_id_value\n",
    "    \n",
    "    ## genera un token casuale composto da 11 caratteri maiuscoli\n",
    "    def set_token(self):\n",
    "        lunghezza = 11\n",
    "        caratteri_maiuscoli = string.ascii_uppercase\n",
    "        stringa_generata = ''.join(random.choice(caratteri_maiuscoli) for _ in range(lunghezza))\n",
    "        return stringa_generata\n",
    "    \n",
    "    \n",
    "    ## setta i documenti presenti all'interno dell'array documents\n",
    "    def set_documents(self):\n",
    "        documents=[]\n",
    "        \n",
    "        ## WORK IN PROGRESS !!\n",
    "        asins=['B005ZNWT4C','B00004SVUZ','B003TO59D2','B01G6LXXWI','B0050SYWGU']\n",
    "        \n",
    "        for asin in asins:\n",
    "            document= self.__document(df=df_HIT_reviews, asin=asin)\n",
    "            documents.append(document)\n",
    "        \n",
    "        return documents\n",
    "    \n",
    "    \n",
    "    ## Private\n",
    "    \n",
    "    ## estrae i dati dal df contenente le reviews\n",
    "    def __document(self, df, asin):\n",
    "\n",
    "        documento = {\n",
    "            \"id\": asin,\n",
    "            \"review_time\":df.loc[df['product_asin'] == asin, 'review_time'].values[0], \n",
    "            \"product_title\": df.loc[df['product_asin'] == asin, 'product_title'].values[0], \n",
    "            \"product_brand\": df.loc[df['product_asin'] == asin, 'product_brand'].values[0],\n",
    "            \"review_text\": df.loc[df['product_asin'] == asin, 'review_text'].values[0]\n",
    "        }\n",
    "        return documento\n",
    "\n",
    "\n",
    "        \n",
    "        \n"
   ]
  },
  {
   "cell_type": "code",
   "execution_count": null,
   "id": "69354418",
   "metadata": {},
   "outputs": [],
   "source": []
  },
  {
   "cell_type": "code",
   "execution_count": 28,
   "id": "d9040afd2fddbebb",
   "metadata": {
    "ExecuteTime": {
     "end_time": "2023-12-21T16:40:13.397093Z",
     "start_time": "2023-12-21T16:40:13.350911Z"
    },
    "collapsed": false
   },
   "outputs": [
    {
     "name": "stdout",
     "output_type": "stream",
     "text": [
      "unit_1\n"
     ]
    }
   ],
   "source": [
    "hit= Task(i=1, my_df=df_HITs)\n",
    "\n",
    "print(hit.unit_id)\n",
    "\n",
    "#print(hit.document(df=df_HIT_reviews, asin=\"B015XC3B46\"))\n",
    "\n"
   ]
  },
  {
   "cell_type": "code",
   "execution_count": null,
   "id": "c6c8bd87fd24a3d2",
   "metadata": {
    "collapsed": false
   },
   "outputs": [],
   "source": []
  }
 ],
 "metadata": {
  "kernelspec": {
   "display_name": "Python 3",
   "language": "python",
   "name": "python3"
  },
  "language_info": {
   "codemirror_mode": {
    "name": "ipython",
    "version": 3
   },
   "file_extension": ".py",
   "mimetype": "text/x-python",
   "name": "python",
   "nbconvert_exporter": "python",
   "pygments_lexer": "ipython3",
   "version": "3.11.5"
  }
 },
 "nbformat": 4,
 "nbformat_minor": 5
}
