{
 "cells": [
  {
   "cell_type": "code",
   "execution_count": 29,
   "id": "initial_id",
   "metadata": {
    "ExecuteTime": {
     "end_time": "2023-12-21T16:33:00.659683Z",
     "start_time": "2023-12-21T16:32:48.766971Z"
    },
    "collapsed": true
   },
   "outputs": [],
   "source": [
    "import pandas as pd\n",
    "import numpy as np\n",
    "import random\n",
    "import random\n",
    "import string"
   ]
  },
  {
   "cell_type": "code",
   "execution_count": 88,
   "id": "6a9b3a8e98226794",
   "metadata": {
    "ExecuteTime": {
     "end_time": "2023-12-21T16:33:00.698845Z",
     "start_time": "2023-12-21T16:33:00.663782Z"
    },
    "collapsed": false
   },
   "outputs": [
    {
     "data": {
      "text/plain": [
       "'        documents=[]\\n        \\n        asinList=[]\\n        for i in asinList:\\n            documents.append(self.document(df=df_reviews, asin=i))'"
      ]
     },
     "execution_count": 88,
     "metadata": {},
     "output_type": "execute_result"
    }
   ],
   "source": [
    "df_HIT_reviews = pd.read_csv('df_HIT_reviews.csv')\n",
    "df_HIT_reviews\n",
    "\n",
    "df_HITs = pd.read_csv('HITs.csv')\n",
    "df_HITs\n",
    "\n",
    "UNITS= df_HIT_reviews.shape[0] ## nr di righe nel df\n",
    "\n",
    "class Hit:\n",
    "    \n",
    "    def __init__(self, i, my_df):\n",
    "        self.unit_id = self.get_unit_id(my_df, i)\n",
    "        self.token_input = self.token_generator()\n",
    "        self.token_output = self.token_generator()\n",
    "        self.documents = []\n",
    "    \n",
    "    def get_unit_id(self, df, i):\n",
    "        unit_id_value = df.at[i, 'HIT']\n",
    "        return unit_id_value\n",
    "    \n",
    "    def token_generator(self):\n",
    "        lunghezza = 11\n",
    "        caratteri_maiuscoli = string.ascii_uppercase\n",
    "        stringa_generata = ''.join(random.choice(caratteri_maiuscoli) for _ in range(lunghezza))\n",
    "        return stringa_generata\n",
    "    \n",
    "    ## Trova l'indice della riga data la colonan e il valore\n",
    "    def index_of_asin(self, df, target, column):\n",
    "        indice_riga = df[df[column] == target].index\n",
    "        return indice_riga[0]\n",
    "    \n",
    "    def document(self, df, asin):\n",
    "        riga= self.index_of_asin(df, asin, 'product_asin')\n",
    "        documento = {\n",
    "            \"id\": asin,\n",
    "            \"review_time\": df.at[riga, 'review_time'], \n",
    "            \"product_title\": df.at[riga, 'product_title'], \n",
    "            \"product_brand\": df.at[riga, 'product_brand'],\n",
    "            \"review_text\": df.at[riga, 'review_text']\n",
    "        }\n",
    "        \n",
    "        return documento\n",
    "    \n",
    "    def documets_filler(self, df_hits, df_reviews):\n",
    "        index= self.index_of_asin(df=df_HITs, target=self.unit_id, column='HIT' )\n",
    "        print (index)\n",
    "\"\"\"        documents=[]\n",
    "        \n",
    "        asinList=[]\n",
    "        for i in asinList:\n",
    "            documents.append(self.document(df=df_reviews, asin=i))\"\"\"\n",
    "        \n",
    "        \n"
   ]
  },
  {
   "cell_type": "code",
   "execution_count": null,
   "id": "69354418",
   "metadata": {},
   "outputs": [],
   "source": []
  },
  {
   "cell_type": "code",
   "execution_count": 94,
   "id": "d9040afd2fddbebb",
   "metadata": {
    "ExecuteTime": {
     "end_time": "2023-12-21T16:40:13.397093Z",
     "start_time": "2023-12-21T16:40:13.350911Z"
    },
    "collapsed": false
   },
   "outputs": [
    {
     "name": "stdout",
     "output_type": "stream",
     "text": [
      "unit_14\n",
      "14\n"
     ]
    }
   ],
   "source": [
    "hit= Hit(i=14, my_df=df_HITs)\n",
    "\n",
    "print(hit.unit_id)\n",
    "\n",
    "hit.documets_filler(df_hits=df_HITs, df_reviews=df_HIT_reviews)\n"
   ]
  },
  {
   "cell_type": "code",
   "execution_count": null,
   "id": "c6c8bd87fd24a3d2",
   "metadata": {
    "collapsed": false
   },
   "outputs": [],
   "source": []
  }
 ],
 "metadata": {
  "kernelspec": {
   "display_name": "Python 3",
   "language": "python",
   "name": "python3"
  },
  "language_info": {
   "codemirror_mode": {
    "name": "ipython",
    "version": 3
   },
   "file_extension": ".py",
   "mimetype": "text/x-python",
   "name": "python",
   "nbconvert_exporter": "python",
   "pygments_lexer": "ipython3",
   "version": "3.11.5"
  }
 },
 "nbformat": 4,
 "nbformat_minor": 5
}
